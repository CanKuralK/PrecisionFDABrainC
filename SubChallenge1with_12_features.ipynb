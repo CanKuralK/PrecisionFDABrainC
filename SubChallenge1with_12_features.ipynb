{
 "cells": [
  {
   "cell_type": "code",
   "execution_count": 1,
   "metadata": {},
   "outputs": [
    {
     "name": "stdout",
     "output_type": "stream",
     "text": [
      "/usr/bin/sh: line 0: cd: /home/kamil.kural/FdaPrecision: No such file or directory\n"
     ]
    }
   ],
   "source": [
    "!cd /home/kamil.kural/FdaPrecision Challenge"
   ]
  },
  {
   "cell_type": "code",
   "execution_count": 2,
   "metadata": {},
   "outputs": [
    {
     "name": "stderr",
     "output_type": "stream",
     "text": [
      "Using TensorFlow backend.\n"
     ]
    }
   ],
   "source": [
    "import numpy as np\n",
    "import pandas as pd\n",
    "import os\n",
    "import copy\n",
    "import matplotlib.pyplot as plt\n",
    "%matplotlib inline\n",
    "from tqdm import tqdm_notebook\n",
    "from sklearn.preprocessing import StandardScaler\n",
    "from sklearn.svm import NuSVR, SVR\n",
    "from sklearn.metrics import mean_absolute_error\n",
    "pd.options.display.precision = 15\n",
    "from collections import defaultdict\n",
    "import lightgbm as lgb\n",
    "import xgboost as xgb\n",
    "import catboost as cat\n",
    "import time\n",
    "import datetime\n",
    "from catboost import CatBoostRegressor\n",
    "from sklearn.preprocessing import LabelEncoder\n",
    "from sklearn.model_selection import StratifiedKFold, KFold, RepeatedKFold, GroupKFold, GridSearchCV, train_test_split, TimeSeriesSplit, RepeatedStratifiedKFold\n",
    "from sklearn import metrics\n",
    "from sklearn.metrics import classification_report, confusion_matrix\n",
    "from sklearn import linear_model\n",
    "import gc\n",
    "import seaborn as sns\n",
    "import warnings\n",
    "warnings.filterwarnings(\"ignore\")\n",
    "import eli5\n",
    "import shap\n",
    "from IPython.display import HTML\n",
    "import json\n",
    "import networkx as nx\n",
    "import matplotlib.pyplot as plt\n",
    "%matplotlib inline\n",
    "from typing import List\n",
    "\n",
    "import os\n",
    "import time\n",
    "import datetime\n",
    "import json\n",
    "import gc\n",
    "from numba import jit\n",
    "\n",
    "import numpy as np\n",
    "import pandas as pd\n",
    "\n",
    "import matplotlib.pyplot as plt\n",
    "import seaborn as sns\n",
    "from tqdm import tqdm_notebook\n",
    "\n",
    "import lightgbm as lgb\n",
    "import xgboost as xgb\n",
    "from catboost import CatBoostRegressor, CatBoostClassifier\n",
    "from sklearn import metrics\n",
    "from typing import Any\n",
    "from itertools import product\n",
    "pd.set_option('max_rows', 500)\n",
    "import re\n",
    "from tqdm import tqdm\n",
    "from joblib import Parallel, delayed"
   ]
  },
  {
   "cell_type": "code",
   "execution_count": 3,
   "metadata": {},
   "outputs": [],
   "source": [
    "from sklearn.ensemble import RandomForestRegressor, RandomForestClassifier,VotingClassifier\n",
    "from sklearn.linear_model import LogisticRegression\n",
    "from sklearn.svm import SVC\n",
    "from IPython.display import display\n",
    "import pandas as pd\n",
    "import numpy as np\n",
    "from sklearn import metrics\n",
    "from sklearn.metrics import precision_score\n",
    "from sklearn.tree import export_graphviz\n",
    "import matplotlib.pyplot as plt\n",
    "from sklearn.preprocessing import LabelEncoder\n",
    "from xgboost.sklearn import XGBClassifier\n",
    "from sklearn.model_selection import GridSearchCV\n",
    "import torch \n",
    "import fastai\n",
    "import bayes_opt\n",
    "import xgboost\n",
    "import lightgbm"
   ]
  },
  {
   "cell_type": "code",
   "execution_count": 4,
   "metadata": {},
   "outputs": [],
   "source": [
    "df1=pd.read_csv ('/home/kamil.kural/FdaPrecision Challenge/sc1_Phase1_GE_FeatureMatrix.tsv', sep='\\t')"
   ]
  },
  {
   "cell_type": "code",
   "execution_count": 5,
   "metadata": {},
   "outputs": [],
   "source": [
    "df2=pd.read_csv ('/home/kamil.kural/FdaPrecision Challenge/sc1_Phase1_GE_Outcome.tsv', sep='\\t')"
   ]
  },
  {
   "cell_type": "code",
   "execution_count": 6,
   "metadata": {},
   "outputs": [],
   "source": [
    "df3=pd.read_csv ('/home/kamil.kural/FdaPrecision Challenge/sc1_Phase1_GE_Phenotype.tsv', sep='\\t')"
   ]
  },
  {
   "cell_type": "code",
   "execution_count": 7,
   "metadata": {},
   "outputs": [],
   "source": [
    "df = pd.merge(df2,\n",
    "                    df1,\n",
    "                    left_index=True,\n",
    "                    right_index=True)\n",
    "df = pd.merge(df,\n",
    "                    df3,\n",
    "                    left_index=True,\n",
    "                    right_index=True)"
   ]
  },
  {
   "cell_type": "code",
   "execution_count": 8,
   "metadata": {},
   "outputs": [],
   "source": [
    "df=df.drop(['PATIENTID','PATIENTID_x','PATIENTID_y'], axis=1)"
   ]
  },
  {
   "cell_type": "code",
   "execution_count": 9,
   "metadata": {},
   "outputs": [],
   "source": [
    "dfnew= df[['PCMTD1', 'ARAP3','DYNLL2' ,'HAUS4', 'C4orf19', 'SMARCC2', 'CASTOR1' ,'PDCD4','SYCP2', 'ACBD4','SMU1' ,'SETD1A']]"
   ]
  },
  {
   "cell_type": "code",
   "execution_count": 10,
   "metadata": {},
   "outputs": [
    {
     "name": "stdout",
     "output_type": "stream",
     "text": [
      "Number of categorical features: 0\n",
      "Number of numerical features: 12\n"
     ]
    }
   ],
   "source": [
    "categorical_list = []\n",
    "numerical_list = []\n",
    "for i in dfnew.columns.tolist():\n",
    "    if dfnew[i].dtype=='object':\n",
    "        categorical_list.append(i)\n",
    "    else:\n",
    "        numerical_list.append(i)\n",
    "print('Number of categorical features:', str(len(categorical_list)))\n",
    "print('Number of numerical features:', str(len(numerical_list)))"
   ]
  },
  {
   "cell_type": "code",
   "execution_count": 11,
   "metadata": {},
   "outputs": [
    {
     "data": {
      "text/html": [
       "[]"
      ],
      "text/plain": [
       "[]"
      ]
     },
     "execution_count": 11,
     "metadata": {},
     "output_type": "execute_result"
    }
   ],
   "source": [
    "categorical_list"
   ]
  },
  {
   "cell_type": "code",
   "execution_count": 12,
   "metadata": {},
   "outputs": [],
   "source": [
    "X = dfnew\n",
    "y = df.SURVIVAL_STATUS\n",
    "feature_name = X.columns.tolist()"
   ]
  },
  {
   "cell_type": "code",
   "execution_count": 13,
   "metadata": {},
   "outputs": [],
   "source": [
    "all_features = [x for x in dfnew.columns if x not in ['SURVIVAL_STATUS']]"
   ]
  },
  {
   "cell_type": "code",
   "execution_count": 14,
   "metadata": {},
   "outputs": [
    {
     "data": {
      "text/plain": [
       "array([1, 1, 1, 1, 1, 1, 1, 1, 1, 1, 1, 1, 1, 1, 1, 1, 1, 1, 1, 1, 1, 1,\n",
       "       1, 1, 1, 1, 1, 1, 1, 1, 1, 1, 1, 1, 1, 1, 1, 0, 1, 0, 1, 1, 1, 0,\n",
       "       1, 1, 1, 0, 1, 1, 1, 0, 1, 0, 1, 1, 1, 1, 1, 0, 1, 1, 0, 1, 1, 1,\n",
       "       1, 1, 0, 1, 1, 1, 1, 1, 1, 1, 1, 0, 1, 0, 1, 1, 1, 1, 1, 1, 1, 0,\n",
       "       1, 1, 1, 1, 1, 1, 1, 0, 1, 0, 1, 1, 1, 1, 1, 1, 1, 1, 1, 1, 1, 1,\n",
       "       0, 1, 1, 0, 1, 1, 0, 1, 1, 0, 1, 1, 1, 1, 1, 1, 1, 0, 1, 1, 1, 0,\n",
       "       0, 0, 1, 1, 0, 1, 1, 1, 1, 1, 0, 1, 1, 1, 0, 0, 1, 1, 0, 1, 1, 1,\n",
       "       1, 1, 1, 0, 1, 1, 0, 1, 1, 1, 1, 1, 0, 1, 1, 0, 0, 1, 0, 1, 1, 1,\n",
       "       1, 1, 1, 1, 0, 0, 0, 0, 0, 1, 1, 1, 1, 1, 1, 1, 1, 0, 0, 1, 0, 1,\n",
       "       0, 1, 0, 1, 1, 1, 1, 1, 1, 0, 1, 1, 1, 1, 1, 1, 1, 0, 1, 1, 1, 0,\n",
       "       0, 1, 1, 0, 0, 1, 1, 1, 1, 1, 1, 1, 1, 1, 1, 1, 1, 1, 1, 1, 1, 1,\n",
       "       1, 1, 1, 1, 1, 1, 1, 1, 1, 1, 1, 1, 1, 1, 1, 1, 1, 1, 1, 1, 1, 1,\n",
       "       1, 1, 1, 1, 1, 1, 1, 1, 1, 1, 1, 1, 1, 1, 1, 1, 1, 1, 1, 1, 1, 1,\n",
       "       1, 1, 1, 1, 1, 1, 1, 1, 1, 1, 1, 1, 1, 1, 1, 1, 1, 1, 1, 1, 1, 1,\n",
       "       1, 1, 1, 1, 1, 1, 1, 1, 1, 1, 1, 1, 1, 1, 1, 1, 1, 1, 1, 1, 1, 1,\n",
       "       1, 1, 1, 1, 1, 1, 1, 1, 1, 1, 1, 1, 1, 1, 1, 1, 1, 1, 1, 1, 1, 1,\n",
       "       1, 1, 1, 1, 1, 1, 1, 1, 1, 1, 1, 1, 1, 1, 1, 0, 1, 1, 1, 1, 0, 1,\n",
       "       1, 1, 1])"
      ]
     },
     "execution_count": 14,
     "metadata": {},
     "output_type": "execute_result"
    }
   ],
   "source": [
    "X, y = df[all_features], df['SURVIVAL_STATUS']\n",
    "labelencoder_y_1 = LabelEncoder()\n",
    "y = labelencoder_y_1.fit_transform(y)\n",
    "y"
   ]
  },
  {
   "cell_type": "code",
   "execution_count": 15,
   "metadata": {},
   "outputs": [],
   "source": [
    "from sklearn import preprocessing\n",
    "scaler = preprocessing.StandardScaler()\n",
    "X=pd.get_dummies(X)\n",
    "X = scaler.fit_transform(X)"
   ]
  },
  {
   "cell_type": "code",
   "execution_count": 16,
   "metadata": {},
   "outputs": [],
   "source": [
    "X_train, X_test, y_train, y_test = train_test_split(X, y, test_size=0.20, random_state=42,stratify=df['SURVIVAL_STATUS'])"
   ]
  },
  {
   "cell_type": "code",
   "execution_count": 17,
   "metadata": {},
   "outputs": [],
   "source": [
    "from bayes_opt import BayesianOptimization\n",
    "from sklearn.model_selection import cross_val_score"
   ]
  },
  {
   "cell_type": "code",
   "execution_count": 174,
   "metadata": {},
   "outputs": [],
   "source": [
    "pbounds = {\n",
    "    'learning_rate': (0.01, 1.0),\n",
    "    'n_estimators': (100,200),\n",
    "    'max_depth': (15,25),\n",
    "    'subsample': (0.5, 1.0),  # Change for big datasets\n",
    "    'colsample': (0.5, 1.0),  # Change for datasets with lots of features\n",
    "    'gamma': (0, 5),\n",
    "    'max_delta_step' : (0,5),\n",
    "    'min_child_weight' : (0,5),\n",
    "    'reg_alpha' : (0.1, 1),\n",
    "    'reg_lambda' : (0.1,1),\n",
    "    'scale_pos_weight' : (0.1, 1)}\n",
    " \n",
    "def xgboost_hyper_param(learning_rate,\n",
    "                        n_estimators,\n",
    "                        max_depth,\n",
    "                        subsample,\n",
    "                        colsample,\n",
    "                        gamma,\n",
    "                        max_delta_step,\n",
    "                        min_child_weight,\n",
    "                        reg_alpha,\n",
    "                        reg_lambda,\n",
    "                        scale_pos_weight):\n",
    " \n",
    "    max_depth = int(max_depth)\n",
    "    n_estimators = int(n_estimators)\n",
    " \n",
    "    clf = XGBClassifier(\n",
    "        max_depth=max_depth,\n",
    "        learning_rate=learning_rate,\n",
    "        n_estimators=n_estimators,\n",
    "        gamma=gamma,\n",
    "        max_delta_step=max_delta_step,\n",
    "        min_child_weight=min_child_weight,\n",
    "        reg_lambda=reg_lambda,\n",
    "        reg_alpha=reg_alpha,\n",
    "        scale_pos_weight=scale_pos_weight)\n",
    "    return np.mean(cross_val_score(clf, X_train, y_train, cv=10, scoring='accuracy',n_jobs=50))\n",
    " \n",
    " \n",
    "optimizer = BayesianOptimization(\n",
    "    f=xgboost_hyper_param,\n",
    "    pbounds=pbounds,\n",
    "    random_state=1)"
   ]
  },
  {
   "cell_type": "code",
   "execution_count": null,
   "metadata": {},
   "outputs": [
    {
     "name": "stdout",
     "output_type": "stream",
     "text": [
      "|   iter    |  target   | colsample |   gamma   | learni... | max_de... | max_depth | min_ch... | n_esti... | reg_alpha | reg_la... | scale_... | subsample |\n",
      "-------------------------------------------------------------------------------------------------------------------------------------------------------------\n",
      "| \u001b[0m 1       \u001b[0m | \u001b[0m 0.8705  \u001b[0m | \u001b[0m 0.7085  \u001b[0m | \u001b[0m 3.602   \u001b[0m | \u001b[0m 0.01011 \u001b[0m | \u001b[0m 1.512   \u001b[0m | \u001b[0m 16.47   \u001b[0m | \u001b[0m 0.4617  \u001b[0m | \u001b[0m 118.6   \u001b[0m | \u001b[0m 0.411   \u001b[0m | \u001b[0m 0.4571  \u001b[0m | \u001b[0m 0.5849  \u001b[0m | \u001b[0m 0.7096  \u001b[0m |\n",
      "| \u001b[95m 2       \u001b[0m | \u001b[95m 0.8905  \u001b[0m | \u001b[95m 0.8426  \u001b[0m | \u001b[95m 1.022   \u001b[0m | \u001b[95m 0.8793  \u001b[0m | \u001b[95m 0.1369  \u001b[0m | \u001b[95m 21.7    \u001b[0m | \u001b[95m 2.087   \u001b[0m | \u001b[95m 155.9   \u001b[0m | \u001b[95m 0.2263  \u001b[0m | \u001b[95m 0.2783  \u001b[0m | \u001b[95m 0.8207  \u001b[0m | \u001b[95m 0.9841  \u001b[0m |\n",
      "| \u001b[0m 3       \u001b[0m | \u001b[0m 0.8604  \u001b[0m | \u001b[0m 0.6567  \u001b[0m | \u001b[0m 3.462   \u001b[0m | \u001b[0m 0.8776  \u001b[0m | \u001b[0m 4.473   \u001b[0m | \u001b[0m 15.85   \u001b[0m | \u001b[0m 0.1953  \u001b[0m | \u001b[0m 117.0   \u001b[0m | \u001b[0m 0.8903  \u001b[0m | \u001b[0m 0.1885  \u001b[0m | \u001b[0m 0.479   \u001b[0m | \u001b[0m 0.9789  \u001b[0m |\n",
      "| \u001b[0m 4       \u001b[0m | \u001b[0m 0.8838  \u001b[0m | \u001b[0m 0.7666  \u001b[0m | \u001b[0m 3.459   \u001b[0m | \u001b[0m 0.3224  \u001b[0m | \u001b[0m 3.433   \u001b[0m | \u001b[0m 23.35   \u001b[0m | \u001b[0m 0.09144 \u001b[0m | \u001b[0m 175.0   \u001b[0m | \u001b[0m 0.99    \u001b[0m | \u001b[0m 0.7733  \u001b[0m | \u001b[0m 0.3524  \u001b[0m | \u001b[0m 0.8946  \u001b[0m |\n",
      "| \u001b[0m 5       \u001b[0m | \u001b[0m 0.8571  \u001b[0m | \u001b[0m 0.5516  \u001b[0m | \u001b[0m 2.239   \u001b[0m | \u001b[0m 0.9095  \u001b[0m | \u001b[0m 1.468   \u001b[0m | \u001b[0m 17.88   \u001b[0m | \u001b[0m 0.6501  \u001b[0m | \u001b[0m 101.9   \u001b[0m | \u001b[0m 0.711   \u001b[0m | \u001b[0m 0.2905  \u001b[0m | \u001b[0m 0.339   \u001b[0m | \u001b[0m 0.7458  \u001b[0m |\n",
      "| \u001b[0m 6       \u001b[0m | \u001b[0m 0.7641  \u001b[0m | \u001b[0m 0.5267  \u001b[0m | \u001b[0m 2.871   \u001b[0m | \u001b[0m 0.1553  \u001b[0m | \u001b[0m 2.947   \u001b[0m | \u001b[0m 22.0    \u001b[0m | \u001b[0m 0.5117  \u001b[0m | \u001b[0m 141.4   \u001b[0m | \u001b[0m 0.725   \u001b[0m | \u001b[0m 0.4728  \u001b[0m | \u001b[0m 0.145   \u001b[0m | \u001b[0m 0.7679  \u001b[0m |\n",
      "| \u001b[0m 7       \u001b[0m | \u001b[0m 0.8141  \u001b[0m | \u001b[0m 0.8319  \u001b[0m | \u001b[0m 2.574   \u001b[0m | \u001b[0m 0.9451  \u001b[0m | \u001b[0m 2.933   \u001b[0m | \u001b[0m 24.03   \u001b[0m | \u001b[0m 0.6874  \u001b[0m | \u001b[0m 113.9   \u001b[0m | \u001b[0m 0.8267  \u001b[0m | \u001b[0m 0.4579  \u001b[0m | \u001b[0m 0.2488  \u001b[0m | \u001b[0m 0.9638  \u001b[0m |\n",
      "| \u001b[0m 8       \u001b[0m | \u001b[0m 0.8705  \u001b[0m | \u001b[0m 0.6739  \u001b[0m | \u001b[0m 3.754   \u001b[0m | \u001b[0m 0.7287  \u001b[0m | \u001b[0m 4.417   \u001b[0m | \u001b[0m 21.24   \u001b[0m | \u001b[0m 3.755   \u001b[0m | \u001b[0m 134.9   \u001b[0m | \u001b[0m 0.3429  \u001b[0m | \u001b[0m 0.9063  \u001b[0m | \u001b[0m 0.4853  \u001b[0m | \u001b[0m 0.9824  \u001b[0m |\n",
      "| \u001b[0m 9       \u001b[0m | \u001b[0m 0.8839  \u001b[0m | \u001b[0m 0.8317  \u001b[0m | \u001b[0m 3.108   \u001b[0m | \u001b[0m 0.1236  \u001b[0m | \u001b[0m 4.747   \u001b[0m | \u001b[0m 19.5    \u001b[0m | \u001b[0m 2.892   \u001b[0m | \u001b[0m 140.8   \u001b[0m | \u001b[0m 0.3133  \u001b[0m | \u001b[0m 0.913   \u001b[0m | \u001b[0m 0.6163  \u001b[0m | \u001b[0m 0.5014  \u001b[0m |\n",
      "| \u001b[0m 10      \u001b[0m | \u001b[0m 0.8805  \u001b[0m | \u001b[0m 0.8086  \u001b[0m | \u001b[0m 1.633   \u001b[0m | \u001b[0m 0.5318  \u001b[0m | \u001b[0m 4.43    \u001b[0m | \u001b[0m 18.57   \u001b[0m | \u001b[0m 4.543   \u001b[0m | \u001b[0m 162.3   \u001b[0m | \u001b[0m 0.1142  \u001b[0m | \u001b[0m 0.9365  \u001b[0m | \u001b[0m 0.7218  \u001b[0m | \u001b[0m 0.9987  \u001b[0m |\n",
      "| \u001b[0m 11      \u001b[0m | \u001b[0m 0.8672  \u001b[0m | \u001b[0m 1.0     \u001b[0m | \u001b[0m 0.0     \u001b[0m | \u001b[0m 1.0     \u001b[0m | \u001b[0m 0.0     \u001b[0m | \u001b[0m 25.0    \u001b[0m | \u001b[0m 5.0     \u001b[0m | \u001b[0m 200.0   \u001b[0m | \u001b[0m 0.1     \u001b[0m | \u001b[0m 1.0     \u001b[0m | \u001b[0m 1.0     \u001b[0m | \u001b[0m 0.5     \u001b[0m |\n",
      "| \u001b[0m 12      \u001b[0m | \u001b[0m 0.8905  \u001b[0m | \u001b[0m 1.0     \u001b[0m | \u001b[0m 0.0     \u001b[0m | \u001b[0m 0.01    \u001b[0m | \u001b[0m 0.0     \u001b[0m | \u001b[0m 15.0    \u001b[0m | \u001b[0m 5.0     \u001b[0m | \u001b[0m 138.4   \u001b[0m | \u001b[0m 0.1     \u001b[0m | \u001b[0m 1.0     \u001b[0m | \u001b[0m 1.0     \u001b[0m | \u001b[0m 0.5     \u001b[0m |\n",
      "| \u001b[0m 13      \u001b[0m | \u001b[0m 0.8739  \u001b[0m | \u001b[0m 1.0     \u001b[0m | \u001b[0m 5.0     \u001b[0m | \u001b[0m 0.01    \u001b[0m | \u001b[0m 5.0     \u001b[0m | \u001b[0m 15.0    \u001b[0m | \u001b[0m 5.0     \u001b[0m | \u001b[0m 116.7   \u001b[0m | \u001b[0m 0.1     \u001b[0m | \u001b[0m 1.0     \u001b[0m | \u001b[0m 1.0     \u001b[0m | \u001b[0m 0.5     \u001b[0m |\n",
      "| \u001b[0m 14      \u001b[0m | \u001b[0m 0.8738  \u001b[0m | \u001b[0m 1.0     \u001b[0m | \u001b[0m 5.0     \u001b[0m | \u001b[0m 1.0     \u001b[0m | \u001b[0m 5.0     \u001b[0m | \u001b[0m 15.0    \u001b[0m | \u001b[0m 5.0     \u001b[0m | \u001b[0m 143.2   \u001b[0m | \u001b[0m 0.1     \u001b[0m | \u001b[0m 1.0     \u001b[0m | \u001b[0m 1.0     \u001b[0m | \u001b[0m 0.5     \u001b[0m |\n",
      "| \u001b[0m 15      \u001b[0m | \u001b[0m 0.8872  \u001b[0m | \u001b[0m 1.0     \u001b[0m | \u001b[0m 0.0     \u001b[0m | \u001b[0m 0.01    \u001b[0m | \u001b[0m 5.0     \u001b[0m | \u001b[0m 25.0    \u001b[0m | \u001b[0m 5.0     \u001b[0m | \u001b[0m 157.1   \u001b[0m | \u001b[0m 0.1     \u001b[0m | \u001b[0m 1.0     \u001b[0m | \u001b[0m 1.0     \u001b[0m | \u001b[0m 0.5     \u001b[0m |\n",
      "| \u001b[0m 16      \u001b[0m | \u001b[0m 0.8473  \u001b[0m | \u001b[0m 1.0     \u001b[0m | \u001b[0m 0.0     \u001b[0m | \u001b[0m 0.01    \u001b[0m | \u001b[0m 0.0     \u001b[0m | \u001b[0m 15.0    \u001b[0m | \u001b[0m 0.0     \u001b[0m | \u001b[0m 184.6   \u001b[0m | \u001b[0m 0.1     \u001b[0m | \u001b[0m 0.1     \u001b[0m | \u001b[0m 1.0     \u001b[0m | \u001b[0m 0.5     \u001b[0m |\n",
      "| \u001b[0m 17      \u001b[0m | \u001b[0m 0.8905  \u001b[0m | \u001b[0m 1.0     \u001b[0m | \u001b[0m 0.0     \u001b[0m | \u001b[0m 0.01    \u001b[0m | \u001b[0m 5.0     \u001b[0m | \u001b[0m 16.25   \u001b[0m | \u001b[0m 5.0     \u001b[0m | \u001b[0m 131.4   \u001b[0m | \u001b[0m 0.1     \u001b[0m | \u001b[0m 1.0     \u001b[0m | \u001b[0m 1.0     \u001b[0m | \u001b[0m 0.5     \u001b[0m |\n",
      "| \u001b[0m 18      \u001b[0m | \u001b[0m 0.8872  \u001b[0m | \u001b[0m 1.0     \u001b[0m | \u001b[0m 0.0     \u001b[0m | \u001b[0m 0.01    \u001b[0m | \u001b[0m 0.0     \u001b[0m | \u001b[0m 25.0    \u001b[0m | \u001b[0m 5.0     \u001b[0m | \u001b[0m 173.7   \u001b[0m | \u001b[0m 0.1     \u001b[0m | \u001b[0m 1.0     \u001b[0m | \u001b[0m 1.0     \u001b[0m | \u001b[0m 0.5     \u001b[0m |\n"
     ]
    }
   ],
   "source": [
    "optimizer.maximize(init_points=10, n_iter=20, acq='ei')"
   ]
  },
  {
   "cell_type": "code",
   "execution_count": 54,
   "metadata": {},
   "outputs": [
    {
     "data": {
      "text/plain": [
       "{'target': 0.8905376344086022,\n",
       " 'params': {'colsample': 0.8426097501983798,\n",
       "  'gamma': 1.0222612486575873,\n",
       "  'learning_rate': 0.879336262027036,\n",
       "  'max_delta_step': 0.13693796598963082,\n",
       "  'max_depth': 21.704675101784023,\n",
       "  'min_child_weight': 2.086524011835635,\n",
       "  'n_estimators': 155.86898284457516,\n",
       "  'reg_alpha': 0.2263482447357104,\n",
       "  'reg_lambda': 0.2782913401763909,\n",
       "  'scale_pos_weight': 0.820670111807983,\n",
       "  'subsample': 0.9841307878596988}}"
      ]
     },
     "execution_count": 54,
     "metadata": {},
     "output_type": "execute_result"
    }
   ],
   "source": [
    "optimizer.max"
   ]
  },
  {
   "cell_type": "code",
   "execution_count": 20,
   "metadata": {},
   "outputs": [],
   "source": [
    "model=XGBClassifier(colsample= 1, gamma= 0, learning_rate= 0.1, max_delta_step= 5, max_depth= 25, min_child_weight= 0.0001, n_estimators= 100, reg_alpha= 0.1, reg_lambda= 1, scale_pos_weight=0.5, subsample= 0.5)"
   ]
  },
  {
   "cell_type": "code",
   "execution_count": 21,
   "metadata": {},
   "outputs": [
    {
     "name": "stdout",
     "output_type": "stream",
     "text": [
      "[0]\tvalidation_0-auc:0.904362\tvalidation_0-error:0.066445\tvalidation_1-auc:0.708333\tvalidation_1-error:0.184211\n",
      "[1]\tvalidation_0-auc:0.964681\tvalidation_0-error:0.083056\tvalidation_1-auc:0.689394\tvalidation_1-error:0.171053\n",
      "[2]\tvalidation_0-auc:0.977908\tvalidation_0-error:0.039867\tvalidation_1-auc:0.705303\tvalidation_1-error:0.131579\n",
      "[3]\tvalidation_0-auc:0.985882\tvalidation_0-error:0.023256\tvalidation_1-auc:0.768182\tvalidation_1-error:0.171053\n",
      "[4]\tvalidation_0-auc:0.986116\tvalidation_0-error:0.043189\tvalidation_1-auc:0.777273\tvalidation_1-error:0.144737\n",
      "[5]\tvalidation_0-auc:0.985084\tvalidation_0-error:0.043189\tvalidation_1-auc:0.769697\tvalidation_1-error:0.157895\n",
      "[6]\tvalidation_0-auc:0.98743\tvalidation_0-error:0.056478\tvalidation_1-auc:0.775\tvalidation_1-error:0.144737\n",
      "[7]\tvalidation_0-auc:0.986679\tvalidation_0-error:0.056478\tvalidation_1-auc:0.763636\tvalidation_1-error:0.157895\n",
      "[8]\tvalidation_0-auc:0.989306\tvalidation_0-error:0.053156\tvalidation_1-auc:0.8\tvalidation_1-error:0.144737\n",
      "[9]\tvalidation_0-auc:0.989212\tvalidation_0-error:0.046512\tvalidation_1-auc:0.803788\tvalidation_1-error:0.157895\n",
      "[10]\tvalidation_0-auc:0.99334\tvalidation_0-error:0.039867\tvalidation_1-auc:0.79697\tvalidation_1-error:0.144737\n",
      "[11]\tvalidation_0-auc:0.995028\tvalidation_0-error:0.049834\tvalidation_1-auc:0.806061\tvalidation_1-error:0.131579\n",
      "[12]\tvalidation_0-auc:0.995966\tvalidation_0-error:0.043189\tvalidation_1-auc:0.790909\tvalidation_1-error:0.144737\n",
      "[13]\tvalidation_0-auc:0.995122\tvalidation_0-error:0.046512\tvalidation_1-auc:0.8\tvalidation_1-error:0.131579\n",
      "[14]\tvalidation_0-auc:0.994841\tvalidation_0-error:0.043189\tvalidation_1-auc:0.801515\tvalidation_1-error:0.144737\n",
      "[15]\tvalidation_0-auc:0.99606\tvalidation_0-error:0.049834\tvalidation_1-auc:0.795455\tvalidation_1-error:0.131579\n",
      "[16]\tvalidation_0-auc:0.99531\tvalidation_0-error:0.039867\tvalidation_1-auc:0.801515\tvalidation_1-error:0.131579\n",
      "[17]\tvalidation_0-auc:0.994747\tvalidation_0-error:0.043189\tvalidation_1-auc:0.793939\tvalidation_1-error:0.131579\n",
      "[18]\tvalidation_0-auc:0.995497\tvalidation_0-error:0.039867\tvalidation_1-auc:0.792424\tvalidation_1-error:0.131579\n",
      "[19]\tvalidation_0-auc:0.995122\tvalidation_0-error:0.043189\tvalidation_1-auc:0.792424\tvalidation_1-error:0.144737\n",
      "[20]\tvalidation_0-auc:0.99606\tvalidation_0-error:0.033223\tvalidation_1-auc:0.777273\tvalidation_1-error:0.131579\n",
      "[21]\tvalidation_0-auc:0.996435\tvalidation_0-error:0.043189\tvalidation_1-auc:0.781818\tvalidation_1-error:0.131579\n",
      "[22]\tvalidation_0-auc:0.996904\tvalidation_0-error:0.043189\tvalidation_1-auc:0.783333\tvalidation_1-error:0.131579\n",
      "[23]\tvalidation_0-auc:0.996904\tvalidation_0-error:0.036545\tvalidation_1-auc:0.789394\tvalidation_1-error:0.131579\n",
      "[24]\tvalidation_0-auc:0.996435\tvalidation_0-error:0.0299\tvalidation_1-auc:0.806061\tvalidation_1-error:0.144737\n",
      "[25]\tvalidation_0-auc:0.996435\tvalidation_0-error:0.033223\tvalidation_1-auc:0.8\tvalidation_1-error:0.144737\n",
      "[26]\tvalidation_0-auc:0.998124\tvalidation_0-error:0.0299\tvalidation_1-auc:0.809091\tvalidation_1-error:0.131579\n",
      "[27]\tvalidation_0-auc:0.998124\tvalidation_0-error:0.023256\tvalidation_1-auc:0.816667\tvalidation_1-error:0.144737\n",
      "[28]\tvalidation_0-auc:0.998499\tvalidation_0-error:0.026578\tvalidation_1-auc:0.80303\tvalidation_1-error:0.144737\n",
      "[29]\tvalidation_0-auc:0.998499\tvalidation_0-error:0.0299\tvalidation_1-auc:0.801515\tvalidation_1-error:0.144737\n",
      "[30]\tvalidation_0-auc:0.99878\tvalidation_0-error:0.0299\tvalidation_1-auc:0.815152\tvalidation_1-error:0.144737\n",
      "[31]\tvalidation_0-auc:0.998874\tvalidation_0-error:0.023256\tvalidation_1-auc:0.818182\tvalidation_1-error:0.131579\n",
      "[32]\tvalidation_0-auc:0.998968\tvalidation_0-error:0.019934\tvalidation_1-auc:0.812121\tvalidation_1-error:0.131579\n",
      "[33]\tvalidation_0-auc:0.998968\tvalidation_0-error:0.019934\tvalidation_1-auc:0.813636\tvalidation_1-error:0.131579\n",
      "[34]\tvalidation_0-auc:0.998874\tvalidation_0-error:0.023256\tvalidation_1-auc:0.815152\tvalidation_1-error:0.118421\n",
      "[35]\tvalidation_0-auc:0.99925\tvalidation_0-error:0.026578\tvalidation_1-auc:0.821212\tvalidation_1-error:0.118421\n",
      "[36]\tvalidation_0-auc:0.999437\tvalidation_0-error:0.023256\tvalidation_1-auc:0.822727\tvalidation_1-error:0.118421\n",
      "[37]\tvalidation_0-auc:0.999437\tvalidation_0-error:0.016611\tvalidation_1-auc:0.815152\tvalidation_1-error:0.118421\n",
      "[38]\tvalidation_0-auc:0.999625\tvalidation_0-error:0.016611\tvalidation_1-auc:0.813636\tvalidation_1-error:0.118421\n",
      "[39]\tvalidation_0-auc:0.999625\tvalidation_0-error:0.013289\tvalidation_1-auc:0.816667\tvalidation_1-error:0.118421\n",
      "[40]\tvalidation_0-auc:0.999719\tvalidation_0-error:0.013289\tvalidation_1-auc:0.822727\tvalidation_1-error:0.118421\n",
      "[41]\tvalidation_0-auc:0.999906\tvalidation_0-error:0.013289\tvalidation_1-auc:0.825758\tvalidation_1-error:0.118421\n",
      "[42]\tvalidation_0-auc:0.999906\tvalidation_0-error:0.013289\tvalidation_1-auc:0.824242\tvalidation_1-error:0.118421\n",
      "[43]\tvalidation_0-auc:1\tvalidation_0-error:0.009967\tvalidation_1-auc:0.833333\tvalidation_1-error:0.118421\n",
      "[44]\tvalidation_0-auc:1\tvalidation_0-error:0.013289\tvalidation_1-auc:0.831818\tvalidation_1-error:0.118421\n",
      "[45]\tvalidation_0-auc:1\tvalidation_0-error:0.009967\tvalidation_1-auc:0.828788\tvalidation_1-error:0.118421\n",
      "[46]\tvalidation_0-auc:1\tvalidation_0-error:0.009967\tvalidation_1-auc:0.830303\tvalidation_1-error:0.118421\n",
      "[47]\tvalidation_0-auc:1\tvalidation_0-error:0.009967\tvalidation_1-auc:0.833333\tvalidation_1-error:0.118421\n",
      "[48]\tvalidation_0-auc:1\tvalidation_0-error:0.009967\tvalidation_1-auc:0.830303\tvalidation_1-error:0.118421\n",
      "[49]\tvalidation_0-auc:1\tvalidation_0-error:0.009967\tvalidation_1-auc:0.828788\tvalidation_1-error:0.118421\n",
      "[50]\tvalidation_0-auc:1\tvalidation_0-error:0.006645\tvalidation_1-auc:0.827273\tvalidation_1-error:0.118421\n",
      "[51]\tvalidation_0-auc:1\tvalidation_0-error:0.009967\tvalidation_1-auc:0.830303\tvalidation_1-error:0.118421\n",
      "[52]\tvalidation_0-auc:1\tvalidation_0-error:0.009967\tvalidation_1-auc:0.828788\tvalidation_1-error:0.118421\n",
      "[53]\tvalidation_0-auc:1\tvalidation_0-error:0.006645\tvalidation_1-auc:0.824242\tvalidation_1-error:0.118421\n",
      "[54]\tvalidation_0-auc:1\tvalidation_0-error:0.009967\tvalidation_1-auc:0.825758\tvalidation_1-error:0.118421\n",
      "[55]\tvalidation_0-auc:1\tvalidation_0-error:0.006645\tvalidation_1-auc:0.821212\tvalidation_1-error:0.118421\n",
      "[56]\tvalidation_0-auc:1\tvalidation_0-error:0.006645\tvalidation_1-auc:0.821212\tvalidation_1-error:0.118421\n",
      "[57]\tvalidation_0-auc:1\tvalidation_0-error:0\tvalidation_1-auc:0.815152\tvalidation_1-error:0.118421\n",
      "[58]\tvalidation_0-auc:1\tvalidation_0-error:0.003322\tvalidation_1-auc:0.815152\tvalidation_1-error:0.118421\n",
      "[59]\tvalidation_0-auc:1\tvalidation_0-error:0.003322\tvalidation_1-auc:0.812121\tvalidation_1-error:0.118421\n",
      "[60]\tvalidation_0-auc:1\tvalidation_0-error:0.003322\tvalidation_1-auc:0.812121\tvalidation_1-error:0.118421\n",
      "[61]\tvalidation_0-auc:1\tvalidation_0-error:0.003322\tvalidation_1-auc:0.810606\tvalidation_1-error:0.118421\n",
      "[62]\tvalidation_0-auc:1\tvalidation_0-error:0.003322\tvalidation_1-auc:0.818182\tvalidation_1-error:0.118421\n",
      "[63]\tvalidation_0-auc:1\tvalidation_0-error:0.006645\tvalidation_1-auc:0.822727\tvalidation_1-error:0.118421\n",
      "[64]\tvalidation_0-auc:1\tvalidation_0-error:0.003322\tvalidation_1-auc:0.819697\tvalidation_1-error:0.118421\n",
      "[65]\tvalidation_0-auc:1\tvalidation_0-error:0.003322\tvalidation_1-auc:0.821212\tvalidation_1-error:0.131579\n",
      "[66]\tvalidation_0-auc:1\tvalidation_0-error:0.003322\tvalidation_1-auc:0.821212\tvalidation_1-error:0.131579\n",
      "[67]\tvalidation_0-auc:1\tvalidation_0-error:0\tvalidation_1-auc:0.822727\tvalidation_1-error:0.131579\n",
      "[68]\tvalidation_0-auc:1\tvalidation_0-error:0.003322\tvalidation_1-auc:0.825758\tvalidation_1-error:0.131579\n",
      "[69]\tvalidation_0-auc:1\tvalidation_0-error:0.003322\tvalidation_1-auc:0.819697\tvalidation_1-error:0.118421\n",
      "[70]\tvalidation_0-auc:1\tvalidation_0-error:0.003322\tvalidation_1-auc:0.821212\tvalidation_1-error:0.131579\n",
      "[71]\tvalidation_0-auc:1\tvalidation_0-error:0.003322\tvalidation_1-auc:0.824242\tvalidation_1-error:0.131579\n",
      "[72]\tvalidation_0-auc:1\tvalidation_0-error:0.003322\tvalidation_1-auc:0.824242\tvalidation_1-error:0.118421\n",
      "[73]\tvalidation_0-auc:1\tvalidation_0-error:0.003322\tvalidation_1-auc:0.824242\tvalidation_1-error:0.131579\n",
      "[74]\tvalidation_0-auc:1\tvalidation_0-error:0.003322\tvalidation_1-auc:0.828788\tvalidation_1-error:0.131579\n",
      "[75]\tvalidation_0-auc:1\tvalidation_0-error:0.003322\tvalidation_1-auc:0.818182\tvalidation_1-error:0.118421\n",
      "[76]\tvalidation_0-auc:1\tvalidation_0-error:0.003322\tvalidation_1-auc:0.822727\tvalidation_1-error:0.118421\n",
      "[77]\tvalidation_0-auc:1\tvalidation_0-error:0.003322\tvalidation_1-auc:0.827273\tvalidation_1-error:0.118421\n",
      "[78]\tvalidation_0-auc:1\tvalidation_0-error:0.003322\tvalidation_1-auc:0.827273\tvalidation_1-error:0.118421\n",
      "[79]\tvalidation_0-auc:1\tvalidation_0-error:0.003322\tvalidation_1-auc:0.824242\tvalidation_1-error:0.118421\n",
      "[80]\tvalidation_0-auc:1\tvalidation_0-error:0.003322\tvalidation_1-auc:0.819697\tvalidation_1-error:0.118421\n",
      "[81]\tvalidation_0-auc:1\tvalidation_0-error:0\tvalidation_1-auc:0.815152\tvalidation_1-error:0.118421\n",
      "[82]\tvalidation_0-auc:1\tvalidation_0-error:0\tvalidation_1-auc:0.815152\tvalidation_1-error:0.118421\n",
      "[83]\tvalidation_0-auc:1\tvalidation_0-error:0\tvalidation_1-auc:0.819697\tvalidation_1-error:0.118421\n",
      "[84]\tvalidation_0-auc:1\tvalidation_0-error:0\tvalidation_1-auc:0.813636\tvalidation_1-error:0.118421\n",
      "[85]\tvalidation_0-auc:1\tvalidation_0-error:0\tvalidation_1-auc:0.816667\tvalidation_1-error:0.118421\n",
      "[86]\tvalidation_0-auc:1\tvalidation_0-error:0\tvalidation_1-auc:0.816667\tvalidation_1-error:0.118421\n",
      "[87]\tvalidation_0-auc:1\tvalidation_0-error:0\tvalidation_1-auc:0.818182\tvalidation_1-error:0.118421\n",
      "[88]\tvalidation_0-auc:1\tvalidation_0-error:0\tvalidation_1-auc:0.818182\tvalidation_1-error:0.118421\n",
      "[89]\tvalidation_0-auc:1\tvalidation_0-error:0\tvalidation_1-auc:0.818182\tvalidation_1-error:0.118421\n",
      "[90]\tvalidation_0-auc:1\tvalidation_0-error:0\tvalidation_1-auc:0.819697\tvalidation_1-error:0.118421\n",
      "[91]\tvalidation_0-auc:1\tvalidation_0-error:0\tvalidation_1-auc:0.819697\tvalidation_1-error:0.118421\n",
      "[92]\tvalidation_0-auc:1\tvalidation_0-error:0\tvalidation_1-auc:0.819697\tvalidation_1-error:0.118421\n",
      "[93]\tvalidation_0-auc:1\tvalidation_0-error:0\tvalidation_1-auc:0.821212\tvalidation_1-error:0.118421\n",
      "[94]\tvalidation_0-auc:1\tvalidation_0-error:0\tvalidation_1-auc:0.819697\tvalidation_1-error:0.118421\n",
      "[95]\tvalidation_0-auc:1\tvalidation_0-error:0\tvalidation_1-auc:0.822727\tvalidation_1-error:0.118421\n",
      "[96]\tvalidation_0-auc:1\tvalidation_0-error:0\tvalidation_1-auc:0.822727\tvalidation_1-error:0.118421\n",
      "[97]\tvalidation_0-auc:1\tvalidation_0-error:0\tvalidation_1-auc:0.822727\tvalidation_1-error:0.118421\n",
      "[98]\tvalidation_0-auc:1\tvalidation_0-error:0\tvalidation_1-auc:0.825758\tvalidation_1-error:0.118421\n",
      "[99]\tvalidation_0-auc:1\tvalidation_0-error:0\tvalidation_1-auc:0.827273\tvalidation_1-error:0.118421\n",
      "CPU times: user 99.4 ms, sys: 4.07 ms, total: 104 ms\n",
      "Wall time: 90.9 ms\n"
     ]
    },
    {
     "data": {
      "text/plain": [
       "XGBClassifier(base_score=0.5, booster='gbtree', colsample=1,\n",
       "              colsample_bylevel=1, colsample_bynode=1, colsample_bytree=1,\n",
       "              gamma=0, learning_rate=0.1, max_delta_step=5, max_depth=25,\n",
       "              min_child_weight=0.0001, missing=None, n_estimators=100, n_jobs=1,\n",
       "              nthread=None, objective='binary:logistic', random_state=0,\n",
       "              reg_alpha=0.1, reg_lambda=1, scale_pos_weight=0.5, seed=None,\n",
       "              silent=None, subsample=0.5, verbosity=1)"
      ]
     },
     "execution_count": 21,
     "metadata": {},
     "output_type": "execute_result"
    }
   ],
   "source": [
    "eval_set = [(X_train, y_train), (X_test, y_test)]\n",
    "eval_metric = [\"auc\",\"error\"]\n",
    "%time model.fit(X_train,y_train,eval_metric =eval_metric, eval_set=eval_set, verbose=True)"
   ]
  },
  {
   "cell_type": "code",
   "execution_count": 64,
   "metadata": {},
   "outputs": [],
   "source": [
    "pred=model.predict(X)"
   ]
  },
  {
   "cell_type": "code",
   "execution_count": 65,
   "metadata": {},
   "outputs": [
    {
     "name": "stdout",
     "output_type": "stream",
     "text": [
      "Specificity :  0.8431372549019608\n",
      "Sensitivity :  0.9969325153374233\n",
      "Accuracy :  0.9761273209549072\n",
      "Confusion Matrix : \n",
      " [ 43   8   1 325]\n"
     ]
    }
   ],
   "source": [
    "from sklearn.metrics import confusion_matrix\n",
    "from sklearn.metrics import classification_report\n",
    "tn, fp, fn, tp = confusion_matrix(df['SURVIVAL_STATUS'], pred,labels=[0,1]).ravel()\n",
    "cm=confusion_matrix(df['SURVIVAL_STATUS'], pred,labels=[0,1]).ravel()\n",
    "total=sum(cm)\n",
    "accuracy=(tp+tn)/(tp+tn+fn+fp)\n",
    "sensitivity = tp/(tp+fn)\n",
    "specificity = tn/(tn+fp)\n",
    "print('Specificity : ', specificity)\n",
    "print('Sensitivity : ', sensitivity )\n",
    "print ('Accuracy : ', accuracy)\n",
    "print('Confusion Matrix : \\n', cm)"
   ]
  },
  {
   "cell_type": "code",
   "execution_count": 66,
   "metadata": {},
   "outputs": [
    {
     "data": {
      "text/plain": [
       "0.9200348851196921"
      ]
     },
     "execution_count": 66,
     "metadata": {},
     "output_type": "execute_result"
    }
   ],
   "source": [
    "from sklearn.metrics import roc_auc_score\n",
    "roc_auc_score(df['SURVIVAL_STATUS'], pred)"
   ]
  },
  {
   "cell_type": "code",
   "execution_count": 80,
   "metadata": {},
   "outputs": [],
   "source": [
    "from sklearn.ensemble import RandomForestClassifier\n",
    "pbounds = {\n",
    "    \n",
    "    'n_estimators': (100,500),\n",
    "    'max_depth': (20, 500),  # Change for big datasets\n",
    "    'min_samples_split': (0.1, 1),  # Change for datasets with lots of features\n",
    "                                }\n",
    " \n",
    "def rf_hyper_param(\n",
    "                        n_estimators,\n",
    "                        max_depth,\n",
    "                        min_samples_split,\n",
    "                        \n",
    "                        ):\n",
    " \n",
    "    max_depth = int(max_depth)\n",
    "    n_estimators = int(n_estimators)\n",
    " \n",
    "    clf = RandomForestClassifier(\n",
    "        max_depth=max_depth,\n",
    "        n_estimators=n_estimators,\n",
    "        min_samples_split=min_samples_split,\n",
    "        \n",
    "        )\n",
    "    return np.mean(cross_val_score(clf, X_train, y_train, cv=10, scoring='roc_auc',n_jobs=50))\n",
    " \n",
    " \n",
    "optimizer = BayesianOptimization(\n",
    "    f=rf_hyper_param,\n",
    "    pbounds=pbounds,\n",
    "    random_state=1)"
   ]
  },
  {
   "cell_type": "code",
   "execution_count": 81,
   "metadata": {},
   "outputs": [
    {
     "name": "stdout",
     "output_type": "stream",
     "text": [
      "|   iter    |  target   | max_depth | min_sa... | n_esti... |\n",
      "-------------------------------------------------------------\n",
      "| \u001b[0m 1       \u001b[0m | \u001b[0m 0.5     \u001b[0m | \u001b[0m 220.2   \u001b[0m | \u001b[0m 0.7483  \u001b[0m | \u001b[0m 100.0   \u001b[0m |\n",
      "| \u001b[95m 2       \u001b[0m | \u001b[95m 0.8551  \u001b[0m | \u001b[95m 165.1   \u001b[0m | \u001b[95m 0.2321  \u001b[0m | \u001b[95m 136.9   \u001b[0m |\n",
      "| \u001b[0m 3       \u001b[0m | \u001b[0m 0.8399  \u001b[0m | \u001b[0m 109.4   \u001b[0m | \u001b[0m 0.411   \u001b[0m | \u001b[0m 258.7   \u001b[0m |\n",
      "| \u001b[0m 4       \u001b[0m | \u001b[0m 0.8472  \u001b[0m | \u001b[0m 278.6   \u001b[0m | \u001b[0m 0.4773  \u001b[0m | \u001b[0m 374.1   \u001b[0m |\n",
      "| \u001b[0m 5       \u001b[0m | \u001b[0m 0.5     \u001b[0m | \u001b[0m 118.1   \u001b[0m | \u001b[0m 0.8903  \u001b[0m | \u001b[0m 111.0   \u001b[0m |\n",
      "| \u001b[0m 6       \u001b[0m | \u001b[0m 0.8519  \u001b[0m | \u001b[0m 341.8   \u001b[0m | \u001b[0m 0.4756  \u001b[0m | \u001b[0m 323.5   \u001b[0m |\n",
      "| \u001b[0m 7       \u001b[0m | \u001b[0m 0.8468  \u001b[0m | \u001b[0m 87.39   \u001b[0m | \u001b[0m 0.2783  \u001b[0m | \u001b[0m 420.3   \u001b[0m |\n",
      "| \u001b[0m 8       \u001b[0m | \u001b[0m 0.846   \u001b[0m | \u001b[0m 484.8   \u001b[0m | \u001b[0m 0.3821  \u001b[0m | \u001b[0m 376.9   \u001b[0m |\n",
      "| \u001b[0m 9       \u001b[0m | \u001b[0m 0.5     \u001b[0m | \u001b[0m 440.7   \u001b[0m | \u001b[0m 0.9051  \u001b[0m | \u001b[0m 134.0   \u001b[0m |\n",
      "| \u001b[0m 10      \u001b[0m | \u001b[0m 0.852   \u001b[0m | \u001b[0m 38.75   \u001b[0m | \u001b[0m 0.2528  \u001b[0m | \u001b[0m 451.3   \u001b[0m |\n",
      "| \u001b[95m 11      \u001b[0m | \u001b[95m 0.8554  \u001b[0m | \u001b[95m 198.9   \u001b[0m | \u001b[95m 0.1     \u001b[0m | \u001b[95m 217.3   \u001b[0m |\n",
      "| \u001b[0m 12      \u001b[0m | \u001b[0m 0.849   \u001b[0m | \u001b[0m 373.4   \u001b[0m | \u001b[0m 0.1     \u001b[0m | \u001b[0m 500.0   \u001b[0m |\n",
      "| \u001b[0m 13      \u001b[0m | \u001b[0m 0.849   \u001b[0m | \u001b[0m 186.5   \u001b[0m | \u001b[0m 0.1     \u001b[0m | \u001b[0m 500.0   \u001b[0m |\n",
      "| \u001b[0m 14      \u001b[0m | \u001b[0m 0.5     \u001b[0m | \u001b[0m 500.0   \u001b[0m | \u001b[0m 1.0     \u001b[0m | \u001b[0m 500.0   \u001b[0m |\n",
      "| \u001b[0m 15      \u001b[0m | \u001b[0m 0.848   \u001b[0m | \u001b[0m 500.0   \u001b[0m | \u001b[0m 0.1     \u001b[0m | \u001b[0m 270.8   \u001b[0m |\n",
      "| \u001b[0m 16      \u001b[0m | \u001b[0m 0.8531  \u001b[0m | \u001b[0m 162.3   \u001b[0m | \u001b[0m 0.1     \u001b[0m | \u001b[0m 181.1   \u001b[0m |\n",
      "| \u001b[0m 17      \u001b[0m | \u001b[0m 0.8469  \u001b[0m | \u001b[0m 20.0    \u001b[0m | \u001b[0m 0.1     \u001b[0m | \u001b[0m 339.9   \u001b[0m |\n",
      "| \u001b[0m 18      \u001b[0m | \u001b[0m 0.5     \u001b[0m | \u001b[0m 288.3   \u001b[0m | \u001b[0m 1.0     \u001b[0m | \u001b[0m 500.0   \u001b[0m |\n",
      "| \u001b[0m 19      \u001b[0m | \u001b[0m 0.8507  \u001b[0m | \u001b[0m 106.6   \u001b[0m | \u001b[0m 0.1     \u001b[0m | \u001b[0m 500.0   \u001b[0m |\n",
      "| \u001b[0m 20      \u001b[0m | \u001b[0m 0.8523  \u001b[0m | \u001b[0m 401.9   \u001b[0m | \u001b[0m 0.1     \u001b[0m | \u001b[0m 414.5   \u001b[0m |\n",
      "| \u001b[0m 21      \u001b[0m | \u001b[0m 0.8473  \u001b[0m | \u001b[0m 180.9   \u001b[0m | \u001b[0m 0.1     \u001b[0m | \u001b[0m 337.3   \u001b[0m |\n",
      "| \u001b[0m 22      \u001b[0m | \u001b[0m 0.8433  \u001b[0m | \u001b[0m 444.2   \u001b[0m | \u001b[0m 0.1     \u001b[0m | \u001b[0m 321.1   \u001b[0m |\n",
      "| \u001b[0m 23      \u001b[0m | \u001b[0m 0.851   \u001b[0m | \u001b[0m 263.6   \u001b[0m | \u001b[0m 0.1     \u001b[0m | \u001b[0m 301.5   \u001b[0m |\n",
      "| \u001b[0m 24      \u001b[0m | \u001b[0m 0.8488  \u001b[0m | \u001b[0m 161.1   \u001b[0m | \u001b[0m 0.1     \u001b[0m | \u001b[0m 450.8   \u001b[0m |\n",
      "| \u001b[0m 25      \u001b[0m | \u001b[0m 0.8455  \u001b[0m | \u001b[0m 93.8    \u001b[0m | \u001b[0m 0.1     \u001b[0m | \u001b[0m 327.5   \u001b[0m |\n",
      "| \u001b[0m 26      \u001b[0m | \u001b[0m 0.8553  \u001b[0m | \u001b[0m 405.3   \u001b[0m | \u001b[0m 0.1     \u001b[0m | \u001b[0m 489.6   \u001b[0m |\n",
      "| \u001b[0m 27      \u001b[0m | \u001b[0m 0.8544  \u001b[0m | \u001b[0m 500.0   \u001b[0m | \u001b[0m 0.1     \u001b[0m | \u001b[0m 327.0   \u001b[0m |\n",
      "| \u001b[0m 28      \u001b[0m | \u001b[0m 0.8514  \u001b[0m | \u001b[0m 152.7   \u001b[0m | \u001b[0m 0.1     \u001b[0m | \u001b[0m 500.0   \u001b[0m |\n",
      "| \u001b[0m 29      \u001b[0m | \u001b[0m 0.8511  \u001b[0m | \u001b[0m 20.0    \u001b[0m | \u001b[0m 0.1     \u001b[0m | \u001b[0m 500.0   \u001b[0m |\n",
      "| \u001b[0m 30      \u001b[0m | \u001b[0m 0.8406  \u001b[0m | \u001b[0m 181.4   \u001b[0m | \u001b[0m 0.1     \u001b[0m | \u001b[0m 159.0   \u001b[0m |\n",
      "=============================================================\n"
     ]
    }
   ],
   "source": [
    "optimizer.maximize(init_points=10, n_iter=20, acq='ei')"
   ]
  },
  {
   "cell_type": "code",
   "execution_count": 24,
   "metadata": {},
   "outputs": [],
   "source": [
    "randomforest = RandomForestClassifier(criterion='gini',n_estimators=217,max_depth=200,min_samples_split=0.1,min_impurity_decrease=0.0,min_weight_fraction_leaf=0.0,max_features='auto', min_samples_leaf=3,random_state=0,oob_score=True,class_weight='balanced_subsample')"
   ]
  },
  {
   "cell_type": "code",
   "execution_count": 25,
   "metadata": {},
   "outputs": [
    {
     "data": {
      "text/plain": [
       "RandomForestClassifier(bootstrap=True, class_weight='balanced_subsample',\n",
       "                       criterion='gini', max_depth=200, max_features='auto',\n",
       "                       max_leaf_nodes=None, min_impurity_decrease=0.0,\n",
       "                       min_impurity_split=None, min_samples_leaf=3,\n",
       "                       min_samples_split=0.1, min_weight_fraction_leaf=0.0,\n",
       "                       n_estimators=217, n_jobs=None, oob_score=True,\n",
       "                       random_state=0, verbose=0, warm_start=False)"
      ]
     },
     "execution_count": 25,
     "metadata": {},
     "output_type": "execute_result"
    }
   ],
   "source": [
    "randomforest.fit(X_train,y_train)"
   ]
  },
  {
   "cell_type": "code",
   "execution_count": 67,
   "metadata": {},
   "outputs": [
    {
     "name": "stdout",
     "output_type": "stream",
     "text": [
      "Specificity :  0.8431372549019608\n",
      "Sensitivity :  0.9171779141104295\n",
      "Accuracy :  0.9071618037135278\n",
      "Confusion Matrix : \n",
      " [ 43   8  27 299]\n"
     ]
    }
   ],
   "source": [
    "pred=randomforest.predict(X)\n",
    "from sklearn.metrics import confusion_matrix\n",
    "from sklearn.metrics import classification_report\n",
    "tn, fp, fn, tp = confusion_matrix(df['SURVIVAL_STATUS'], pred,labels=[0,1]).ravel()\n",
    "cm=confusion_matrix(df['SURVIVAL_STATUS'], pred,labels=[0,1]).ravel()\n",
    "total=sum(cm)\n",
    "accuracy=(tp+tn)/(tp+tn+fn+fp)\n",
    "sensitivity = tp/(tp+fn)\n",
    "specificity = tn/(tn+fp)\n",
    "print('Specificity : ', specificity)\n",
    "print('Sensitivity : ', sensitivity )\n",
    "print ('Accuracy : ', accuracy)\n",
    "print('Confusion Matrix : \\n', cm)"
   ]
  },
  {
   "cell_type": "code",
   "execution_count": 68,
   "metadata": {},
   "outputs": [
    {
     "data": {
      "text/plain": [
       "0.8801575845061951"
      ]
     },
     "execution_count": 68,
     "metadata": {},
     "output_type": "execute_result"
    }
   ],
   "source": [
    "roc_auc_score(df['SURVIVAL_STATUS'], pred)"
   ]
  },
  {
   "cell_type": "code",
   "execution_count": 27,
   "metadata": {},
   "outputs": [
    {
     "data": {
      "text/plain": [
       "GridSearchCV(cv=5, error_score='raise-deprecating',\n",
       "             estimator=LogisticRegression(C=1.0, class_weight='balanced',\n",
       "                                          dual=False, fit_intercept=True,\n",
       "                                          intercept_scaling=1, l1_ratio=None,\n",
       "                                          max_iter=100, multi_class='warn',\n",
       "                                          n_jobs=50, penalty='l2',\n",
       "                                          random_state=None, solver='warn',\n",
       "                                          tol=0.0001, verbose=1000,\n",
       "                                          warm_start=False),\n",
       "             iid='warn', n_jobs=None,\n",
       "             param_grid={'C': [0.001, 0.01, 0.1, 1, 10, 100, 1000]},\n",
       "             pre_dispatch='2*n_jobs', refit=True, return_train_score=False,\n",
       "             scoring=None, verbose=0)"
      ]
     },
     "execution_count": 27,
     "metadata": {},
     "output_type": "execute_result"
    }
   ],
   "source": [
    "param_grid = {'C': [0.001, 0.01, 0.1, 1, 10, 100, 1000] }\n",
    "clf = GridSearchCV(LogisticRegression(penalty='l2'), param_grid)\n",
    "GridSearchCV(cv=5,\n",
    "             estimator=LogisticRegression(C=1.0, intercept_scaling=1, class_weight='balanced' ,\n",
    "               dual=False, fit_intercept=True, penalty='l2', tol=0.0001,n_jobs=50,verbose= 1000),\n",
    "             param_grid={'C': [0.001, 0.01, 0.1, 1, 10, 100, 1000]})"
   ]
  },
  {
   "cell_type": "code",
   "execution_count": 28,
   "metadata": {},
   "outputs": [
    {
     "data": {
      "text/plain": [
       "GridSearchCV(cv='warn', error_score='raise-deprecating',\n",
       "             estimator=LogisticRegression(C=1.0, class_weight=None, dual=False,\n",
       "                                          fit_intercept=True,\n",
       "                                          intercept_scaling=1, l1_ratio=None,\n",
       "                                          max_iter=100, multi_class='warn',\n",
       "                                          n_jobs=None, penalty='l2',\n",
       "                                          random_state=None, solver='warn',\n",
       "                                          tol=0.0001, verbose=0,\n",
       "                                          warm_start=False),\n",
       "             iid='warn', n_jobs=None,\n",
       "             param_grid={'C': [0.001, 0.01, 0.1, 1, 10, 100, 1000]},\n",
       "             pre_dispatch='2*n_jobs', refit=True, return_train_score=False,\n",
       "             scoring=None, verbose=0)"
      ]
     },
     "execution_count": 28,
     "metadata": {},
     "output_type": "execute_result"
    }
   ],
   "source": [
    "clf.fit(X_train,y_train)"
   ]
  },
  {
   "cell_type": "code",
   "execution_count": 29,
   "metadata": {},
   "outputs": [],
   "source": [
    "best_params = clf.best_params_"
   ]
  },
  {
   "cell_type": "code",
   "execution_count": 30,
   "metadata": {},
   "outputs": [
    {
     "data": {
      "text/plain": [
       "{'C': 0.1}"
      ]
     },
     "execution_count": 30,
     "metadata": {},
     "output_type": "execute_result"
    }
   ],
   "source": [
    "best_params"
   ]
  },
  {
   "cell_type": "code",
   "execution_count": 37,
   "metadata": {},
   "outputs": [],
   "source": [
    "lr1=LogisticRegression(C=0.001,class_weight='balanced', dual=False,\n",
    "                                          fit_intercept=True,\n",
    "                                          intercept_scaling=1, l1_ratio=None,\n",
    "                                          max_iter=300, multi_class='ovr',\n",
    "                                          n_jobs=20, penalty='l2',\n",
    "                                          random_state=None, solver='lbfgs',\n",
    "                                          tol=1e-7, verbose=1,\n",
    "                                          warm_start=False)"
   ]
  },
  {
   "cell_type": "code",
   "execution_count": 38,
   "metadata": {},
   "outputs": [
    {
     "name": "stderr",
     "output_type": "stream",
     "text": [
      "[Parallel(n_jobs=20)]: Using backend LokyBackend with 20 concurrent workers.\n",
      "[Parallel(n_jobs=20)]: Done   1 out of   1 | elapsed:    0.5s finished\n"
     ]
    },
    {
     "data": {
      "text/plain": [
       "LogisticRegression(C=0.001, class_weight='balanced', dual=False,\n",
       "                   fit_intercept=True, intercept_scaling=1, l1_ratio=None,\n",
       "                   max_iter=300, multi_class='ovr', n_jobs=20, penalty='l2',\n",
       "                   random_state=None, solver='lbfgs', tol=1e-07, verbose=1,\n",
       "                   warm_start=False)"
      ]
     },
     "execution_count": 38,
     "metadata": {},
     "output_type": "execute_result"
    }
   ],
   "source": [
    "lr1.fit(X_train,y_train)"
   ]
  },
  {
   "cell_type": "code",
   "execution_count": 69,
   "metadata": {},
   "outputs": [
    {
     "name": "stdout",
     "output_type": "stream",
     "text": [
      "Specificity :  0.6470588235294118\n",
      "Sensitivity :  0.7944785276073619\n",
      "Accuracy :  0.7745358090185677\n",
      "Confusion Matrix : \n",
      " [ 33  18  67 259]\n"
     ]
    }
   ],
   "source": [
    "pred=lr1.predict(X)\n",
    "from sklearn.metrics import confusion_matrix\n",
    "from sklearn.metrics import classification_report\n",
    "tn, fp, fn, tp = confusion_matrix(df['SURVIVAL_STATUS'], pred,labels=[0,1]).ravel()\n",
    "cm=confusion_matrix(df['SURVIVAL_STATUS'], pred,labels=[0,1]).ravel()\n",
    "total=sum(cm)\n",
    "accuracy=(tp+tn)/(tp+tn+fn+fp)\n",
    "sensitivity = tp/(tp+fn)\n",
    "specificity = tn/(tn+fp)\n",
    "print('Specificity : ', specificity)\n",
    "print('Sensitivity : ', sensitivity )\n",
    "print ('Accuracy : ', accuracy)\n",
    "print('Confusion Matrix : \\n', cm)"
   ]
  },
  {
   "cell_type": "code",
   "execution_count": 70,
   "metadata": {},
   "outputs": [
    {
     "data": {
      "text/plain": [
       "0.7207686755683869"
      ]
     },
     "execution_count": 70,
     "metadata": {},
     "output_type": "execute_result"
    }
   ],
   "source": [
    "roc_auc_score(df['SURVIVAL_STATUS'], pred)"
   ]
  },
  {
   "cell_type": "code",
   "execution_count": 40,
   "metadata": {},
   "outputs": [
    {
     "name": "stdout",
     "output_type": "stream",
     "text": [
      "              precision    recall  f1-score   support\n",
      "\n",
      "           0       0.33      0.65      0.44        51\n",
      "           1       0.94      0.79      0.86       326\n",
      "\n",
      "    accuracy                           0.77       377\n",
      "   macro avg       0.63      0.72      0.65       377\n",
      "weighted avg       0.85      0.77      0.80       377\n",
      "\n"
     ]
    }
   ],
   "source": [
    "print(classification_report(y, pred))"
   ]
  },
  {
   "cell_type": "code",
   "execution_count": 41,
   "metadata": {},
   "outputs": [],
   "source": [
    "def lgb_eval(num_leaves, feature_fraction, bagging_fraction, max_depth, lambda_l1, lambda_l2, min_split_gain, min_child_weight):\n",
    "    params = {'application':'binary','num_iterations':300, 'learning_rate':0.05, 'early_stopping_round':100, 'metric':'auc'}\n",
    "    params[\"num_leaves\"] = round(num_leaves)\n",
    "    params['feature_fraction'] = max(min(feature_fraction, 1), 0)\n",
    "    params['bagging_fraction'] = max(min(bagging_fraction, 1), 0)\n",
    "    params['max_depth'] = round(max_depth)\n",
    "    params['lambda_l1'] = max(lambda_l1, 0)\n",
    "    params['lambda_l2'] = max(lambda_l2, 0)\n",
    "    params['min_split_gain'] = min_split_gain\n",
    "    params['min_child_weight'] = min_child_weight\n",
    "    cv_result = lgb.cv(params, train_data, nfold=n_folds, seed=random_seed, stratified=True, verbose_eval =200, metrics=['auc'])\n",
    "    return max(cv_result['auc-mean'])"
   ]
  },
  {
   "cell_type": "code",
   "execution_count": 42,
   "metadata": {},
   "outputs": [],
   "source": [
    "lgbBO = BayesianOptimization(lgb_eval, {'num_leaves': (24, 45),\n",
    "                                        'feature_fraction': (0.1, 0.9),\n",
    "                                        'bagging_fraction': (0.8, 1),\n",
    "                                        'max_depth': (5, 8.99),\n",
    "                                        'lambda_l1': (0, 5),\n",
    "                                        'lambda_l2': (0, 3),\n",
    "                                        'min_split_gain': (0.001, 0.1),\n",
    "                                        'min_child_weight': (5, 50)}, random_state=0)"
   ]
  },
  {
   "cell_type": "code",
   "execution_count": 43,
   "metadata": {},
   "outputs": [
    {
     "name": "stdout",
     "output_type": "stream",
     "text": [
      "|   iter    |  target   | baggin... | featur... | lambda_l1 | lambda_l2 | max_depth | min_ch... | min_sp... | num_le... |\n",
      "-------------------------------------------------------------------------------------------------------------------------\n",
      "| \u001b[0m 1       \u001b[0m | \u001b[0m 0.7579  \u001b[0m | \u001b[0m 0.9098  \u001b[0m | \u001b[0m 0.6722  \u001b[0m | \u001b[0m 3.014   \u001b[0m | \u001b[0m 1.635   \u001b[0m | \u001b[0m 13.47   \u001b[0m | \u001b[0m 6.813   \u001b[0m | \u001b[0m 0.04432 \u001b[0m | \u001b[0m 42.73   \u001b[0m |\n",
      "| \u001b[0m 2       \u001b[0m | \u001b[0m 0.748   \u001b[0m | \u001b[0m 0.9927  \u001b[0m | \u001b[0m 0.4068  \u001b[0m | \u001b[0m 3.959   \u001b[0m | \u001b[0m 1.587   \u001b[0m | \u001b[0m 16.36   \u001b[0m | \u001b[0m 9.33    \u001b[0m | \u001b[0m 0.008033\u001b[0m | \u001b[0m 25.83   \u001b[0m |\n",
      "| \u001b[0m 3       \u001b[0m | \u001b[0m 0.7504  \u001b[0m | \u001b[0m 0.804   \u001b[0m | \u001b[0m 0.7661  \u001b[0m | \u001b[0m 3.891   \u001b[0m | \u001b[0m 2.61    \u001b[0m | \u001b[0m 24.57   \u001b[0m | \u001b[0m 8.192   \u001b[0m | \u001b[0m 0.04669 \u001b[0m | \u001b[0m 40.39   \u001b[0m |\n",
      "| \u001b[0m 4       \u001b[0m | \u001b[0m 0.7302  \u001b[0m | \u001b[0m 0.8237  \u001b[0m | \u001b[0m 0.6119  \u001b[0m | \u001b[0m 0.7168  \u001b[0m | \u001b[0m 2.834   \u001b[0m | \u001b[0m 15.44   \u001b[0m | \u001b[0m 4.732   \u001b[0m | \u001b[0m 0.02719 \u001b[0m | \u001b[0m 40.26   \u001b[0m |\n",
      "| \u001b[0m 5       \u001b[0m | \u001b[0m 0.7407  \u001b[0m | \u001b[0m 0.8912  \u001b[0m | \u001b[0m 0.5547  \u001b[0m | \u001b[0m 0.09395 \u001b[0m | \u001b[0m 1.853   \u001b[0m | \u001b[0m 17.24   \u001b[0m | \u001b[0m 6.552   \u001b[0m | \u001b[0m 0.09443 \u001b[0m | \u001b[0m 38.32   \u001b[0m |\n",
      "| \u001b[95m 6       \u001b[0m | \u001b[95m 0.7808  \u001b[0m | \u001b[95m 0.8719  \u001b[0m | \u001b[95m 0.4496  \u001b[0m | \u001b[95m 3.488   \u001b[0m | \u001b[95m 0.1807  \u001b[0m | \u001b[95m 18.34   \u001b[0m | \u001b[95m 7.036   \u001b[0m | \u001b[95m 0.02183 \u001b[0m | \u001b[95m 26.71   \u001b[0m |\n",
      "| \u001b[95m 7       \u001b[0m | \u001b[95m 0.8009  \u001b[0m | \u001b[95m 0.8631  \u001b[0m | \u001b[95m 0.391   \u001b[0m | \u001b[95m 2.851   \u001b[0m | \u001b[95m 1.316   \u001b[0m | \u001b[95m 24.77   \u001b[0m | \u001b[95m 1.918   \u001b[0m | \u001b[95m 0.02168 \u001b[0m | \u001b[95m 27.39   \u001b[0m |\n",
      "| \u001b[0m 8       \u001b[0m | \u001b[0m 0.8008  \u001b[0m | \u001b[0m 0.9306  \u001b[0m | \u001b[0m 0.3026  \u001b[0m | \u001b[0m 2.332   \u001b[0m | \u001b[0m 0.7333  \u001b[0m | \u001b[0m 8.179   \u001b[0m | \u001b[0m 1.993   \u001b[0m | \u001b[0m 0.06598 \u001b[0m | \u001b[0m 26.9    \u001b[0m |\n",
      "| \u001b[0m 9       \u001b[0m | \u001b[0m 0.7938  \u001b[0m | \u001b[0m 0.8393  \u001b[0m | \u001b[0m 0.395   \u001b[0m | \u001b[0m 4.105   \u001b[0m | \u001b[0m 0.2913  \u001b[0m | \u001b[0m 21.76   \u001b[0m | \u001b[0m 1.865   \u001b[0m | \u001b[0m 0.09767 \u001b[0m | \u001b[0m 33.84   \u001b[0m |\n",
      "| \u001b[0m 10      \u001b[0m | \u001b[0m 0.784   \u001b[0m | \u001b[0m 0.9954  \u001b[0m | \u001b[0m 0.5839  \u001b[0m | \u001b[0m 3.696   \u001b[0m | \u001b[0m 0.1176  \u001b[0m | \u001b[0m 10.66   \u001b[0m | \u001b[0m 2.082   \u001b[0m | \u001b[0m 0.03032 \u001b[0m | \u001b[0m 26.49   \u001b[0m |\n"
     ]
    },
    {
     "ename": "KeyboardInterrupt",
     "evalue": "",
     "output_type": "error",
     "traceback": [
      "\u001b[0;31m---------------------------------------------------------------------------\u001b[0m",
      "\u001b[0;31mStopIteration\u001b[0m                             Traceback (most recent call last)",
      "\u001b[0;32m/hive/Anaconda3-2019.10/lib/python3.7/site-packages/bayes_opt/bayesian_optimization.py\u001b[0m in \u001b[0;36mmaximize\u001b[0;34m(self, init_points, n_iter, acq, kappa, xi, **gp_params)\u001b[0m\n\u001b[1;32m    168\u001b[0m             \u001b[0;32mtry\u001b[0m\u001b[0;34m:\u001b[0m\u001b[0;34m\u001b[0m\u001b[0;34m\u001b[0m\u001b[0m\n\u001b[0;32m--> 169\u001b[0;31m                 \u001b[0mx_probe\u001b[0m \u001b[0;34m=\u001b[0m \u001b[0mnext\u001b[0m\u001b[0;34m(\u001b[0m\u001b[0mself\u001b[0m\u001b[0;34m.\u001b[0m\u001b[0m_queue\u001b[0m\u001b[0;34m)\u001b[0m\u001b[0;34m\u001b[0m\u001b[0;34m\u001b[0m\u001b[0m\n\u001b[0m\u001b[1;32m    170\u001b[0m             \u001b[0;32mexcept\u001b[0m \u001b[0mStopIteration\u001b[0m\u001b[0;34m:\u001b[0m\u001b[0;34m\u001b[0m\u001b[0;34m\u001b[0m\u001b[0m\n",
      "\u001b[0;32m/hive/Anaconda3-2019.10/lib/python3.7/site-packages/bayes_opt/bayesian_optimization.py\u001b[0m in \u001b[0;36m__next__\u001b[0;34m(self)\u001b[0m\n\u001b[1;32m     25\u001b[0m         \u001b[0;32mif\u001b[0m \u001b[0mself\u001b[0m\u001b[0;34m.\u001b[0m\u001b[0mempty\u001b[0m\u001b[0;34m:\u001b[0m\u001b[0;34m\u001b[0m\u001b[0;34m\u001b[0m\u001b[0m\n\u001b[0;32m---> 26\u001b[0;31m             \u001b[0;32mraise\u001b[0m \u001b[0mStopIteration\u001b[0m\u001b[0;34m(\u001b[0m\u001b[0;34m\"Queue is empty, no more objects to retrieve.\"\u001b[0m\u001b[0;34m)\u001b[0m\u001b[0;34m\u001b[0m\u001b[0;34m\u001b[0m\u001b[0m\n\u001b[0m\u001b[1;32m     27\u001b[0m         \u001b[0mobj\u001b[0m \u001b[0;34m=\u001b[0m \u001b[0mself\u001b[0m\u001b[0;34m.\u001b[0m\u001b[0m_queue\u001b[0m\u001b[0;34m[\u001b[0m\u001b[0;36m0\u001b[0m\u001b[0;34m]\u001b[0m\u001b[0;34m\u001b[0m\u001b[0;34m\u001b[0m\u001b[0m\n",
      "\u001b[0;31mStopIteration\u001b[0m: Queue is empty, no more objects to retrieve.",
      "\nDuring handling of the above exception, another exception occurred:\n",
      "\u001b[0;31mKeyboardInterrupt\u001b[0m                         Traceback (most recent call last)",
      "\u001b[0;32m<ipython-input-43-6a57fb42a438>\u001b[0m in \u001b[0;36m<module>\u001b[0;34m\u001b[0m\n\u001b[1;32m     33\u001b[0m \u001b[0;34m\u001b[0m\u001b[0m\n\u001b[1;32m     34\u001b[0m \u001b[0;34m\u001b[0m\u001b[0m\n\u001b[0;32m---> 35\u001b[0;31m \u001b[0mopt_params\u001b[0m \u001b[0;34m=\u001b[0m \u001b[0mbayes_parameter_opt_lgb\u001b[0m\u001b[0;34m(\u001b[0m\u001b[0mX_train\u001b[0m\u001b[0;34m,\u001b[0m \u001b[0my_train\u001b[0m\u001b[0;34m,\u001b[0m \u001b[0minit_round\u001b[0m\u001b[0;34m=\u001b[0m\u001b[0;36m10\u001b[0m\u001b[0;34m,\u001b[0m \u001b[0mopt_round\u001b[0m\u001b[0;34m=\u001b[0m\u001b[0;36m20\u001b[0m\u001b[0;34m,\u001b[0m \u001b[0mn_folds\u001b[0m\u001b[0;34m=\u001b[0m\u001b[0;36m5\u001b[0m\u001b[0;34m,\u001b[0m \u001b[0mrandom_seed\u001b[0m\u001b[0;34m=\u001b[0m\u001b[0;36m0\u001b[0m\u001b[0;34m,\u001b[0m \u001b[0mn_estimators\u001b[0m\u001b[0;34m=\u001b[0m\u001b[0;36m100\u001b[0m\u001b[0;34m,\u001b[0m \u001b[0mlearning_rate\u001b[0m\u001b[0;34m=\u001b[0m\u001b[0;36m0.01\u001b[0m\u001b[0;34m)\u001b[0m\u001b[0;34m\u001b[0m\u001b[0;34m\u001b[0m\u001b[0m\n\u001b[0m",
      "\u001b[0;32m<ipython-input-43-6a57fb42a438>\u001b[0m in \u001b[0;36mbayes_parameter_opt_lgb\u001b[0;34m(X_train, y_train, init_round, opt_round, n_folds, random_seed, n_estimators, learning_rate, output_process)\u001b[0m\n\u001b[1;32m     25\u001b[0m                                             'min_child_weight': (1, 10)}, random_state=0)\n\u001b[1;32m     26\u001b[0m     \u001b[0;31m# optimize\u001b[0m\u001b[0;34m\u001b[0m\u001b[0;34m\u001b[0m\u001b[0;34m\u001b[0m\u001b[0m\n\u001b[0;32m---> 27\u001b[0;31m     \u001b[0mlgbBO\u001b[0m\u001b[0;34m.\u001b[0m\u001b[0mmaximize\u001b[0m\u001b[0;34m(\u001b[0m\u001b[0minit_points\u001b[0m\u001b[0;34m=\u001b[0m\u001b[0minit_round\u001b[0m\u001b[0;34m,\u001b[0m \u001b[0mn_iter\u001b[0m\u001b[0;34m=\u001b[0m\u001b[0mopt_round\u001b[0m\u001b[0;34m)\u001b[0m\u001b[0;34m\u001b[0m\u001b[0;34m\u001b[0m\u001b[0m\n\u001b[0m\u001b[1;32m     28\u001b[0m \u001b[0;34m\u001b[0m\u001b[0m\n\u001b[1;32m     29\u001b[0m     \u001b[0;31m# output optimization process\u001b[0m\u001b[0;34m\u001b[0m\u001b[0;34m\u001b[0m\u001b[0;34m\u001b[0m\u001b[0m\n",
      "\u001b[0;32m/hive/Anaconda3-2019.10/lib/python3.7/site-packages/bayes_opt/bayesian_optimization.py\u001b[0m in \u001b[0;36mmaximize\u001b[0;34m(self, init_points, n_iter, acq, kappa, xi, **gp_params)\u001b[0m\n\u001b[1;32m    169\u001b[0m                 \u001b[0mx_probe\u001b[0m \u001b[0;34m=\u001b[0m \u001b[0mnext\u001b[0m\u001b[0;34m(\u001b[0m\u001b[0mself\u001b[0m\u001b[0;34m.\u001b[0m\u001b[0m_queue\u001b[0m\u001b[0;34m)\u001b[0m\u001b[0;34m\u001b[0m\u001b[0;34m\u001b[0m\u001b[0m\n\u001b[1;32m    170\u001b[0m             \u001b[0;32mexcept\u001b[0m \u001b[0mStopIteration\u001b[0m\u001b[0;34m:\u001b[0m\u001b[0;34m\u001b[0m\u001b[0;34m\u001b[0m\u001b[0m\n\u001b[0;32m--> 171\u001b[0;31m                 \u001b[0mx_probe\u001b[0m \u001b[0;34m=\u001b[0m \u001b[0mself\u001b[0m\u001b[0;34m.\u001b[0m\u001b[0msuggest\u001b[0m\u001b[0;34m(\u001b[0m\u001b[0mutil\u001b[0m\u001b[0;34m)\u001b[0m\u001b[0;34m\u001b[0m\u001b[0;34m\u001b[0m\u001b[0m\n\u001b[0m\u001b[1;32m    172\u001b[0m                 \u001b[0miteration\u001b[0m \u001b[0;34m+=\u001b[0m \u001b[0;36m1\u001b[0m\u001b[0;34m\u001b[0m\u001b[0;34m\u001b[0m\u001b[0m\n\u001b[1;32m    173\u001b[0m \u001b[0;34m\u001b[0m\u001b[0m\n",
      "\u001b[0;32m/hive/Anaconda3-2019.10/lib/python3.7/site-packages/bayes_opt/bayesian_optimization.py\u001b[0m in \u001b[0;36msuggest\u001b[0;34m(self, utility_function)\u001b[0m\n\u001b[1;32m    130\u001b[0m             \u001b[0my_max\u001b[0m\u001b[0;34m=\u001b[0m\u001b[0mself\u001b[0m\u001b[0;34m.\u001b[0m\u001b[0m_space\u001b[0m\u001b[0;34m.\u001b[0m\u001b[0mtarget\u001b[0m\u001b[0;34m.\u001b[0m\u001b[0mmax\u001b[0m\u001b[0;34m(\u001b[0m\u001b[0;34m)\u001b[0m\u001b[0;34m,\u001b[0m\u001b[0;34m\u001b[0m\u001b[0;34m\u001b[0m\u001b[0m\n\u001b[1;32m    131\u001b[0m             \u001b[0mbounds\u001b[0m\u001b[0;34m=\u001b[0m\u001b[0mself\u001b[0m\u001b[0;34m.\u001b[0m\u001b[0m_space\u001b[0m\u001b[0;34m.\u001b[0m\u001b[0mbounds\u001b[0m\u001b[0;34m,\u001b[0m\u001b[0;34m\u001b[0m\u001b[0;34m\u001b[0m\u001b[0m\n\u001b[0;32m--> 132\u001b[0;31m             \u001b[0mrandom_state\u001b[0m\u001b[0;34m=\u001b[0m\u001b[0mself\u001b[0m\u001b[0;34m.\u001b[0m\u001b[0m_random_state\u001b[0m\u001b[0;34m\u001b[0m\u001b[0;34m\u001b[0m\u001b[0m\n\u001b[0m\u001b[1;32m    133\u001b[0m         )\n\u001b[1;32m    134\u001b[0m \u001b[0;34m\u001b[0m\u001b[0m\n",
      "\u001b[0;32m/hive/Anaconda3-2019.10/lib/python3.7/site-packages/bayes_opt/util.py\u001b[0m in \u001b[0;36macq_max\u001b[0;34m(ac, gp, y_max, bounds, random_state, n_warmup, n_iter)\u001b[0m\n\u001b[1;32m     56\u001b[0m                        \u001b[0mx_try\u001b[0m\u001b[0;34m.\u001b[0m\u001b[0mreshape\u001b[0m\u001b[0;34m(\u001b[0m\u001b[0;36m1\u001b[0m\u001b[0;34m,\u001b[0m \u001b[0;34m-\u001b[0m\u001b[0;36m1\u001b[0m\u001b[0;34m)\u001b[0m\u001b[0;34m,\u001b[0m\u001b[0;34m\u001b[0m\u001b[0;34m\u001b[0m\u001b[0m\n\u001b[1;32m     57\u001b[0m                        \u001b[0mbounds\u001b[0m\u001b[0;34m=\u001b[0m\u001b[0mbounds\u001b[0m\u001b[0;34m,\u001b[0m\u001b[0;34m\u001b[0m\u001b[0;34m\u001b[0m\u001b[0m\n\u001b[0;32m---> 58\u001b[0;31m                        method=\"L-BFGS-B\")\n\u001b[0m\u001b[1;32m     59\u001b[0m \u001b[0;34m\u001b[0m\u001b[0m\n\u001b[1;32m     60\u001b[0m         \u001b[0;31m# See if success\u001b[0m\u001b[0;34m\u001b[0m\u001b[0;34m\u001b[0m\u001b[0;34m\u001b[0m\u001b[0m\n",
      "\u001b[0;32m/hive/Anaconda3-2019.10/lib/python3.7/site-packages/scipy/optimize/_minimize.py\u001b[0m in \u001b[0;36mminimize\u001b[0;34m(fun, x0, args, method, jac, hess, hessp, bounds, constraints, tol, callback, options)\u001b[0m\n\u001b[1;32m    598\u001b[0m     \u001b[0;32melif\u001b[0m \u001b[0mmeth\u001b[0m \u001b[0;34m==\u001b[0m \u001b[0;34m'l-bfgs-b'\u001b[0m\u001b[0;34m:\u001b[0m\u001b[0;34m\u001b[0m\u001b[0;34m\u001b[0m\u001b[0m\n\u001b[1;32m    599\u001b[0m         return _minimize_lbfgsb(fun, x0, args, jac, bounds,\n\u001b[0;32m--> 600\u001b[0;31m                                 callback=callback, **options)\n\u001b[0m\u001b[1;32m    601\u001b[0m     \u001b[0;32melif\u001b[0m \u001b[0mmeth\u001b[0m \u001b[0;34m==\u001b[0m \u001b[0;34m'tnc'\u001b[0m\u001b[0;34m:\u001b[0m\u001b[0;34m\u001b[0m\u001b[0;34m\u001b[0m\u001b[0m\n\u001b[1;32m    602\u001b[0m         return _minimize_tnc(fun, x0, args, jac, bounds, callback=callback,\n",
      "\u001b[0;32m/hive/Anaconda3-2019.10/lib/python3.7/site-packages/scipy/optimize/lbfgsb.py\u001b[0m in \u001b[0;36m_minimize_lbfgsb\u001b[0;34m(fun, x0, args, jac, bounds, disp, maxcor, ftol, gtol, eps, maxfun, maxiter, iprint, callback, maxls, **unknown_options)\u001b[0m\n\u001b[1;32m    333\u001b[0m             \u001b[0;31m# until the completion of the current minimization iteration.\u001b[0m\u001b[0;34m\u001b[0m\u001b[0;34m\u001b[0m\u001b[0;34m\u001b[0m\u001b[0m\n\u001b[1;32m    334\u001b[0m             \u001b[0;31m# Overwrite f and g:\u001b[0m\u001b[0;34m\u001b[0m\u001b[0;34m\u001b[0m\u001b[0;34m\u001b[0m\u001b[0m\n\u001b[0;32m--> 335\u001b[0;31m             \u001b[0mf\u001b[0m\u001b[0;34m,\u001b[0m \u001b[0mg\u001b[0m \u001b[0;34m=\u001b[0m \u001b[0mfunc_and_grad\u001b[0m\u001b[0;34m(\u001b[0m\u001b[0mx\u001b[0m\u001b[0;34m)\u001b[0m\u001b[0;34m\u001b[0m\u001b[0;34m\u001b[0m\u001b[0m\n\u001b[0m\u001b[1;32m    336\u001b[0m         \u001b[0;32melif\u001b[0m \u001b[0mtask_str\u001b[0m\u001b[0;34m.\u001b[0m\u001b[0mstartswith\u001b[0m\u001b[0;34m(\u001b[0m\u001b[0;34mb'NEW_X'\u001b[0m\u001b[0;34m)\u001b[0m\u001b[0;34m:\u001b[0m\u001b[0;34m\u001b[0m\u001b[0;34m\u001b[0m\u001b[0m\n\u001b[1;32m    337\u001b[0m             \u001b[0;31m# new iteration\u001b[0m\u001b[0;34m\u001b[0m\u001b[0;34m\u001b[0m\u001b[0;34m\u001b[0m\u001b[0m\n",
      "\u001b[0;32m/hive/Anaconda3-2019.10/lib/python3.7/site-packages/scipy/optimize/lbfgsb.py\u001b[0m in \u001b[0;36mfunc_and_grad\u001b[0;34m(x)\u001b[0m\n\u001b[1;32m    279\u001b[0m         \u001b[0;32mdef\u001b[0m \u001b[0mfunc_and_grad\u001b[0m\u001b[0;34m(\u001b[0m\u001b[0mx\u001b[0m\u001b[0;34m)\u001b[0m\u001b[0;34m:\u001b[0m\u001b[0;34m\u001b[0m\u001b[0;34m\u001b[0m\u001b[0m\n\u001b[1;32m    280\u001b[0m             \u001b[0mf\u001b[0m \u001b[0;34m=\u001b[0m \u001b[0mfun\u001b[0m\u001b[0;34m(\u001b[0m\u001b[0mx\u001b[0m\u001b[0;34m,\u001b[0m \u001b[0;34m*\u001b[0m\u001b[0margs\u001b[0m\u001b[0;34m)\u001b[0m\u001b[0;34m\u001b[0m\u001b[0;34m\u001b[0m\u001b[0m\n\u001b[0;32m--> 281\u001b[0;31m             \u001b[0mg\u001b[0m \u001b[0;34m=\u001b[0m \u001b[0m_approx_fprime_helper\u001b[0m\u001b[0;34m(\u001b[0m\u001b[0mx\u001b[0m\u001b[0;34m,\u001b[0m \u001b[0mfun\u001b[0m\u001b[0;34m,\u001b[0m \u001b[0mepsilon\u001b[0m\u001b[0;34m,\u001b[0m \u001b[0margs\u001b[0m\u001b[0;34m=\u001b[0m\u001b[0margs\u001b[0m\u001b[0;34m,\u001b[0m \u001b[0mf0\u001b[0m\u001b[0;34m=\u001b[0m\u001b[0mf\u001b[0m\u001b[0;34m)\u001b[0m\u001b[0;34m\u001b[0m\u001b[0;34m\u001b[0m\u001b[0m\n\u001b[0m\u001b[1;32m    282\u001b[0m             \u001b[0;32mreturn\u001b[0m \u001b[0mf\u001b[0m\u001b[0;34m,\u001b[0m \u001b[0mg\u001b[0m\u001b[0;34m\u001b[0m\u001b[0;34m\u001b[0m\u001b[0m\n\u001b[1;32m    283\u001b[0m     \u001b[0;32melse\u001b[0m\u001b[0;34m:\u001b[0m\u001b[0;34m\u001b[0m\u001b[0;34m\u001b[0m\u001b[0m\n",
      "\u001b[0;32m/hive/Anaconda3-2019.10/lib/python3.7/site-packages/scipy/optimize/optimize.py\u001b[0m in \u001b[0;36m_approx_fprime_helper\u001b[0;34m(xk, f, epsilon, args, f0)\u001b[0m\n\u001b[1;32m    694\u001b[0m         \u001b[0mei\u001b[0m\u001b[0;34m[\u001b[0m\u001b[0mk\u001b[0m\u001b[0;34m]\u001b[0m \u001b[0;34m=\u001b[0m \u001b[0;36m1.0\u001b[0m\u001b[0;34m\u001b[0m\u001b[0;34m\u001b[0m\u001b[0m\n\u001b[1;32m    695\u001b[0m         \u001b[0md\u001b[0m \u001b[0;34m=\u001b[0m \u001b[0mepsilon\u001b[0m \u001b[0;34m*\u001b[0m \u001b[0mei\u001b[0m\u001b[0;34m\u001b[0m\u001b[0;34m\u001b[0m\u001b[0m\n\u001b[0;32m--> 696\u001b[0;31m         \u001b[0mgrad\u001b[0m\u001b[0;34m[\u001b[0m\u001b[0mk\u001b[0m\u001b[0;34m]\u001b[0m \u001b[0;34m=\u001b[0m \u001b[0;34m(\u001b[0m\u001b[0mf\u001b[0m\u001b[0;34m(\u001b[0m\u001b[0;34m*\u001b[0m\u001b[0;34m(\u001b[0m\u001b[0;34m(\u001b[0m\u001b[0mxk\u001b[0m \u001b[0;34m+\u001b[0m \u001b[0md\u001b[0m\u001b[0;34m,\u001b[0m\u001b[0;34m)\u001b[0m \u001b[0;34m+\u001b[0m \u001b[0margs\u001b[0m\u001b[0;34m)\u001b[0m\u001b[0;34m)\u001b[0m \u001b[0;34m-\u001b[0m \u001b[0mf0\u001b[0m\u001b[0;34m)\u001b[0m \u001b[0;34m/\u001b[0m \u001b[0md\u001b[0m\u001b[0;34m[\u001b[0m\u001b[0mk\u001b[0m\u001b[0;34m]\u001b[0m\u001b[0;34m\u001b[0m\u001b[0;34m\u001b[0m\u001b[0m\n\u001b[0m\u001b[1;32m    697\u001b[0m         \u001b[0mei\u001b[0m\u001b[0;34m[\u001b[0m\u001b[0mk\u001b[0m\u001b[0;34m]\u001b[0m \u001b[0;34m=\u001b[0m \u001b[0;36m0.0\u001b[0m\u001b[0;34m\u001b[0m\u001b[0;34m\u001b[0m\u001b[0m\n\u001b[1;32m    698\u001b[0m     \u001b[0;32mreturn\u001b[0m \u001b[0mgrad\u001b[0m\u001b[0;34m\u001b[0m\u001b[0;34m\u001b[0m\u001b[0m\n",
      "\u001b[0;32m/hive/Anaconda3-2019.10/lib/python3.7/site-packages/scipy/optimize/optimize.py\u001b[0m in \u001b[0;36mfunction_wrapper\u001b[0;34m(*wrapper_args)\u001b[0m\n\u001b[1;32m    324\u001b[0m     \u001b[0;32mdef\u001b[0m \u001b[0mfunction_wrapper\u001b[0m\u001b[0;34m(\u001b[0m\u001b[0;34m*\u001b[0m\u001b[0mwrapper_args\u001b[0m\u001b[0;34m)\u001b[0m\u001b[0;34m:\u001b[0m\u001b[0;34m\u001b[0m\u001b[0;34m\u001b[0m\u001b[0m\n\u001b[1;32m    325\u001b[0m         \u001b[0mncalls\u001b[0m\u001b[0;34m[\u001b[0m\u001b[0;36m0\u001b[0m\u001b[0;34m]\u001b[0m \u001b[0;34m+=\u001b[0m \u001b[0;36m1\u001b[0m\u001b[0;34m\u001b[0m\u001b[0;34m\u001b[0m\u001b[0m\n\u001b[0;32m--> 326\u001b[0;31m         \u001b[0;32mreturn\u001b[0m \u001b[0mfunction\u001b[0m\u001b[0;34m(\u001b[0m\u001b[0;34m*\u001b[0m\u001b[0;34m(\u001b[0m\u001b[0mwrapper_args\u001b[0m \u001b[0;34m+\u001b[0m \u001b[0margs\u001b[0m\u001b[0;34m)\u001b[0m\u001b[0;34m)\u001b[0m\u001b[0;34m\u001b[0m\u001b[0;34m\u001b[0m\u001b[0m\n\u001b[0m\u001b[1;32m    327\u001b[0m \u001b[0;34m\u001b[0m\u001b[0m\n\u001b[1;32m    328\u001b[0m     \u001b[0;32mreturn\u001b[0m \u001b[0mncalls\u001b[0m\u001b[0;34m,\u001b[0m \u001b[0mfunction_wrapper\u001b[0m\u001b[0;34m\u001b[0m\u001b[0;34m\u001b[0m\u001b[0m\n",
      "\u001b[0;32m/hive/Anaconda3-2019.10/lib/python3.7/site-packages/bayes_opt/util.py\u001b[0m in \u001b[0;36m<lambda>\u001b[0;34m(x)\u001b[0m\n\u001b[1;32m     53\u001b[0m     \u001b[0;32mfor\u001b[0m \u001b[0mx_try\u001b[0m \u001b[0;32min\u001b[0m \u001b[0mx_seeds\u001b[0m\u001b[0;34m:\u001b[0m\u001b[0;34m\u001b[0m\u001b[0;34m\u001b[0m\u001b[0m\n\u001b[1;32m     54\u001b[0m         \u001b[0;31m# Find the minimum of minus the acquisition function\u001b[0m\u001b[0;34m\u001b[0m\u001b[0;34m\u001b[0m\u001b[0;34m\u001b[0m\u001b[0m\n\u001b[0;32m---> 55\u001b[0;31m         res = minimize(lambda x: -ac(x.reshape(1, -1), gp=gp, y_max=y_max),\n\u001b[0m\u001b[1;32m     56\u001b[0m                        \u001b[0mx_try\u001b[0m\u001b[0;34m.\u001b[0m\u001b[0mreshape\u001b[0m\u001b[0;34m(\u001b[0m\u001b[0;36m1\u001b[0m\u001b[0;34m,\u001b[0m \u001b[0;34m-\u001b[0m\u001b[0;36m1\u001b[0m\u001b[0;34m)\u001b[0m\u001b[0;34m,\u001b[0m\u001b[0;34m\u001b[0m\u001b[0;34m\u001b[0m\u001b[0m\n\u001b[1;32m     57\u001b[0m                        \u001b[0mbounds\u001b[0m\u001b[0;34m=\u001b[0m\u001b[0mbounds\u001b[0m\u001b[0;34m,\u001b[0m\u001b[0;34m\u001b[0m\u001b[0;34m\u001b[0m\u001b[0m\n",
      "\u001b[0;32m/hive/Anaconda3-2019.10/lib/python3.7/site-packages/bayes_opt/util.py\u001b[0m in \u001b[0;36mutility\u001b[0;34m(self, x, gp, y_max)\u001b[0m\n\u001b[1;32m     95\u001b[0m     \u001b[0;32mdef\u001b[0m \u001b[0mutility\u001b[0m\u001b[0;34m(\u001b[0m\u001b[0mself\u001b[0m\u001b[0;34m,\u001b[0m \u001b[0mx\u001b[0m\u001b[0;34m,\u001b[0m \u001b[0mgp\u001b[0m\u001b[0;34m,\u001b[0m \u001b[0my_max\u001b[0m\u001b[0;34m)\u001b[0m\u001b[0;34m:\u001b[0m\u001b[0;34m\u001b[0m\u001b[0;34m\u001b[0m\u001b[0m\n\u001b[1;32m     96\u001b[0m         \u001b[0;32mif\u001b[0m \u001b[0mself\u001b[0m\u001b[0;34m.\u001b[0m\u001b[0mkind\u001b[0m \u001b[0;34m==\u001b[0m \u001b[0;34m'ucb'\u001b[0m\u001b[0;34m:\u001b[0m\u001b[0;34m\u001b[0m\u001b[0;34m\u001b[0m\u001b[0m\n\u001b[0;32m---> 97\u001b[0;31m             \u001b[0;32mreturn\u001b[0m \u001b[0mself\u001b[0m\u001b[0;34m.\u001b[0m\u001b[0m_ucb\u001b[0m\u001b[0;34m(\u001b[0m\u001b[0mx\u001b[0m\u001b[0;34m,\u001b[0m \u001b[0mgp\u001b[0m\u001b[0;34m,\u001b[0m \u001b[0mself\u001b[0m\u001b[0;34m.\u001b[0m\u001b[0mkappa\u001b[0m\u001b[0;34m)\u001b[0m\u001b[0;34m\u001b[0m\u001b[0;34m\u001b[0m\u001b[0m\n\u001b[0m\u001b[1;32m     98\u001b[0m         \u001b[0;32mif\u001b[0m \u001b[0mself\u001b[0m\u001b[0;34m.\u001b[0m\u001b[0mkind\u001b[0m \u001b[0;34m==\u001b[0m \u001b[0;34m'ei'\u001b[0m\u001b[0;34m:\u001b[0m\u001b[0;34m\u001b[0m\u001b[0;34m\u001b[0m\u001b[0m\n\u001b[1;32m     99\u001b[0m             \u001b[0;32mreturn\u001b[0m \u001b[0mself\u001b[0m\u001b[0;34m.\u001b[0m\u001b[0m_ei\u001b[0m\u001b[0;34m(\u001b[0m\u001b[0mx\u001b[0m\u001b[0;34m,\u001b[0m \u001b[0mgp\u001b[0m\u001b[0;34m,\u001b[0m \u001b[0my_max\u001b[0m\u001b[0;34m,\u001b[0m \u001b[0mself\u001b[0m\u001b[0;34m.\u001b[0m\u001b[0mxi\u001b[0m\u001b[0;34m)\u001b[0m\u001b[0;34m\u001b[0m\u001b[0;34m\u001b[0m\u001b[0m\n",
      "\u001b[0;32m/hive/Anaconda3-2019.10/lib/python3.7/site-packages/bayes_opt/util.py\u001b[0m in \u001b[0;36m_ucb\u001b[0;34m(x, gp, kappa)\u001b[0m\n\u001b[1;32m    105\u001b[0m         \u001b[0;32mwith\u001b[0m \u001b[0mwarnings\u001b[0m\u001b[0;34m.\u001b[0m\u001b[0mcatch_warnings\u001b[0m\u001b[0;34m(\u001b[0m\u001b[0;34m)\u001b[0m\u001b[0;34m:\u001b[0m\u001b[0;34m\u001b[0m\u001b[0;34m\u001b[0m\u001b[0m\n\u001b[1;32m    106\u001b[0m             \u001b[0mwarnings\u001b[0m\u001b[0;34m.\u001b[0m\u001b[0msimplefilter\u001b[0m\u001b[0;34m(\u001b[0m\u001b[0;34m\"ignore\"\u001b[0m\u001b[0;34m)\u001b[0m\u001b[0;34m\u001b[0m\u001b[0;34m\u001b[0m\u001b[0m\n\u001b[0;32m--> 107\u001b[0;31m             \u001b[0mmean\u001b[0m\u001b[0;34m,\u001b[0m \u001b[0mstd\u001b[0m \u001b[0;34m=\u001b[0m \u001b[0mgp\u001b[0m\u001b[0;34m.\u001b[0m\u001b[0mpredict\u001b[0m\u001b[0;34m(\u001b[0m\u001b[0mx\u001b[0m\u001b[0;34m,\u001b[0m \u001b[0mreturn_std\u001b[0m\u001b[0;34m=\u001b[0m\u001b[0;32mTrue\u001b[0m\u001b[0;34m)\u001b[0m\u001b[0;34m\u001b[0m\u001b[0;34m\u001b[0m\u001b[0m\n\u001b[0m\u001b[1;32m    108\u001b[0m \u001b[0;34m\u001b[0m\u001b[0m\n\u001b[1;32m    109\u001b[0m         \u001b[0;32mreturn\u001b[0m \u001b[0mmean\u001b[0m \u001b[0;34m+\u001b[0m \u001b[0mkappa\u001b[0m \u001b[0;34m*\u001b[0m \u001b[0mstd\u001b[0m\u001b[0;34m\u001b[0m\u001b[0;34m\u001b[0m\u001b[0m\n",
      "\u001b[0;32m/hive/Anaconda3-2019.10/lib/python3.7/site-packages/sklearn/gaussian_process/gpr.py\u001b[0m in \u001b[0;36mpredict\u001b[0;34m(self, X, return_std, return_cov)\u001b[0m\n\u001b[1;32m    301\u001b[0m                 \"returning full covariance.\")\n\u001b[1;32m    302\u001b[0m \u001b[0;34m\u001b[0m\u001b[0m\n\u001b[0;32m--> 303\u001b[0;31m         \u001b[0mX\u001b[0m \u001b[0;34m=\u001b[0m \u001b[0mcheck_array\u001b[0m\u001b[0;34m(\u001b[0m\u001b[0mX\u001b[0m\u001b[0;34m)\u001b[0m\u001b[0;34m\u001b[0m\u001b[0;34m\u001b[0m\u001b[0m\n\u001b[0m\u001b[1;32m    304\u001b[0m \u001b[0;34m\u001b[0m\u001b[0m\n\u001b[1;32m    305\u001b[0m         \u001b[0;32mif\u001b[0m \u001b[0;32mnot\u001b[0m \u001b[0mhasattr\u001b[0m\u001b[0;34m(\u001b[0m\u001b[0mself\u001b[0m\u001b[0;34m,\u001b[0m \u001b[0;34m\"X_train_\"\u001b[0m\u001b[0;34m)\u001b[0m\u001b[0;34m:\u001b[0m  \u001b[0;31m# Unfitted;predict based on GP prior\u001b[0m\u001b[0;34m\u001b[0m\u001b[0;34m\u001b[0m\u001b[0m\n",
      "\u001b[0;32m/hive/Anaconda3-2019.10/lib/python3.7/site-packages/sklearn/utils/validation.py\u001b[0m in \u001b[0;36mcheck_array\u001b[0;34m(array, accept_sparse, accept_large_sparse, dtype, order, copy, force_all_finite, ensure_2d, allow_nd, ensure_min_samples, ensure_min_features, warn_on_dtype, estimator)\u001b[0m\n\u001b[1;32m    540\u001b[0m         \u001b[0;32mif\u001b[0m \u001b[0mforce_all_finite\u001b[0m\u001b[0;34m:\u001b[0m\u001b[0;34m\u001b[0m\u001b[0;34m\u001b[0m\u001b[0m\n\u001b[1;32m    541\u001b[0m             _assert_all_finite(array,\n\u001b[0;32m--> 542\u001b[0;31m                                allow_nan=force_all_finite == 'allow-nan')\n\u001b[0m\u001b[1;32m    543\u001b[0m \u001b[0;34m\u001b[0m\u001b[0m\n\u001b[1;32m    544\u001b[0m     \u001b[0;32mif\u001b[0m \u001b[0mensure_min_samples\u001b[0m \u001b[0;34m>\u001b[0m \u001b[0;36m0\u001b[0m\u001b[0;34m:\u001b[0m\u001b[0;34m\u001b[0m\u001b[0;34m\u001b[0m\u001b[0m\n",
      "\u001b[0;32m/hive/Anaconda3-2019.10/lib/python3.7/site-packages/sklearn/utils/validation.py\u001b[0m in \u001b[0;36m_assert_all_finite\u001b[0;34m(X, allow_nan)\u001b[0m\n\u001b[1;32m     47\u001b[0m     \u001b[0;31m# safely to reduce dtype induced overflows.\u001b[0m\u001b[0;34m\u001b[0m\u001b[0;34m\u001b[0m\u001b[0;34m\u001b[0m\u001b[0m\n\u001b[1;32m     48\u001b[0m     \u001b[0mis_float\u001b[0m \u001b[0;34m=\u001b[0m \u001b[0mX\u001b[0m\u001b[0;34m.\u001b[0m\u001b[0mdtype\u001b[0m\u001b[0;34m.\u001b[0m\u001b[0mkind\u001b[0m \u001b[0;32min\u001b[0m \u001b[0;34m'fc'\u001b[0m\u001b[0;34m\u001b[0m\u001b[0;34m\u001b[0m\u001b[0m\n\u001b[0;32m---> 49\u001b[0;31m     \u001b[0;32mif\u001b[0m \u001b[0mis_float\u001b[0m \u001b[0;32mand\u001b[0m \u001b[0;34m(\u001b[0m\u001b[0mnp\u001b[0m\u001b[0;34m.\u001b[0m\u001b[0misfinite\u001b[0m\u001b[0;34m(\u001b[0m\u001b[0m_safe_accumulator_op\u001b[0m\u001b[0;34m(\u001b[0m\u001b[0mnp\u001b[0m\u001b[0;34m.\u001b[0m\u001b[0msum\u001b[0m\u001b[0;34m,\u001b[0m \u001b[0mX\u001b[0m\u001b[0;34m)\u001b[0m\u001b[0;34m)\u001b[0m\u001b[0;34m)\u001b[0m\u001b[0;34m:\u001b[0m\u001b[0;34m\u001b[0m\u001b[0;34m\u001b[0m\u001b[0m\n\u001b[0m\u001b[1;32m     50\u001b[0m         \u001b[0;32mpass\u001b[0m\u001b[0;34m\u001b[0m\u001b[0;34m\u001b[0m\u001b[0m\n\u001b[1;32m     51\u001b[0m     \u001b[0;32melif\u001b[0m \u001b[0mis_float\u001b[0m\u001b[0;34m:\u001b[0m\u001b[0;34m\u001b[0m\u001b[0;34m\u001b[0m\u001b[0m\n",
      "\u001b[0;32m/hive/Anaconda3-2019.10/lib/python3.7/site-packages/sklearn/utils/extmath.py\u001b[0m in \u001b[0;36m_safe_accumulator_op\u001b[0;34m(op, x, *args, **kwargs)\u001b[0m\n\u001b[1;32m    683\u001b[0m     \u001b[0mresult\u001b[0m \u001b[0;34m:\u001b[0m \u001b[0mThe\u001b[0m \u001b[0moutput\u001b[0m \u001b[0mof\u001b[0m \u001b[0mthe\u001b[0m \u001b[0maccumulator\u001b[0m \u001b[0mfunction\u001b[0m \u001b[0mpassed\u001b[0m \u001b[0mto\u001b[0m \u001b[0mthis\u001b[0m \u001b[0mfunction\u001b[0m\u001b[0;34m\u001b[0m\u001b[0;34m\u001b[0m\u001b[0m\n\u001b[1;32m    684\u001b[0m     \"\"\"\n\u001b[0;32m--> 685\u001b[0;31m     \u001b[0;32mif\u001b[0m \u001b[0mnp\u001b[0m\u001b[0;34m.\u001b[0m\u001b[0missubdtype\u001b[0m\u001b[0;34m(\u001b[0m\u001b[0mx\u001b[0m\u001b[0;34m.\u001b[0m\u001b[0mdtype\u001b[0m\u001b[0;34m,\u001b[0m \u001b[0mnp\u001b[0m\u001b[0;34m.\u001b[0m\u001b[0mfloating\u001b[0m\u001b[0;34m)\u001b[0m \u001b[0;32mand\u001b[0m \u001b[0mx\u001b[0m\u001b[0;34m.\u001b[0m\u001b[0mdtype\u001b[0m\u001b[0;34m.\u001b[0m\u001b[0mitemsize\u001b[0m \u001b[0;34m<\u001b[0m \u001b[0;36m8\u001b[0m\u001b[0;34m:\u001b[0m\u001b[0;34m\u001b[0m\u001b[0;34m\u001b[0m\u001b[0m\n\u001b[0m\u001b[1;32m    686\u001b[0m         \u001b[0mresult\u001b[0m \u001b[0;34m=\u001b[0m \u001b[0mop\u001b[0m\u001b[0;34m(\u001b[0m\u001b[0mx\u001b[0m\u001b[0;34m,\u001b[0m \u001b[0;34m*\u001b[0m\u001b[0margs\u001b[0m\u001b[0;34m,\u001b[0m \u001b[0;34m**\u001b[0m\u001b[0mkwargs\u001b[0m\u001b[0;34m,\u001b[0m \u001b[0mdtype\u001b[0m\u001b[0;34m=\u001b[0m\u001b[0mnp\u001b[0m\u001b[0;34m.\u001b[0m\u001b[0mfloat64\u001b[0m\u001b[0;34m)\u001b[0m\u001b[0;34m\u001b[0m\u001b[0;34m\u001b[0m\u001b[0m\n\u001b[1;32m    687\u001b[0m     \u001b[0;32melse\u001b[0m\u001b[0;34m:\u001b[0m\u001b[0;34m\u001b[0m\u001b[0;34m\u001b[0m\u001b[0m\n",
      "\u001b[0;32m/hive/Anaconda3-2019.10/lib/python3.7/site-packages/numpy/core/numerictypes.py\u001b[0m in \u001b[0;36missubdtype\u001b[0;34m(arg1, arg2)\u001b[0m\n\u001b[1;32m    390\u001b[0m \u001b[0;34m\u001b[0m\u001b[0m\n\u001b[1;32m    391\u001b[0m     \"\"\"\n\u001b[0;32m--> 392\u001b[0;31m     \u001b[0;32mif\u001b[0m \u001b[0;32mnot\u001b[0m \u001b[0missubclass_\u001b[0m\u001b[0;34m(\u001b[0m\u001b[0marg1\u001b[0m\u001b[0;34m,\u001b[0m \u001b[0mgeneric\u001b[0m\u001b[0;34m)\u001b[0m\u001b[0;34m:\u001b[0m\u001b[0;34m\u001b[0m\u001b[0;34m\u001b[0m\u001b[0m\n\u001b[0m\u001b[1;32m    393\u001b[0m         \u001b[0marg1\u001b[0m \u001b[0;34m=\u001b[0m \u001b[0mdtype\u001b[0m\u001b[0;34m(\u001b[0m\u001b[0marg1\u001b[0m\u001b[0;34m)\u001b[0m\u001b[0;34m.\u001b[0m\u001b[0mtype\u001b[0m\u001b[0;34m\u001b[0m\u001b[0;34m\u001b[0m\u001b[0m\n\u001b[1;32m    394\u001b[0m     \u001b[0;32mif\u001b[0m \u001b[0;32mnot\u001b[0m \u001b[0missubclass_\u001b[0m\u001b[0;34m(\u001b[0m\u001b[0marg2\u001b[0m\u001b[0;34m,\u001b[0m \u001b[0mgeneric\u001b[0m\u001b[0;34m)\u001b[0m\u001b[0;34m:\u001b[0m\u001b[0;34m\u001b[0m\u001b[0;34m\u001b[0m\u001b[0m\n",
      "\u001b[0;31mKeyboardInterrupt\u001b[0m: "
     ]
    }
   ],
   "source": [
    "def bayes_parameter_opt_lgb(X_train, y_train, init_round=15, opt_round=25, n_folds=5, random_seed=0, n_estimators=10000, learning_rate=0.05, output_process=False):\n",
    "    # prepare data\n",
    "    train_data = lgb.Dataset(data=X_train, label=y_train)\n",
    "    # parameters\n",
    "    def lgb_eval(num_leaves, feature_fraction, bagging_fraction, max_depth, lambda_l1, lambda_l2, min_split_gain, min_child_weight,n_jobs=20):\n",
    "        params = {'application':'binary','num_iterations': n_estimators, 'learning_rate':learning_rate, 'early_stopping_round':100, 'metric':'auc'}\n",
    "        params[\"num_leaves\"] = int(round(num_leaves))\n",
    "        params['feature_fraction'] = max(min(feature_fraction, 1), 0)\n",
    "        params['bagging_fraction'] = max(min(bagging_fraction, 1), 0)\n",
    "        params['max_depth'] = int(round(max_depth))\n",
    "        params['lambda_l1'] = max(lambda_l1, 0)\n",
    "        params['lambda_l2'] = max(lambda_l2, 0)\n",
    "        params['min_split_gain'] = min_split_gain\n",
    "        params['min_child_weight'] = min_child_weight\n",
    "        cv_result = lgb.cv(params, train_data, nfold=n_folds, seed=random_seed, stratified=True, verbose_eval =200, metrics=['auc'])\n",
    "        return max(cv_result['auc-mean'])\n",
    "    # range \n",
    "    lgbBO = BayesianOptimization(lgb_eval, {'num_leaves': (24, 45),\n",
    "                                            'feature_fraction': (0.1, 0.9),\n",
    "                                            'bagging_fraction': (0.8, 1),\n",
    "                                            'max_depth': (5, 25),\n",
    "                                            'lambda_l1': (0, 5),\n",
    "                                            'lambda_l2': (0, 3),\n",
    "                                            'min_split_gain': (0.001, 0.1),\n",
    "                                            'min_child_weight': (1, 10)}, random_state=0)\n",
    "    # optimize\n",
    "    lgbBO.maximize(init_points=init_round, n_iter=opt_round)\n",
    "    \n",
    "    # output optimization process\n",
    "    if output_process==True: lgbBO.points_to_csv(\"bayes_opt_result.csv\")\n",
    "    \n",
    "    # return best parameters\n",
    "    \n",
    "\n",
    "opt_params = bayes_parameter_opt_lgb(X_train, y_train, init_round=10, opt_round=20, n_folds=5, random_seed=0, n_estimators=100, learning_rate=0.01)"
   ]
  },
  {
   "cell_type": "code",
   "execution_count": 48,
   "metadata": {},
   "outputs": [],
   "source": [
    "from lightgbm import LGBMClassifier\n",
    "model2=LGBMClassifier(num_leaves= 25, feature_fraction= 0.8874  , learning_rate= 0.01, bagging_fraction= 0.9114  , max_depth= 25,scale_pos_weight=0.5, min_child_weight= 0.5, n_estimators= 156, lambda_l1= 0.01122 , lambda_l2= 0.08378 , min_split_gain=0.05922 , n_jobs= 20, verbose=1)"
   ]
  },
  {
   "cell_type": "code",
   "execution_count": 49,
   "metadata": {},
   "outputs": [
    {
     "name": "stdout",
     "output_type": "stream",
     "text": [
      "[1]\tvalid_0's auc: 0.870779\tvalid_0's binary_logloss: 0.394793\tvalid_1's auc: 0.717424\tvalid_1's binary_logloss: 0.387809\n",
      "[2]\tvalid_0's auc: 0.907317\tvalid_0's binary_logloss: 0.391399\tvalid_1's auc: 0.783333\tvalid_1's binary_logloss: 0.385548\n",
      "[3]\tvalid_0's auc: 0.905629\tvalid_0's binary_logloss: 0.388413\tvalid_1's auc: 0.760606\tvalid_1's binary_logloss: 0.384051\n",
      "[4]\tvalid_0's auc: 0.907317\tvalid_0's binary_logloss: 0.385265\tvalid_1's auc: 0.790909\tvalid_1's binary_logloss: 0.381954\n",
      "[5]\tvalid_0's auc: 0.91182\tvalid_0's binary_logloss: 0.382242\tvalid_1's auc: 0.8\tvalid_1's binary_logloss: 0.379946\n",
      "[6]\tvalid_0's auc: 0.914071\tvalid_0's binary_logloss: 0.379373\tvalid_1's auc: 0.814394\tvalid_1's binary_logloss: 0.378458\n",
      "[7]\tvalid_0's auc: 0.910038\tvalid_0's binary_logloss: 0.37657\tvalid_1's auc: 0.800758\tvalid_1's binary_logloss: 0.376596\n",
      "[8]\tvalid_0's auc: 0.907598\tvalid_0's binary_logloss: 0.373872\tvalid_1's auc: 0.802273\tvalid_1's binary_logloss: 0.374808\n",
      "[9]\tvalid_0's auc: 0.921341\tvalid_0's binary_logloss: 0.371162\tvalid_1's auc: 0.800758\tvalid_1's binary_logloss: 0.373325\n",
      "[10]\tvalid_0's auc: 0.925235\tvalid_0's binary_logloss: 0.368622\tvalid_1's auc: 0.809848\tvalid_1's binary_logloss: 0.37165\n",
      "[11]\tvalid_0's auc: 0.929456\tvalid_0's binary_logloss: 0.366103\tvalid_1's auc: 0.814394\tvalid_1's binary_logloss: 0.370273\n",
      "[12]\tvalid_0's auc: 0.927392\tvalid_0's binary_logloss: 0.363672\tvalid_1's auc: 0.815909\tvalid_1's binary_logloss: 0.368662\n",
      "[13]\tvalid_0's auc: 0.924859\tvalid_0's binary_logloss: 0.361324\tvalid_1's auc: 0.812879\tvalid_1's binary_logloss: 0.367111\n",
      "[14]\tvalid_0's auc: 0.928893\tvalid_0's binary_logloss: 0.359\tvalid_1's auc: 0.820455\tvalid_1's binary_logloss: 0.365839\n",
      "[15]\tvalid_0's auc: 0.925891\tvalid_0's binary_logloss: 0.356778\tvalid_1's auc: 0.815909\tvalid_1's binary_logloss: 0.364374\n",
      "[16]\tvalid_0's auc: 0.929737\tvalid_0's binary_logloss: 0.35458\tvalid_1's auc: 0.817424\tvalid_1's binary_logloss: 0.363172\n",
      "[17]\tvalid_0's auc: 0.928143\tvalid_0's binary_logloss: 0.352474\tvalid_1's auc: 0.814394\tvalid_1's binary_logloss: 0.361786\n",
      "[18]\tvalid_0's auc: 0.931426\tvalid_0's binary_logloss: 0.350392\tvalid_1's auc: 0.811364\tvalid_1's binary_logloss: 0.360649\n",
      "[19]\tvalid_0's auc: 0.932833\tvalid_0's binary_logloss: 0.348377\tvalid_1's auc: 0.812879\tvalid_1's binary_logloss: 0.359549\n",
      "[20]\tvalid_0's auc: 0.931801\tvalid_0's binary_logloss: 0.346416\tvalid_1's auc: 0.812879\tvalid_1's binary_logloss: 0.358261\n",
      "[21]\tvalid_0's auc: 0.934568\tvalid_0's binary_logloss: 0.344394\tvalid_1's auc: 0.818182\tvalid_1's binary_logloss: 0.357032\n",
      "[22]\tvalid_0's auc: 0.934944\tvalid_0's binary_logloss: 0.342518\tvalid_1's auc: 0.818182\tvalid_1's binary_logloss: 0.356013\n",
      "[23]\tvalid_0's auc: 0.9356\tvalid_0's binary_logloss: 0.3407\tvalid_1's auc: 0.818182\tvalid_1's binary_logloss: 0.355027\n",
      "[24]\tvalid_0's auc: 0.934944\tvalid_0's binary_logloss: 0.338902\tvalid_1's auc: 0.816667\tvalid_1's binary_logloss: 0.353851\n",
      "[25]\tvalid_0's auc: 0.935647\tvalid_0's binary_logloss: 0.337122\tvalid_1's auc: 0.818939\tvalid_1's binary_logloss: 0.352447\n",
      "[26]\tvalid_0's auc: 0.935178\tvalid_0's binary_logloss: 0.335433\tvalid_1's auc: 0.815909\tvalid_1's binary_logloss: 0.351396\n",
      "[27]\tvalid_0's auc: 0.935929\tvalid_0's binary_logloss: 0.333751\tvalid_1's auc: 0.82197\tvalid_1's binary_logloss: 0.350379\n",
      "[28]\tvalid_0's auc: 0.937946\tvalid_0's binary_logloss: 0.331847\tvalid_1's auc: 0.820455\tvalid_1's binary_logloss: 0.349135\n",
      "[29]\tvalid_0's auc: 0.939259\tvalid_0's binary_logloss: 0.330232\tvalid_1's auc: 0.82197\tvalid_1's binary_logloss: 0.348378\n",
      "[30]\tvalid_0's auc: 0.94151\tvalid_0's binary_logloss: 0.328522\tvalid_1's auc: 0.823485\tvalid_1's binary_logloss: 0.347479\n",
      "[31]\tvalid_0's auc: 0.940666\tvalid_0's binary_logloss: 0.32697\tvalid_1's auc: 0.820455\tvalid_1's binary_logloss: 0.346476\n",
      "[32]\tvalid_0's auc: 0.941604\tvalid_0's binary_logloss: 0.325459\tvalid_1's auc: 0.823485\tvalid_1's binary_logloss: 0.345661\n",
      "[33]\tvalid_0's auc: 0.945872\tvalid_0's binary_logloss: 0.322983\tvalid_1's auc: 0.828788\tvalid_1's binary_logloss: 0.345154\n",
      "[34]\tvalid_0's auc: 0.947842\tvalid_0's binary_logloss: 0.320578\tvalid_1's auc: 0.828788\tvalid_1's binary_logloss: 0.344677\n",
      "[35]\tvalid_0's auc: 0.952345\tvalid_0's binary_logloss: 0.318242\tvalid_1's auc: 0.834848\tvalid_1's binary_logloss: 0.344228\n",
      "[36]\tvalid_0's auc: 0.953752\tvalid_0's binary_logloss: 0.31623\tvalid_1's auc: 0.840909\tvalid_1's binary_logloss: 0.343172\n",
      "[37]\tvalid_0's auc: 0.956191\tvalid_0's binary_logloss: 0.314718\tvalid_1's auc: 0.839394\tvalid_1's binary_logloss: 0.342387\n",
      "[38]\tvalid_0's auc: 0.958537\tvalid_0's binary_logloss: 0.312685\tvalid_1's auc: 0.836364\tvalid_1's binary_logloss: 0.34269\n",
      "[39]\tvalid_0's auc: 0.957974\tvalid_0's binary_logloss: 0.311322\tvalid_1's auc: 0.837879\tvalid_1's binary_logloss: 0.341793\n",
      "[40]\tvalid_0's auc: 0.958818\tvalid_0's binary_logloss: 0.309893\tvalid_1's auc: 0.834848\tvalid_1's binary_logloss: 0.341058\n",
      "[41]\tvalid_0's auc: 0.958255\tvalid_0's binary_logloss: 0.308627\tvalid_1's auc: 0.833333\tvalid_1's binary_logloss: 0.340242\n",
      "[42]\tvalid_0's auc: 0.960225\tvalid_0's binary_logloss: 0.306787\tvalid_1's auc: 0.831818\tvalid_1's binary_logloss: 0.33929\n",
      "[43]\tvalid_0's auc: 0.9606\tvalid_0's binary_logloss: 0.305424\tvalid_1's auc: 0.834848\tvalid_1's binary_logloss: 0.338508\n",
      "[44]\tvalid_0's auc: 0.962852\tvalid_0's binary_logloss: 0.303398\tvalid_1's auc: 0.833333\tvalid_1's binary_logloss: 0.338183\n",
      "[45]\tvalid_0's auc: 0.964728\tvalid_0's binary_logloss: 0.301415\tvalid_1's auc: 0.828788\tvalid_1's binary_logloss: 0.338571\n",
      "[46]\tvalid_0's auc: 0.964634\tvalid_0's binary_logloss: 0.300216\tvalid_1's auc: 0.830303\tvalid_1's binary_logloss: 0.337797\n",
      "[47]\tvalid_0's auc: 0.96454\tvalid_0's binary_logloss: 0.299019\tvalid_1's auc: 0.831818\tvalid_1's binary_logloss: 0.33701\n",
      "[48]\tvalid_0's auc: 0.967167\tvalid_0's binary_logloss: 0.297257\tvalid_1's auc: 0.827273\tvalid_1's binary_logloss: 0.337356\n",
      "[49]\tvalid_0's auc: 0.96848\tvalid_0's binary_logloss: 0.295538\tvalid_1's auc: 0.824242\tvalid_1's binary_logloss: 0.337714\n",
      "[50]\tvalid_0's auc: 0.968199\tvalid_0's binary_logloss: 0.294414\tvalid_1's auc: 0.824242\tvalid_1's binary_logloss: 0.33686\n",
      "[51]\tvalid_0's auc: 0.970732\tvalid_0's binary_logloss: 0.292532\tvalid_1's auc: 0.824242\tvalid_1's binary_logloss: 0.336589\n",
      "[52]\tvalid_0's auc: 0.972139\tvalid_0's binary_logloss: 0.290695\tvalid_1's auc: 0.824242\tvalid_1's binary_logloss: 0.336338\n",
      "[53]\tvalid_0's auc: 0.972795\tvalid_0's binary_logloss: 0.289039\tvalid_1's auc: 0.818182\tvalid_1's binary_logloss: 0.335756\n",
      "[54]\tvalid_0's auc: 0.973452\tvalid_0's binary_logloss: 0.287421\tvalid_1's auc: 0.818182\tvalid_1's binary_logloss: 0.334933\n",
      "[55]\tvalid_0's auc: 0.97364\tvalid_0's binary_logloss: 0.28627\tvalid_1's auc: 0.818182\tvalid_1's binary_logloss: 0.33442\n",
      "[56]\tvalid_0's auc: 0.973734\tvalid_0's binary_logloss: 0.285242\tvalid_1's auc: 0.818182\tvalid_1's binary_logloss: 0.333763\n",
      "[57]\tvalid_0's auc: 0.974484\tvalid_0's binary_logloss: 0.283689\tvalid_1's auc: 0.819697\tvalid_1's binary_logloss: 0.33298\n",
      "[58]\tvalid_0's auc: 0.975328\tvalid_0's binary_logloss: 0.282051\tvalid_1's auc: 0.818182\tvalid_1's binary_logloss: 0.333426\n",
      "[59]\tvalid_0's auc: 0.976079\tvalid_0's binary_logloss: 0.280726\tvalid_1's auc: 0.818182\tvalid_1's binary_logloss: 0.332627\n",
      "[60]\tvalid_0's auc: 0.97636\tvalid_0's binary_logloss: 0.279755\tvalid_1's auc: 0.819697\tvalid_1's binary_logloss: 0.332011\n",
      "[61]\tvalid_0's auc: 0.977111\tvalid_0's binary_logloss: 0.278184\tvalid_1's auc: 0.818182\tvalid_1's binary_logloss: 0.332469\n",
      "[62]\tvalid_0's auc: 0.976829\tvalid_0's binary_logloss: 0.277247\tvalid_1's auc: 0.819697\tvalid_1's binary_logloss: 0.331878\n",
      "[63]\tvalid_0's auc: 0.977205\tvalid_0's binary_logloss: 0.276212\tvalid_1's auc: 0.821212\tvalid_1's binary_logloss: 0.331409\n",
      "[64]\tvalid_0's auc: 0.977392\tvalid_0's binary_logloss: 0.275076\tvalid_1's auc: 0.818182\tvalid_1's binary_logloss: 0.331168\n",
      "[65]\tvalid_0's auc: 0.977486\tvalid_0's binary_logloss: 0.273672\tvalid_1's auc: 0.818182\tvalid_1's binary_logloss: 0.331578\n",
      "[66]\tvalid_0's auc: 0.977674\tvalid_0's binary_logloss: 0.272492\tvalid_1's auc: 0.818182\tvalid_1's binary_logloss: 0.330482\n",
      "[67]\tvalid_0's auc: 0.97758\tvalid_0's binary_logloss: 0.27103\tvalid_1's auc: 0.816667\tvalid_1's binary_logloss: 0.330953\n",
      "[68]\tvalid_0's auc: 0.977767\tvalid_0's binary_logloss: 0.269949\tvalid_1's auc: 0.815152\tvalid_1's binary_logloss: 0.33074\n",
      "[69]\tvalid_0's auc: 0.977674\tvalid_0's binary_logloss: 0.269095\tvalid_1's auc: 0.816667\tvalid_1's binary_logloss: 0.330209\n",
      "[70]\tvalid_0's auc: 0.978236\tvalid_0's binary_logloss: 0.267973\tvalid_1's auc: 0.816667\tvalid_1's binary_logloss: 0.329161\n",
      "[71]\tvalid_0's auc: 0.978518\tvalid_0's binary_logloss: 0.267036\tvalid_1's auc: 0.816667\tvalid_1's binary_logloss: 0.32875\n",
      "[72]\tvalid_0's auc: 0.978799\tvalid_0's binary_logloss: 0.265951\tvalid_1's auc: 0.818182\tvalid_1's binary_logloss: 0.327736\n",
      "[73]\tvalid_0's auc: 0.979081\tvalid_0's binary_logloss: 0.264568\tvalid_1's auc: 0.816667\tvalid_1's binary_logloss: 0.328212\n",
      "[74]\tvalid_0's auc: 0.979174\tvalid_0's binary_logloss: 0.263553\tvalid_1's auc: 0.816667\tvalid_1's binary_logloss: 0.327748\n",
      "[75]\tvalid_0's auc: 0.979362\tvalid_0's binary_logloss: 0.262711\tvalid_1's auc: 0.816667\tvalid_1's binary_logloss: 0.327298\n",
      "[76]\tvalid_0's auc: 0.979644\tvalid_0's binary_logloss: 0.261558\tvalid_1's auc: 0.818182\tvalid_1's binary_logloss: 0.326452\n",
      "[77]\tvalid_0's auc: 0.980113\tvalid_0's binary_logloss: 0.260542\tvalid_1's auc: 0.818182\tvalid_1's binary_logloss: 0.326272\n",
      "[78]\tvalid_0's auc: 0.980019\tvalid_0's binary_logloss: 0.25975\tvalid_1's auc: 0.818182\tvalid_1's binary_logloss: 0.325567\n",
      "[79]\tvalid_0's auc: 0.9803\tvalid_0's binary_logloss: 0.258861\tvalid_1's auc: 0.819697\tvalid_1's binary_logloss: 0.325047\n",
      "[80]\tvalid_0's auc: 0.980582\tvalid_0's binary_logloss: 0.257558\tvalid_1's auc: 0.818182\tvalid_1's binary_logloss: 0.325524\n",
      "[81]\tvalid_0's auc: 0.980582\tvalid_0's binary_logloss: 0.256619\tvalid_1's auc: 0.818182\tvalid_1's binary_logloss: 0.325386\n",
      "[82]\tvalid_0's auc: 0.980675\tvalid_0's binary_logloss: 0.255462\tvalid_1's auc: 0.818182\tvalid_1's binary_logloss: 0.324299\n",
      "[83]\tvalid_0's auc: 0.981051\tvalid_0's binary_logloss: 0.254201\tvalid_1's auc: 0.818182\tvalid_1's binary_logloss: 0.32478\n",
      "[84]\tvalid_0's auc: 0.981238\tvalid_0's binary_logloss: 0.253429\tvalid_1's auc: 0.818182\tvalid_1's binary_logloss: 0.324379\n",
      "[85]\tvalid_0's auc: 0.981426\tvalid_0's binary_logloss: 0.25241\tvalid_1's auc: 0.821212\tvalid_1's binary_logloss: 0.323401\n",
      "[86]\tvalid_0's auc: 0.981238\tvalid_0's binary_logloss: 0.251522\tvalid_1's auc: 0.821212\tvalid_1's binary_logloss: 0.323365\n",
      "[87]\tvalid_0's auc: 0.981426\tvalid_0's binary_logloss: 0.25073\tvalid_1's auc: 0.821212\tvalid_1's binary_logloss: 0.323045\n",
      "[88]\tvalid_0's auc: 0.981801\tvalid_0's binary_logloss: 0.249521\tvalid_1's auc: 0.818182\tvalid_1's binary_logloss: 0.323529\n",
      "[89]\tvalid_0's auc: 0.982176\tvalid_0's binary_logloss: 0.24844\tvalid_1's auc: 0.821212\tvalid_1's binary_logloss: 0.322507\n",
      "[90]\tvalid_0's auc: 0.982833\tvalid_0's binary_logloss: 0.247504\tvalid_1's auc: 0.821212\tvalid_1's binary_logloss: 0.321758\n",
      "[91]\tvalid_0's auc: 0.982833\tvalid_0's binary_logloss: 0.246657\tvalid_1's auc: 0.822727\tvalid_1's binary_logloss: 0.321667\n",
      "[92]\tvalid_0's auc: 0.982927\tvalid_0's binary_logloss: 0.245707\tvalid_1's auc: 0.824242\tvalid_1's binary_logloss: 0.320528\n",
      "[93]\tvalid_0's auc: 0.98349\tvalid_0's binary_logloss: 0.244821\tvalid_1's auc: 0.822727\tvalid_1's binary_logloss: 0.320288\n",
      "[94]\tvalid_0's auc: 0.983771\tvalid_0's binary_logloss: 0.243742\tvalid_1's auc: 0.822727\tvalid_1's binary_logloss: 0.320727\n",
      "[95]\tvalid_0's auc: 0.983959\tvalid_0's binary_logloss: 0.242749\tvalid_1's auc: 0.821212\tvalid_1's binary_logloss: 0.32051\n",
      "[96]\tvalid_0's auc: 0.984428\tvalid_0's binary_logloss: 0.241761\tvalid_1's auc: 0.822727\tvalid_1's binary_logloss: 0.319736\n",
      "[97]\tvalid_0's auc: 0.984615\tvalid_0's binary_logloss: 0.241077\tvalid_1's auc: 0.822727\tvalid_1's binary_logloss: 0.319497\n",
      "[98]\tvalid_0's auc: 0.984522\tvalid_0's binary_logloss: 0.240214\tvalid_1's auc: 0.824242\tvalid_1's binary_logloss: 0.318673\n",
      "[99]\tvalid_0's auc: 0.984803\tvalid_0's binary_logloss: 0.239368\tvalid_1's auc: 0.824242\tvalid_1's binary_logloss: 0.318122\n",
      "[100]\tvalid_0's auc: 0.984615\tvalid_0's binary_logloss: 0.238626\tvalid_1's auc: 0.825758\tvalid_1's binary_logloss: 0.317574\n",
      "[101]\tvalid_0's auc: 0.985178\tvalid_0's binary_logloss: 0.23766\tvalid_1's auc: 0.827273\tvalid_1's binary_logloss: 0.317079\n",
      "[102]\tvalid_0's auc: 0.98546\tvalid_0's binary_logloss: 0.236969\tvalid_1's auc: 0.827273\tvalid_1's binary_logloss: 0.316755\n",
      "[103]\tvalid_0's auc: 0.985741\tvalid_0's binary_logloss: 0.236291\tvalid_1's auc: 0.825758\tvalid_1's binary_logloss: 0.316443\n",
      "[104]\tvalid_0's auc: 0.986116\tvalid_0's binary_logloss: 0.235542\tvalid_1's auc: 0.827273\tvalid_1's binary_logloss: 0.315885\n",
      "[105]\tvalid_0's auc: 0.986773\tvalid_0's binary_logloss: 0.234463\tvalid_1's auc: 0.824242\tvalid_1's binary_logloss: 0.316401\n",
      "[106]\tvalid_0's auc: 0.986867\tvalid_0's binary_logloss: 0.233551\tvalid_1's auc: 0.824242\tvalid_1's binary_logloss: 0.31622\n",
      "[107]\tvalid_0's auc: 0.98743\tvalid_0's binary_logloss: 0.232756\tvalid_1's auc: 0.824242\tvalid_1's binary_logloss: 0.315738\n",
      "[108]\tvalid_0's auc: 0.987523\tvalid_0's binary_logloss: 0.231967\tvalid_1's auc: 0.824242\tvalid_1's binary_logloss: 0.315615\n",
      "[109]\tvalid_0's auc: 0.988274\tvalid_0's binary_logloss: 0.231039\tvalid_1's auc: 0.825758\tvalid_1's binary_logloss: 0.315496\n",
      "[110]\tvalid_0's auc: 0.988649\tvalid_0's binary_logloss: 0.230067\tvalid_1's auc: 0.824242\tvalid_1's binary_logloss: 0.315422\n",
      "[111]\tvalid_0's auc: 0.988837\tvalid_0's binary_logloss: 0.229415\tvalid_1's auc: 0.825758\tvalid_1's binary_logloss: 0.315212\n",
      "[112]\tvalid_0's auc: 0.988743\tvalid_0's binary_logloss: 0.228663\tvalid_1's auc: 0.827273\tvalid_1's binary_logloss: 0.31448\n",
      "[113]\tvalid_0's auc: 0.989024\tvalid_0's binary_logloss: 0.22807\tvalid_1's auc: 0.825758\tvalid_1's binary_logloss: 0.314081\n",
      "[114]\tvalid_0's auc: 0.989118\tvalid_0's binary_logloss: 0.227319\tvalid_1's auc: 0.822727\tvalid_1's binary_logloss: 0.313979\n",
      "[115]\tvalid_0's auc: 0.989118\tvalid_0's binary_logloss: 0.226594\tvalid_1's auc: 0.822727\tvalid_1's binary_logloss: 0.313274\n",
      "[116]\tvalid_0's auc: 0.989024\tvalid_0's binary_logloss: 0.225868\tvalid_1's auc: 0.824242\tvalid_1's binary_logloss: 0.312775\n",
      "[117]\tvalid_0's auc: 0.989118\tvalid_0's binary_logloss: 0.22527\tvalid_1's auc: 0.822727\tvalid_1's binary_logloss: 0.312593\n",
      "[118]\tvalid_0's auc: 0.989775\tvalid_0's binary_logloss: 0.224541\tvalid_1's auc: 0.822727\tvalid_1's binary_logloss: 0.312124\n",
      "[119]\tvalid_0's auc: 0.989775\tvalid_0's binary_logloss: 0.223825\tvalid_1's auc: 0.824242\tvalid_1's binary_logloss: 0.312077\n",
      "[120]\tvalid_0's auc: 0.990525\tvalid_0's binary_logloss: 0.223171\tvalid_1's auc: 0.827273\tvalid_1's binary_logloss: 0.311594\n",
      "[121]\tvalid_0's auc: 0.990713\tvalid_0's binary_logloss: 0.222485\tvalid_1's auc: 0.822727\tvalid_1's binary_logloss: 0.31143\n",
      "[122]\tvalid_0's auc: 0.990807\tvalid_0's binary_logloss: 0.22163\tvalid_1's auc: 0.822727\tvalid_1's binary_logloss: 0.311545\n",
      "[123]\tvalid_0's auc: 0.990807\tvalid_0's binary_logloss: 0.220707\tvalid_1's auc: 0.822727\tvalid_1's binary_logloss: 0.312023\n",
      "[124]\tvalid_0's auc: 0.990713\tvalid_0's binary_logloss: 0.219931\tvalid_1's auc: 0.822727\tvalid_1's binary_logloss: 0.311595\n",
      "[125]\tvalid_0's auc: 0.990807\tvalid_0's binary_logloss: 0.219296\tvalid_1's auc: 0.822727\tvalid_1's binary_logloss: 0.311394\n",
      "[126]\tvalid_0's auc: 0.990994\tvalid_0's binary_logloss: 0.218512\tvalid_1's auc: 0.825758\tvalid_1's binary_logloss: 0.310798\n",
      "[127]\tvalid_0's auc: 0.991557\tvalid_0's binary_logloss: 0.21784\tvalid_1's auc: 0.825758\tvalid_1's binary_logloss: 0.310672\n",
      "[128]\tvalid_0's auc: 0.991745\tvalid_0's binary_logloss: 0.217017\tvalid_1's auc: 0.825758\tvalid_1's binary_logloss: 0.310794\n",
      "[129]\tvalid_0's auc: 0.991932\tvalid_0's binary_logloss: 0.21635\tvalid_1's auc: 0.825758\tvalid_1's binary_logloss: 0.310741\n",
      "[130]\tvalid_0's auc: 0.99212\tvalid_0's binary_logloss: 0.215723\tvalid_1's auc: 0.825758\tvalid_1's binary_logloss: 0.310115\n",
      "[131]\tvalid_0's auc: 0.992214\tvalid_0's binary_logloss: 0.21486\tvalid_1's auc: 0.824242\tvalid_1's binary_logloss: 0.30965\n",
      "[132]\tvalid_0's auc: 0.992402\tvalid_0's binary_logloss: 0.214253\tvalid_1's auc: 0.825758\tvalid_1's binary_logloss: 0.309462\n",
      "[133]\tvalid_0's auc: 0.992683\tvalid_0's binary_logloss: 0.213453\tvalid_1's auc: 0.827273\tvalid_1's binary_logloss: 0.309489\n",
      "[134]\tvalid_0's auc: 0.992777\tvalid_0's binary_logloss: 0.212849\tvalid_1's auc: 0.827273\tvalid_1's binary_logloss: 0.308882\n",
      "[135]\tvalid_0's auc: 0.992777\tvalid_0's binary_logloss: 0.212246\tvalid_1's auc: 0.827273\tvalid_1's binary_logloss: 0.308804\n",
      "[136]\tvalid_0's auc: 0.993058\tvalid_0's binary_logloss: 0.211535\tvalid_1's auc: 0.827273\tvalid_1's binary_logloss: 0.308429\n",
      "[137]\tvalid_0's auc: 0.993058\tvalid_0's binary_logloss: 0.210909\tvalid_1's auc: 0.827273\tvalid_1's binary_logloss: 0.308404\n",
      "[138]\tvalid_0's auc: 0.993246\tvalid_0's binary_logloss: 0.21029\tvalid_1's auc: 0.825758\tvalid_1's binary_logloss: 0.308167\n",
      "[139]\tvalid_0's auc: 0.99334\tvalid_0's binary_logloss: 0.209481\tvalid_1's auc: 0.825758\tvalid_1's binary_logloss: 0.308494\n",
      "[140]\tvalid_0's auc: 0.993433\tvalid_0's binary_logloss: 0.208807\tvalid_1's auc: 0.824242\tvalid_1's binary_logloss: 0.30829\n",
      "[141]\tvalid_0's auc: 0.993527\tvalid_0's binary_logloss: 0.208168\tvalid_1's auc: 0.825758\tvalid_1's binary_logloss: 0.308039\n",
      "[142]\tvalid_0's auc: 0.993621\tvalid_0's binary_logloss: 0.207407\tvalid_1's auc: 0.824242\tvalid_1's binary_logloss: 0.307744\n",
      "[143]\tvalid_0's auc: 0.993621\tvalid_0's binary_logloss: 0.206823\tvalid_1's auc: 0.824242\tvalid_1's binary_logloss: 0.307638\n",
      "[144]\tvalid_0's auc: 0.993715\tvalid_0's binary_logloss: 0.206017\tvalid_1's auc: 0.825758\tvalid_1's binary_logloss: 0.307473\n",
      "[145]\tvalid_0's auc: 0.993902\tvalid_0's binary_logloss: 0.20545\tvalid_1's auc: 0.827273\tvalid_1's binary_logloss: 0.307413\n",
      "[146]\tvalid_0's auc: 0.993902\tvalid_0's binary_logloss: 0.204801\tvalid_1's auc: 0.825758\tvalid_1's binary_logloss: 0.307231\n",
      "[147]\tvalid_0's auc: 0.993996\tvalid_0's binary_logloss: 0.204237\tvalid_1's auc: 0.825758\tvalid_1's binary_logloss: 0.307135\n",
      "[148]\tvalid_0's auc: 0.993902\tvalid_0's binary_logloss: 0.203701\tvalid_1's auc: 0.827273\tvalid_1's binary_logloss: 0.306595\n",
      "[149]\tvalid_0's auc: 0.993902\tvalid_0's binary_logloss: 0.203122\tvalid_1's auc: 0.827273\tvalid_1's binary_logloss: 0.306369\n",
      "[150]\tvalid_0's auc: 0.993996\tvalid_0's binary_logloss: 0.202552\tvalid_1's auc: 0.825758\tvalid_1's binary_logloss: 0.306301\n",
      "[151]\tvalid_0's auc: 0.994184\tvalid_0's binary_logloss: 0.201696\tvalid_1's auc: 0.824242\tvalid_1's binary_logloss: 0.306114\n",
      "[152]\tvalid_0's auc: 0.994371\tvalid_0's binary_logloss: 0.200983\tvalid_1's auc: 0.824242\tvalid_1's binary_logloss: 0.306255\n",
      "[153]\tvalid_0's auc: 0.994653\tvalid_0's binary_logloss: 0.20045\tvalid_1's auc: 0.824242\tvalid_1's binary_logloss: 0.306111\n",
      "[154]\tvalid_0's auc: 0.994747\tvalid_0's binary_logloss: 0.19998\tvalid_1's auc: 0.822727\tvalid_1's binary_logloss: 0.305784\n",
      "[155]\tvalid_0's auc: 0.994841\tvalid_0's binary_logloss: 0.19922\tvalid_1's auc: 0.822727\tvalid_1's binary_logloss: 0.30539\n",
      "[156]\tvalid_0's auc: 0.995122\tvalid_0's binary_logloss: 0.198669\tvalid_1's auc: 0.830303\tvalid_1's binary_logloss: 0.304936\n"
     ]
    },
    {
     "data": {
      "text/plain": [
       "LGBMClassifier(bagging_fraction=0.9114, boosting_type='gbdt', class_weight=None,\n",
       "               colsample_bytree=1.0, feature_fraction=0.8874,\n",
       "               importance_type='split', lambda_l1=0.01122, lambda_l2=0.08378,\n",
       "               learning_rate=0.01, max_depth=25, min_child_samples=20,\n",
       "               min_child_weight=0.5, min_split_gain=0.05922, n_estimators=156,\n",
       "               n_jobs=20, num_leaves=25, objective=None, random_state=None,\n",
       "               reg_alpha=0.0, reg_lambda=0.0, scale_pos_weight=0.5, silent=True,\n",
       "               subsample=1.0, subsample_for_bin=200000, subsample_freq=0,\n",
       "               verbose=1)"
      ]
     },
     "execution_count": 49,
     "metadata": {},
     "output_type": "execute_result"
    }
   ],
   "source": [
    "model2.fit(X_train,y_train,eval_metric =eval_metric, eval_set=eval_set, verbose=True)"
   ]
  },
  {
   "cell_type": "code",
   "execution_count": 71,
   "metadata": {},
   "outputs": [
    {
     "name": "stdout",
     "output_type": "stream",
     "text": [
      "Specificity :  0.5098039215686274\n",
      "Sensitivity :  1.0\n",
      "Accuracy :  0.9336870026525199\n",
      "Confusion Matrix : \n",
      " [ 26  25   0 326]\n"
     ]
    }
   ],
   "source": [
    "pred=model2.predict(X)\n",
    "from sklearn.metrics import confusion_matrix\n",
    "from sklearn.metrics import classification_report\n",
    "tn, fp, fn, tp = confusion_matrix(df['SURVIVAL_STATUS'], pred,labels=[0,1]).ravel()\n",
    "cm=confusion_matrix(df['SURVIVAL_STATUS'], pred,labels=[0,1]).ravel()\n",
    "total=sum(cm)\n",
    "accuracy=(tp+tn)/(tp+tn+fn+fp)\n",
    "sensitivity = tp/(tp+fn)\n",
    "specificity = tn/(tn+fp)\n",
    "print('Specificity : ', specificity)\n",
    "print('Sensitivity : ', sensitivity )\n",
    "print ('Accuracy : ', accuracy)\n",
    "print('Confusion Matrix : \\n', cm)"
   ]
  },
  {
   "cell_type": "code",
   "execution_count": 72,
   "metadata": {},
   "outputs": [
    {
     "data": {
      "text/plain": [
       "0.7549019607843137"
      ]
     },
     "execution_count": 72,
     "metadata": {},
     "output_type": "execute_result"
    }
   ],
   "source": [
    "roc_auc_score(df['SURVIVAL_STATUS'], pred)"
   ]
  },
  {
   "cell_type": "code",
   "execution_count": 73,
   "metadata": {},
   "outputs": [
    {
     "name": "stdout",
     "output_type": "stream",
     "text": [
      "              precision    recall  f1-score   support\n",
      "\n",
      "           0       1.00      0.51      0.68        51\n",
      "           1       0.93      1.00      0.96       326\n",
      "\n",
      "    accuracy                           0.93       377\n",
      "   macro avg       0.96      0.75      0.82       377\n",
      "weighted avg       0.94      0.93      0.92       377\n",
      "\n"
     ]
    }
   ],
   "source": [
    "print(classification_report(y, pred))"
   ]
  },
  {
   "cell_type": "code",
   "execution_count": 88,
   "metadata": {},
   "outputs": [
    {
     "name": "stdout",
     "output_type": "stream",
     "text": [
      "Fitting 10 folds for each of 290 candidates, totalling 2900 fits\n"
     ]
    },
    {
     "name": "stderr",
     "output_type": "stream",
     "text": [
      "[Parallel(n_jobs=50)]: Using backend LokyBackend with 50 concurrent workers.\n",
      "[Parallel(n_jobs=50)]: Done 100 tasks      | elapsed:    1.1s\n",
      "[Parallel(n_jobs=50)]: Done 600 tasks      | elapsed:    1.6s\n",
      "[Parallel(n_jobs=50)]: Done 2355 tasks      | elapsed:    2.4s\n"
     ]
    },
    {
     "name": "stdout",
     "output_type": "stream",
     "text": [
      "Best leaf_size: 30\n",
      "Best p: 1\n",
      "Best n_neighbors: 14\n"
     ]
    },
    {
     "name": "stderr",
     "output_type": "stream",
     "text": [
      "[Parallel(n_jobs=50)]: Done 2900 out of 2900 | elapsed:    2.8s finished\n"
     ]
    }
   ],
   "source": [
    "from sklearn.neighbors import KNeighborsClassifier\n",
    "from sklearn.metrics import classification_report\n",
    "#List Hyperparameters that we want to tune.\n",
    "n_neighbors = list(range(1,30))\n",
    "p=[1,2,3,4,5,6,7,8,9,10]\n",
    "#Convert to dictionary\n",
    "hyperparameters = dict( n_neighbors=n_neighbors, p=p)\n",
    "#Create new KNN object\n",
    "knn_2 = KNeighborsClassifier()\n",
    "#Use GridSearch\n",
    "clf = GridSearchCV(knn_2, hyperparameters, cv=10, n_jobs=50,verbose=1)\n",
    "#Fit the model\n",
    "best_model = clf.fit(X,y)\n",
    "#Print The value of best Hyperparameters\n",
    "print('Best leaf_size:', best_model.best_estimator_.get_params()['leaf_size'])\n",
    "print('Best p:', best_model.best_estimator_.get_params()['p'])\n",
    "print('Best n_neighbors:', best_model.best_estimator_.get_params()['n_neighbors'])"
   ]
  },
  {
   "cell_type": "code",
   "execution_count": 89,
   "metadata": {},
   "outputs": [],
   "source": [
    "knn = KNeighborsClassifier(leaf_size=30, p=1, n_neighbors= 14,weights='distance')"
   ]
  },
  {
   "cell_type": "code",
   "execution_count": 90,
   "metadata": {},
   "outputs": [
    {
     "data": {
      "text/plain": [
       "KNeighborsClassifier(algorithm='auto', leaf_size=30, metric='minkowski',\n",
       "                     metric_params=None, n_jobs=None, n_neighbors=14, p=1,\n",
       "                     weights='distance')"
      ]
     },
     "execution_count": 90,
     "metadata": {},
     "output_type": "execute_result"
    }
   ],
   "source": [
    "knn.fit(X_train,y_train)"
   ]
  },
  {
   "cell_type": "code",
   "execution_count": 91,
   "metadata": {},
   "outputs": [
    {
     "name": "stdout",
     "output_type": "stream",
     "text": [
      "Specificity :  0.8235294117647058\n",
      "Sensitivity :  0.9969325153374233\n",
      "Accuracy :  0.9734748010610079\n",
      "Confusion Matrix : \n",
      " [ 42   9   1 325]\n"
     ]
    }
   ],
   "source": [
    "pred=knn.predict(X)\n",
    "from sklearn.metrics import confusion_matrix\n",
    "from sklearn.metrics import classification_report\n",
    "tn, fp, fn, tp = confusion_matrix(df['SURVIVAL_STATUS'], pred,labels=[0,1]).ravel()\n",
    "cm=confusion_matrix(df['SURVIVAL_STATUS'], pred,labels=[0,1]).ravel()\n",
    "total=sum(cm)\n",
    "accuracy=(tp+tn)/(tp+tn+fn+fp)\n",
    "sensitivity = tp/(tp+fn)\n",
    "specificity = tn/(tn+fp)\n",
    "print('Specificity : ', specificity)\n",
    "print('Sensitivity : ', sensitivity )\n",
    "print ('Accuracy : ', accuracy)\n",
    "print('Confusion Matrix : \\n', cm)"
   ]
  },
  {
   "cell_type": "code",
   "execution_count": 92,
   "metadata": {},
   "outputs": [
    {
     "data": {
      "text/plain": [
       "0.9102309635510646"
      ]
     },
     "execution_count": 92,
     "metadata": {},
     "output_type": "execute_result"
    }
   ],
   "source": [
    "roc_auc_score(df['SURVIVAL_STATUS'], pred)"
   ]
  },
  {
   "cell_type": "code",
   "execution_count": 56,
   "metadata": {},
   "outputs": [
    {
     "name": "stdout",
     "output_type": "stream",
     "text": [
      "              precision    recall  f1-score   support\n",
      "\n",
      "           0       0.98      0.82      0.89        51\n",
      "           1       0.97      1.00      0.98       326\n",
      "\n",
      "    accuracy                           0.97       377\n",
      "   macro avg       0.97      0.91      0.94       377\n",
      "weighted avg       0.97      0.97      0.97       377\n",
      "\n"
     ]
    }
   ],
   "source": [
    "print(classification_report(y, pred))"
   ]
  },
  {
   "cell_type": "code",
   "execution_count": 151,
   "metadata": {},
   "outputs": [
    {
     "name": "stdout",
     "output_type": "stream",
     "text": [
      "|   iter    |  target   |   alpha   | fit_in... |\n",
      "-------------------------------------------------\n",
      "| \u001b[0m 1       \u001b[0m | \u001b[0m 0.794   \u001b[0m | \u001b[0m 27.89   \u001b[0m | \u001b[0m 1.423   \u001b[0m |\n",
      "| \u001b[0m 2       \u001b[0m | \u001b[0m 0.7935  \u001b[0m | \u001b[0m 30.54   \u001b[0m | \u001b[0m 1.084   \u001b[0m |\n",
      "| \u001b[0m 3       \u001b[0m | \u001b[0m 0.7929  \u001b[0m | \u001b[0m 21.76   \u001b[0m | \u001b[0m 1.285   \u001b[0m |\n",
      "| \u001b[0m 4       \u001b[0m | \u001b[0m 0.7934  \u001b[0m | \u001b[0m 22.44   \u001b[0m | \u001b[0m 1.775   \u001b[0m |\n",
      "| \u001b[0m 5       \u001b[0m | \u001b[0m 0.7933  \u001b[0m | \u001b[0m 48.22   \u001b[0m | \u001b[0m 0.763   \u001b[0m |\n",
      "| \u001b[0m 6       \u001b[0m | \u001b[0m 0.7849  \u001b[0m | \u001b[0m 1.004   \u001b[0m | \u001b[0m 0.003511\u001b[0m |\n",
      "| \u001b[95m 7       \u001b[0m | \u001b[95m 0.7973  \u001b[0m | \u001b[95m 49.94   \u001b[0m | \u001b[95m 1.983   \u001b[0m |\n",
      "| \u001b[0m 8       \u001b[0m | \u001b[0m 0.7973  \u001b[0m | \u001b[0m 49.98   \u001b[0m | \u001b[0m 1.976   \u001b[0m |\n",
      "| \u001b[0m 9       \u001b[0m | \u001b[0m 0.7973  \u001b[0m | \u001b[0m 49.64   \u001b[0m | \u001b[0m 1.989   \u001b[0m |\n",
      "| \u001b[0m 10      \u001b[0m | \u001b[0m 0.7973  \u001b[0m | \u001b[0m 49.98   \u001b[0m | \u001b[0m 1.989   \u001b[0m |\n",
      "| \u001b[0m 11      \u001b[0m | \u001b[0m 0.7973  \u001b[0m | \u001b[0m 49.97   \u001b[0m | \u001b[0m 1.985   \u001b[0m |\n",
      "| \u001b[0m 12      \u001b[0m | \u001b[0m 0.7973  \u001b[0m | \u001b[0m 49.99   \u001b[0m | \u001b[0m 1.981   \u001b[0m |\n",
      "| \u001b[0m 13      \u001b[0m | \u001b[0m 0.7973  \u001b[0m | \u001b[0m 49.98   \u001b[0m | \u001b[0m 1.981   \u001b[0m |\n",
      "| \u001b[0m 14      \u001b[0m | \u001b[0m 0.7973  \u001b[0m | \u001b[0m 49.89   \u001b[0m | \u001b[0m 1.983   \u001b[0m |\n",
      "| \u001b[0m 15      \u001b[0m | \u001b[0m 0.7973  \u001b[0m | \u001b[0m 49.67   \u001b[0m | \u001b[0m 1.989   \u001b[0m |\n",
      "=================================================\n"
     ]
    }
   ],
   "source": [
    "from sklearn.linear_model import RidgeClassifier\n",
    "develop = True\n",
    "seed = 0\n",
    "\n",
    "    \n",
    "def target(**params):\n",
    "    fit_intercept = int(params['fit_intercept'])\n",
    "    fit_intercept_dict = {0:False, 1:True}\n",
    "\n",
    "    model = RidgeClassifier(alpha = params['alpha'],\n",
    "                    fit_intercept = fit_intercept_dict[fit_intercept],\n",
    "                    copy_X = True,class_weight='balanced' )\n",
    "    \n",
    "    scores = cross_val_score(model, X_train, y_train, scoring='roc_auc', cv=5)\n",
    "    return scores.mean()\n",
    "    \n",
    "params = {'alpha':(1, 50),\n",
    "          'fit_intercept':(0,1.99)}\n",
    "if develop:\n",
    "    bo = BayesianOptimization(target, params, random_state=seed)\n",
    "    bo.maximize(init_points=5, n_iter=10, acq='ucb')\n",
    "    "
   ]
  },
  {
   "cell_type": "code",
   "execution_count": 159,
   "metadata": {},
   "outputs": [
    {
     "name": "stdout",
     "output_type": "stream",
     "text": [
      "Specificity :  0.6470588235294118\n",
      "Sensitivity :  0.7944785276073619\n",
      "Accuracy :  0.7745358090185677\n",
      "Confusion Matrix : \n",
      " [ 33  18  67 259]\n"
     ]
    }
   ],
   "source": [
    "ridgemodel = RidgeClassifier(alpha = 49.94    ,\n",
    "                  fit_intercept = 1.983    , class_weight='balanced',\n",
    "                  copy_X = True)\n",
    "\n",
    "ridgemodel.fit(X_train, y_train)\n",
    "pred = ridgemodel.predict(X)\n",
    "from sklearn.metrics import confusion_matrix\n",
    "from sklearn.metrics import classification_report\n",
    "tn, fp, fn, tp = confusion_matrix(df['SURVIVAL_STATUS'], pred,labels=[0,1]).ravel()\n",
    "cm=confusion_matrix(df['SURVIVAL_STATUS'], pred,labels=[0,1]).ravel()\n",
    "total=sum(cm)\n",
    "accuracy=(tp+tn)/(tp+tn+fn+fp)\n",
    "sensitivity = tp/(tp+fn)\n",
    "specificity = tn/(tn+fp)\n",
    "print('Specificity : ', specificity)\n",
    "print('Sensitivity : ', sensitivity )\n",
    "print ('Accuracy : ', accuracy)\n",
    "print('Confusion Matrix : \\n', cm)"
   ]
  },
  {
   "cell_type": "code",
   "execution_count": 93,
   "metadata": {},
   "outputs": [
    {
     "data": {
      "text/plain": [
       "VotingClassifier(estimators=[('xgb',\n",
       "                              XGBClassifier(base_score=0.5, booster='gbtree',\n",
       "                                            colsample=1, colsample_bylevel=1,\n",
       "                                            colsample_bynode=1,\n",
       "                                            colsample_bytree=1, gamma=0,\n",
       "                                            learning_rate=0.1, max_delta_step=5,\n",
       "                                            max_depth=25,\n",
       "                                            min_child_weight=0.0001,\n",
       "                                            missing=None, n_estimators=100,\n",
       "                                            n_jobs=1, nthread=None,\n",
       "                                            objective='binary:logistic',\n",
       "                                            random_state=0, reg_alpha=0.1,\n",
       "                                            reg_lambda=1, scale_pos_weight=0.5,\n",
       "                                            seed=None, silent=None,\n",
       "                                            subsample=0.5, verbosity=1)),\n",
       "                             ('knn',\n",
       "                              KNeighborsClassifier(algorithm='auto',\n",
       "                                                   leaf_size=30,\n",
       "                                                   metric='minkowski',\n",
       "                                                   metric_params=None,\n",
       "                                                   n_jobs=None, n_neighbors=14,\n",
       "                                                   p=1, weights='distance'))],\n",
       "                 flatten_transform=True, n_jobs=None, voting='hard',\n",
       "                 weights=None)"
      ]
     },
     "execution_count": 93,
     "metadata": {},
     "output_type": "execute_result"
    }
   ],
   "source": [
    "from sklearn.ensemble import VotingClassifier\n",
    "\n",
    "voting_classifier = VotingClassifier(estimators=[\n",
    "    ('xgb',model), \n",
    "    ('knn', knn)],voting='hard')\n",
    "voting_classifier.fit(X_train,y_train)"
   ]
  },
  {
   "cell_type": "code",
   "execution_count": 94,
   "metadata": {},
   "outputs": [
    {
     "name": "stdout",
     "output_type": "stream",
     "text": [
      "Specificity :  0.8431372549019608\n",
      "Sensitivity :  0.9938650306748467\n",
      "Accuracy :  0.9734748010610079\n",
      "Confusion Matrix : \n",
      " [ 43   8   2 324]\n"
     ]
    }
   ],
   "source": [
    "pred=voting_classifier.predict(X)\n",
    "from sklearn.metrics import confusion_matrix\n",
    "from sklearn.metrics import classification_report\n",
    "tn, fp, fn, tp = confusion_matrix(df['SURVIVAL_STATUS'], pred,labels=[0,1]).ravel()\n",
    "cm=confusion_matrix(df['SURVIVAL_STATUS'], pred,labels=[0,1]).ravel()\n",
    "total=sum(cm)\n",
    "accuracy=(tp+tn)/(tp+tn+fn+fp)\n",
    "sensitivity = tp/(tp+fn)\n",
    "specificity = tn/(tn+fp)\n",
    "print('Specificity : ', specificity)\n",
    "print('Sensitivity : ', sensitivity )\n",
    "print ('Accuracy : ', accuracy)\n",
    "print('Confusion Matrix : \\n', cm)"
   ]
  },
  {
   "cell_type": "code",
   "execution_count": 86,
   "metadata": {},
   "outputs": [
    {
     "data": {
      "text/plain": [
       "0.9185011427884038"
      ]
     },
     "execution_count": 86,
     "metadata": {},
     "output_type": "execute_result"
    }
   ],
   "source": [
    "roc_auc_score(df['SURVIVAL_STATUS'], pred)"
   ]
  },
  {
   "cell_type": "code",
   "execution_count": 82,
   "metadata": {},
   "outputs": [
    {
     "name": "stdout",
     "output_type": "stream",
     "text": [
      "              precision    recall  f1-score   support\n",
      "\n",
      "           0       0.96      0.84      0.90        51\n",
      "           1       0.98      0.99      0.98       326\n",
      "\n",
      "    accuracy                           0.97       377\n",
      "   macro avg       0.97      0.92      0.94       377\n",
      "weighted avg       0.97      0.97      0.97       377\n",
      "\n"
     ]
    }
   ],
   "source": [
    "print(classification_report(y, pred))"
   ]
  },
  {
   "cell_type": "code",
   "execution_count": 95,
   "metadata": {},
   "outputs": [],
   "source": [
    "from mlxtend.classifier import StackingCVClassifier\n",
    "lr = LogisticRegression()\n",
    "sclf = StackingCVClassifier(classifiers = [model, knn],\n",
    "                            shuffle = False,\n",
    "                            use_probas = True,\n",
    "                            cv = 5,\n",
    "                            meta_classifier = lr)"
   ]
  },
  {
   "cell_type": "code",
   "execution_count": 96,
   "metadata": {},
   "outputs": [
    {
     "data": {
      "text/plain": [
       "StackingCVClassifier(classifiers=[XGBClassifier(base_score=0.5,\n",
       "                                                booster='gbtree', colsample=1,\n",
       "                                                colsample_bylevel=1,\n",
       "                                                colsample_bynode=1,\n",
       "                                                colsample_bytree=1, gamma=0,\n",
       "                                                learning_rate=0.1,\n",
       "                                                max_delta_step=5, max_depth=25,\n",
       "                                                min_child_weight=0.0001,\n",
       "                                                missing=None, n_estimators=100,\n",
       "                                                n_jobs=1, nthread=None,\n",
       "                                                objective='binary:logistic',\n",
       "                                                random_state=0, reg_alpha=0.1,\n",
       "                                                reg_lambda=...\n",
       "                                                        intercept_scaling=1,\n",
       "                                                        l1_ratio=None,\n",
       "                                                        max_iter=100,\n",
       "                                                        multi_class='warn',\n",
       "                                                        n_jobs=None,\n",
       "                                                        penalty='l2',\n",
       "                                                        random_state=None,\n",
       "                                                        solver='warn',\n",
       "                                                        tol=0.0001, verbose=0,\n",
       "                                                        warm_start=False),\n",
       "                     n_jobs=None, pre_dispatch='2*n_jobs', random_state=None,\n",
       "                     shuffle=False, store_train_meta_features=False,\n",
       "                     stratify=True, use_clones=True,\n",
       "                     use_features_in_secondary=False, use_probas=True,\n",
       "                     verbose=0)"
      ]
     },
     "execution_count": 96,
     "metadata": {},
     "output_type": "execute_result"
    }
   ],
   "source": [
    "sclf.fit(X_train, y_train)"
   ]
  },
  {
   "cell_type": "code",
   "execution_count": 97,
   "metadata": {},
   "outputs": [
    {
     "name": "stdout",
     "output_type": "stream",
     "text": [
      "Specificity :  0.8235294117647058\n",
      "Sensitivity :  0.9938650306748467\n",
      "Accuracy :  0.9708222811671088\n",
      "Confusion Matrix : \n",
      " [ 42   9   2 324]\n"
     ]
    }
   ],
   "source": [
    "pred=sclf.predict(X)\n",
    "from sklearn.metrics import confusion_matrix\n",
    "from sklearn.metrics import classification_report\n",
    "tn, fp, fn, tp = confusion_matrix(df['SURVIVAL_STATUS'], pred,labels=[0,1]).ravel()\n",
    "cm=confusion_matrix(df['SURVIVAL_STATUS'], pred,labels=[0,1]).ravel()\n",
    "total=sum(cm)\n",
    "accuracy=(tp+tn)/(tp+tn+fn+fp)\n",
    "sensitivity = tp/(tp+fn)\n",
    "specificity = tn/(tn+fp)\n",
    "print('Specificity : ', specificity)\n",
    "print('Sensitivity : ', sensitivity )\n",
    "print ('Accuracy : ', accuracy)\n",
    "print('Confusion Matrix : \\n', cm)"
   ]
  },
  {
   "cell_type": "code",
   "execution_count": 98,
   "metadata": {},
   "outputs": [
    {
     "data": {
      "text/plain": [
       "0.9086972212197763"
      ]
     },
     "execution_count": 98,
     "metadata": {},
     "output_type": "execute_result"
    }
   ],
   "source": [
    "roc_auc_score(df['SURVIVAL_STATUS'], pred)\n"
   ]
  },
  {
   "cell_type": "code",
   "execution_count": null,
   "metadata": {},
   "outputs": [],
   "source": []
  }
 ],
 "metadata": {
  "kernelspec": {
   "display_name": "Python 3",
   "language": "python",
   "name": "python3"
  },
  "language_info": {
   "codemirror_mode": {
    "name": "ipython",
    "version": 3
   },
   "file_extension": ".py",
   "mimetype": "text/x-python",
   "name": "python",
   "nbconvert_exporter": "python",
   "pygments_lexer": "ipython3",
   "version": "3.7.5"
  }
 },
 "nbformat": 4,
 "nbformat_minor": 4
}
