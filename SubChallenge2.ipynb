{
 "cells": [
  {
   "cell_type": "code",
   "execution_count": 1,
   "metadata": {},
   "outputs": [
    {
     "name": "stdout",
     "output_type": "stream",
     "text": [
      "/usr/bin/sh: line 0: cd: /home/kamil.kural/FdaPrecision: No such file or directory\n"
     ]
    }
   ],
   "source": [
    "!cd /home/kamil.kural/FdaPrecision Challenge"
   ]
  },
  {
   "cell_type": "code",
   "execution_count": 2,
   "metadata": {},
   "outputs": [],
   "source": [
    "import os\n",
    "current_path = os.getcwd()"
   ]
  },
  {
   "cell_type": "code",
   "execution_count": 3,
   "metadata": {},
   "outputs": [
    {
     "data": {
      "text/plain": [
       "'/home/kamil.kural/FdaPrecision Challenge'"
      ]
     },
     "execution_count": 3,
     "metadata": {},
     "output_type": "execute_result"
    }
   ],
   "source": [
    "current_path"
   ]
  },
  {
   "cell_type": "code",
   "execution_count": 4,
   "metadata": {},
   "outputs": [
    {
     "name": "stderr",
     "output_type": "stream",
     "text": [
      "Using TensorFlow backend.\n"
     ]
    }
   ],
   "source": [
    "import numpy as np\n",
    "import pandas as pd\n",
    "import os\n",
    "import copy\n",
    "import matplotlib.pyplot as plt\n",
    "%matplotlib inline\n",
    "from tqdm import tqdm_notebook\n",
    "from sklearn.preprocessing import StandardScaler\n",
    "from sklearn.svm import NuSVR, SVR\n",
    "from sklearn.metrics import mean_absolute_error\n",
    "pd.options.display.precision = 15\n",
    "from collections import defaultdict\n",
    "import lightgbm as lgb\n",
    "import xgboost as xgb\n",
    "import catboost as cat\n",
    "import time\n",
    "import datetime\n",
    "from catboost import CatBoostRegressor\n",
    "from sklearn.preprocessing import LabelEncoder\n",
    "from sklearn.model_selection import StratifiedKFold, KFold, RepeatedKFold, GroupKFold, GridSearchCV, train_test_split, TimeSeriesSplit, RepeatedStratifiedKFold\n",
    "from sklearn import metrics\n",
    "from sklearn.metrics import classification_report, confusion_matrix\n",
    "from sklearn import linear_model\n",
    "import gc\n",
    "import seaborn as sns\n",
    "import warnings\n",
    "warnings.filterwarnings(\"ignore\")\n",
    "import eli5\n",
    "import shap\n",
    "from IPython.display import HTML\n",
    "import json\n",
    "import networkx as nx\n",
    "import matplotlib.pyplot as plt\n",
    "%matplotlib inline\n",
    "from typing import List\n",
    "\n",
    "import os\n",
    "import time\n",
    "import datetime\n",
    "import json\n",
    "import gc\n",
    "from numba import jit\n",
    "\n",
    "import numpy as np\n",
    "import pandas as pd\n",
    "\n",
    "import matplotlib.pyplot as plt\n",
    "import seaborn as sns\n",
    "from tqdm import tqdm_notebook\n",
    "\n",
    "import lightgbm as lgb\n",
    "import xgboost as xgb\n",
    "from catboost import CatBoostRegressor, CatBoostClassifier\n",
    "from sklearn import metrics\n",
    "from typing import Any\n",
    "from itertools import product\n",
    "pd.set_option('max_rows', 500)\n",
    "import re\n",
    "from tqdm import tqdm\n",
    "from joblib import Parallel, delayed"
   ]
  },
  {
   "cell_type": "code",
   "execution_count": 5,
   "metadata": {},
   "outputs": [],
   "source": [
    "from sklearn.ensemble import RandomForestRegressor, RandomForestClassifier,VotingClassifier\n",
    "from sklearn.linear_model import LogisticRegression\n",
    "from sklearn.svm import SVC\n",
    "from IPython.display import display\n",
    "import pandas as pd\n",
    "import numpy as np\n",
    "from sklearn import metrics\n",
    "from sklearn.metrics import precision_score\n",
    "from sklearn.tree import export_graphviz\n",
    "import matplotlib.pyplot as plt\n",
    "from sklearn.preprocessing import LabelEncoder\n",
    "from xgboost.sklearn import XGBClassifier\n",
    "from sklearn.model_selection import GridSearchCV\n",
    "import torch \n",
    "import fastai\n",
    "import bayes_opt"
   ]
  },
  {
   "cell_type": "code",
   "execution_count": 112,
   "metadata": {},
   "outputs": [],
   "source": [
    "from sklearn.tree import export_graphviz\n",
    "import xgboost\n",
    "import lightgbm\n",
    "from sklearn.metrics import roc_auc_score"
   ]
  },
  {
   "cell_type": "code",
   "execution_count": 7,
   "metadata": {},
   "outputs": [],
   "source": [
    "df1=pd.read_csv ('/home/kamil.kural/FdaPrecision Challenge/sc2_Phase1_CN_FeatureMatrix.tsv', sep='\\t')"
   ]
  },
  {
   "cell_type": "code",
   "execution_count": 8,
   "metadata": {},
   "outputs": [],
   "source": [
    "df2=pd.read_csv ('/home/kamil.kural/FdaPrecision Challenge/sc2_Phase1_CN_Outcome.tsv', sep='\\t')"
   ]
  },
  {
   "cell_type": "code",
   "execution_count": 9,
   "metadata": {},
   "outputs": [],
   "source": [
    "df3=pd.read_csv ('/home/kamil.kural/FdaPrecision Challenge/sc2_Phase1_CN_Phenotype.tsv', sep='\\t')"
   ]
  },
  {
   "cell_type": "code",
   "execution_count": 10,
   "metadata": {},
   "outputs": [],
   "source": [
    "df = pd.merge(df2,\n",
    "                    df1,\n",
    "                    left_index=True,\n",
    "                    right_index=True)\n",
    "df = pd.merge(df,\n",
    "                    df3,\n",
    "                    left_index=True,\n",
    "                    right_index=True)"
   ]
  },
  {
   "cell_type": "code",
   "execution_count": 11,
   "metadata": {},
   "outputs": [],
   "source": [
    "df=df.drop(['PATIENTID','PATIENTID_x','PATIENTID_y'], axis=1)"
   ]
  },
  {
   "cell_type": "code",
   "execution_count": 12,
   "metadata": {},
   "outputs": [],
   "source": [
    "dfnew= df[['11p15.4', 'RACE','9p24.1' ,'12p13.33', '9p21.3', 'SEX', '4q21.21' ,'20q11.21']]"
   ]
  },
  {
   "cell_type": "code",
   "execution_count": 13,
   "metadata": {},
   "outputs": [],
   "source": [
    "df=pd.get_dummies(df)"
   ]
  },
  {
   "cell_type": "code",
   "execution_count": 14,
   "metadata": {},
   "outputs": [],
   "source": [
    "all_features = [x for x in df.columns if x not in ['SURVIVAL_STATUS']]"
   ]
  },
  {
   "cell_type": "code",
   "execution_count": 15,
   "metadata": {},
   "outputs": [
    {
     "data": {
      "text/plain": [
       "array([1, 1, 1, 1, 1, 1, 1, 1, 1, 1, 1, 1, 1, 1, 1, 1, 1, 1, 1, 1, 1, 1,\n",
       "       1, 1, 1, 1, 1, 1, 1, 1, 1, 1, 1, 1, 1, 1, 1, 1, 1, 0, 0, 1, 1, 1,\n",
       "       1, 1, 1, 1, 0, 1, 0, 0, 1, 1, 1, 1, 1, 0, 1, 1, 1, 1, 0, 1, 1, 1,\n",
       "       1, 1, 1, 1, 1, 0, 0, 1, 1, 1, 0, 1, 0, 1, 1, 1, 0, 1, 0, 1, 1, 1,\n",
       "       0, 1, 0, 1, 0, 1, 1, 1, 0, 0, 0, 1, 1, 0, 1, 1, 1, 1, 1, 1, 1, 1,\n",
       "       0, 1, 1, 0, 0, 1, 1, 1, 1, 1, 1, 1, 0, 0, 1, 1, 1, 1, 0, 1, 0, 1,\n",
       "       0, 1, 1, 1, 1, 1, 0, 0, 0, 1, 1, 1, 1, 1, 1, 1, 1, 0, 0, 1, 1, 0,\n",
       "       1, 1, 0, 1, 1, 0, 0, 1, 1, 0, 1, 0, 0, 0, 1, 0, 1, 1, 1, 0])"
      ]
     },
     "execution_count": 15,
     "metadata": {},
     "output_type": "execute_result"
    }
   ],
   "source": [
    "X, y = df[all_features], df['SURVIVAL_STATUS']\n",
    "labelencoder_y_1 = LabelEncoder()\n",
    "y = labelencoder_y_1.fit_transform(y)\n",
    "y"
   ]
  },
  {
   "cell_type": "code",
   "execution_count": 16,
   "metadata": {},
   "outputs": [],
   "source": [
    "from sklearn import preprocessing\n",
    "scaler = preprocessing.StandardScaler()\n",
    "X = scaler.fit_transform(X)"
   ]
  },
  {
   "cell_type": "code",
   "execution_count": 17,
   "metadata": {},
   "outputs": [],
   "source": [
    "X_train, X_test, y_train, y_test = train_test_split(X, y, test_size=0.20, random_state=42,stratify=df['SURVIVAL_STATUS'])"
   ]
  },
  {
   "cell_type": "code",
   "execution_count": 18,
   "metadata": {},
   "outputs": [],
   "source": [
    "from bayes_opt import BayesianOptimization\n",
    "from sklearn.model_selection import cross_val_score"
   ]
  },
  {
   "cell_type": "code",
   "execution_count": 23,
   "metadata": {},
   "outputs": [],
   "source": [
    "pbounds = {\n",
    "    'learning_rate': (0.01, 1.0),\n",
    "    'n_estimators': (100,200),\n",
    "    'max_depth': (15,25),\n",
    "    'subsample': (0.1, 1.0),  # Change for big datasets\n",
    "    'colsample': (0.1, 1.0),  # Change for datasets with lots of features\n",
    "    'gamma': (0, 5),\n",
    "    'max_delta_step' : (0,5),\n",
    "    'min_child_weight' : (0,5),\n",
    "    'reg_alpha' : (0.1, 1),\n",
    "    'reg_lambda' : (0.1,1),\n",
    "    'scale_pos_weight' : (0.1, 1)}\n",
    " \n",
    "def xgboost_hyper_param(learning_rate,\n",
    "                        n_estimators,\n",
    "                        max_depth,\n",
    "                        subsample,\n",
    "                        colsample,\n",
    "                        gamma,\n",
    "                        max_delta_step,\n",
    "                        min_child_weight,\n",
    "                        reg_alpha,\n",
    "                        reg_lambda,\n",
    "                        scale_pos_weight):\n",
    " \n",
    "    max_depth = int(max_depth)\n",
    "    n_estimators = int(n_estimators)\n",
    " \n",
    "    clf = XGBClassifier(\n",
    "        max_depth=max_depth,\n",
    "        learning_rate=learning_rate,\n",
    "        n_estimators=n_estimators,\n",
    "        gamma=gamma,\n",
    "        max_delta_step=max_delta_step,\n",
    "        min_child_weight=min_child_weight,\n",
    "        reg_lambda=reg_lambda,\n",
    "        reg_alpha=reg_alpha,\n",
    "        scale_pos_weight=scale_pos_weight)\n",
    "    return np.mean(cross_val_score(clf, X_train, y_train, cv=5, scoring='accuracy',n_jobs=50))\n",
    " \n",
    " \n",
    "optimizer = BayesianOptimization(\n",
    "    f=xgboost_hyper_param,\n",
    "    pbounds=pbounds,\n",
    "    random_state=1)"
   ]
  },
  {
   "cell_type": "code",
   "execution_count": 24,
   "metadata": {},
   "outputs": [
    {
     "name": "stdout",
     "output_type": "stream",
     "text": [
      "|   iter    |  target   | colsample |   gamma   | learni... | max_de... | max_depth | min_ch... | n_esti... | reg_alpha | reg_la... | scale_... | subsample |\n",
      "-------------------------------------------------------------------------------------------------------------------------------------------------------------\n",
      "| \u001b[0m 1       \u001b[0m | \u001b[0m 0.7198  \u001b[0m | \u001b[0m 0.4753  \u001b[0m | \u001b[0m 3.602   \u001b[0m | \u001b[0m 0.01011 \u001b[0m | \u001b[0m 1.512   \u001b[0m | \u001b[0m 16.47   \u001b[0m | \u001b[0m 0.4617  \u001b[0m | \u001b[0m 118.6   \u001b[0m | \u001b[0m 0.411   \u001b[0m | \u001b[0m 0.4571  \u001b[0m | \u001b[0m 0.5849  \u001b[0m | \u001b[0m 0.4773  \u001b[0m |\n",
      "| \u001b[95m 2       \u001b[0m | \u001b[95m 0.7341  \u001b[0m | \u001b[95m 0.7167  \u001b[0m | \u001b[95m 1.022   \u001b[0m | \u001b[95m 0.8793  \u001b[0m | \u001b[95m 0.1369  \u001b[0m | \u001b[95m 21.7    \u001b[0m | \u001b[95m 2.087   \u001b[0m | \u001b[95m 155.9   \u001b[0m | \u001b[95m 0.2263  \u001b[0m | \u001b[95m 0.2783  \u001b[0m | \u001b[95m 0.8207  \u001b[0m | \u001b[95m 0.9714  \u001b[0m |\n",
      "| \u001b[0m 3       \u001b[0m | \u001b[0m 0.6407  \u001b[0m | \u001b[0m 0.3821  \u001b[0m | \u001b[0m 3.462   \u001b[0m | \u001b[0m 0.8776  \u001b[0m | \u001b[0m 4.473   \u001b[0m | \u001b[0m 15.85   \u001b[0m | \u001b[0m 0.1953  \u001b[0m | \u001b[0m 117.0   \u001b[0m | \u001b[0m 0.8903  \u001b[0m | \u001b[0m 0.1885  \u001b[0m | \u001b[0m 0.479   \u001b[0m | \u001b[0m 0.9621  \u001b[0m |\n",
      "| \u001b[0m 4       \u001b[0m | \u001b[0m 0.568   \u001b[0m | \u001b[0m 0.5798  \u001b[0m | \u001b[0m 3.459   \u001b[0m | \u001b[0m 0.3224  \u001b[0m | \u001b[0m 3.433   \u001b[0m | \u001b[0m 23.35   \u001b[0m | \u001b[0m 0.09144 \u001b[0m | \u001b[0m 175.0   \u001b[0m | \u001b[0m 0.99    \u001b[0m | \u001b[0m 0.7733  \u001b[0m | \u001b[0m 0.3524  \u001b[0m | \u001b[0m 0.8104  \u001b[0m |\n",
      "| \u001b[0m 5       \u001b[0m | \u001b[0m 0.6481  \u001b[0m | \u001b[0m 0.1929  \u001b[0m | \u001b[0m 2.239   \u001b[0m | \u001b[0m 0.9095  \u001b[0m | \u001b[0m 1.468   \u001b[0m | \u001b[0m 17.88   \u001b[0m | \u001b[0m 0.6501  \u001b[0m | \u001b[0m 101.9   \u001b[0m | \u001b[0m 0.711   \u001b[0m | \u001b[0m 0.2905  \u001b[0m | \u001b[0m 0.339   \u001b[0m | \u001b[0m 0.5424  \u001b[0m |\n",
      "| \u001b[0m 6       \u001b[0m | \u001b[0m 0.2802  \u001b[0m | \u001b[0m 0.148   \u001b[0m | \u001b[0m 2.871   \u001b[0m | \u001b[0m 0.1553  \u001b[0m | \u001b[0m 2.947   \u001b[0m | \u001b[0m 22.0    \u001b[0m | \u001b[0m 0.5117  \u001b[0m | \u001b[0m 141.4   \u001b[0m | \u001b[0m 0.725   \u001b[0m | \u001b[0m 0.4728  \u001b[0m | \u001b[0m 0.145   \u001b[0m | \u001b[0m 0.5823  \u001b[0m |\n",
      "| \u001b[0m 7       \u001b[0m | \u001b[0m 0.568   \u001b[0m | \u001b[0m 0.6974  \u001b[0m | \u001b[0m 2.574   \u001b[0m | \u001b[0m 0.9451  \u001b[0m | \u001b[0m 2.933   \u001b[0m | \u001b[0m 24.03   \u001b[0m | \u001b[0m 0.6874  \u001b[0m | \u001b[0m 113.9   \u001b[0m | \u001b[0m 0.8267  \u001b[0m | \u001b[0m 0.4579  \u001b[0m | \u001b[0m 0.2488  \u001b[0m | \u001b[0m 0.9348  \u001b[0m |\n",
      "| \u001b[0m 8       \u001b[0m | \u001b[0m 0.6196  \u001b[0m | \u001b[0m 0.413   \u001b[0m | \u001b[0m 3.754   \u001b[0m | \u001b[0m 0.7287  \u001b[0m | \u001b[0m 4.417   \u001b[0m | \u001b[0m 21.24   \u001b[0m | \u001b[0m 3.755   \u001b[0m | \u001b[0m 134.9   \u001b[0m | \u001b[0m 0.3429  \u001b[0m | \u001b[0m 0.9063  \u001b[0m | \u001b[0m 0.4853  \u001b[0m | \u001b[0m 0.9684  \u001b[0m |\n",
      "| \u001b[95m 9       \u001b[0m | \u001b[95m 0.7487  \u001b[0m | \u001b[95m 0.6971  \u001b[0m | \u001b[95m 3.108   \u001b[0m | \u001b[95m 0.1236  \u001b[0m | \u001b[95m 4.747   \u001b[0m | \u001b[95m 19.5    \u001b[0m | \u001b[95m 2.892   \u001b[0m | \u001b[95m 140.8   \u001b[0m | \u001b[95m 0.3133  \u001b[0m | \u001b[95m 0.913   \u001b[0m | \u001b[95m 0.6163  \u001b[0m | \u001b[95m 0.1026  \u001b[0m |\n",
      "| \u001b[0m 10      \u001b[0m | \u001b[0m 0.6765  \u001b[0m | \u001b[0m 0.6554  \u001b[0m | \u001b[0m 1.633   \u001b[0m | \u001b[0m 0.5318  \u001b[0m | \u001b[0m 4.43    \u001b[0m | \u001b[0m 18.57   \u001b[0m | \u001b[0m 4.543   \u001b[0m | \u001b[0m 162.3   \u001b[0m | \u001b[0m 0.1142  \u001b[0m | \u001b[0m 0.9365  \u001b[0m | \u001b[0m 0.7218  \u001b[0m | \u001b[0m 0.9976  \u001b[0m |\n",
      "| \u001b[0m 11      \u001b[0m | \u001b[0m 0.7413  \u001b[0m | \u001b[0m 1.0     \u001b[0m | \u001b[0m 2.991   \u001b[0m | \u001b[0m 0.01    \u001b[0m | \u001b[0m 5.0     \u001b[0m | \u001b[0m 15.0    \u001b[0m | \u001b[0m 5.0     \u001b[0m | \u001b[0m 141.7   \u001b[0m | \u001b[0m 0.1     \u001b[0m | \u001b[0m 1.0     \u001b[0m | \u001b[0m 1.0     \u001b[0m | \u001b[0m 0.1     \u001b[0m |\n",
      "| \u001b[0m 12      \u001b[0m | \u001b[0m 0.7341  \u001b[0m | \u001b[0m 1.0     \u001b[0m | \u001b[0m 0.0     \u001b[0m | \u001b[0m 1.0     \u001b[0m | \u001b[0m 0.0     \u001b[0m | \u001b[0m 15.0    \u001b[0m | \u001b[0m 5.0     \u001b[0m | \u001b[0m 200.0   \u001b[0m | \u001b[0m 0.1     \u001b[0m | \u001b[0m 0.1     \u001b[0m | \u001b[0m 1.0     \u001b[0m | \u001b[0m 0.1     \u001b[0m |\n",
      "| \u001b[0m 13      \u001b[0m | \u001b[0m 0.2444  \u001b[0m | \u001b[0m 0.1     \u001b[0m | \u001b[0m 5.0     \u001b[0m | \u001b[0m 0.01    \u001b[0m | \u001b[0m 5.0     \u001b[0m | \u001b[0m 25.0    \u001b[0m | \u001b[0m 0.0     \u001b[0m | \u001b[0m 200.0   \u001b[0m | \u001b[0m 1.0     \u001b[0m | \u001b[0m 1.0     \u001b[0m | \u001b[0m 0.1     \u001b[0m | \u001b[0m 1.0     \u001b[0m |\n",
      "| \u001b[0m 14      \u001b[0m | \u001b[0m 0.6907  \u001b[0m | \u001b[0m 1.0     \u001b[0m | \u001b[0m 5.0     \u001b[0m | \u001b[0m 1.0     \u001b[0m | \u001b[0m 5.0     \u001b[0m | \u001b[0m 25.0    \u001b[0m | \u001b[0m 5.0     \u001b[0m | \u001b[0m 154.2   \u001b[0m | \u001b[0m 0.1     \u001b[0m | \u001b[0m 1.0     \u001b[0m | \u001b[0m 1.0     \u001b[0m | \u001b[0m 0.1     \u001b[0m |\n",
      "| \u001b[0m 15      \u001b[0m | \u001b[0m 0.7341  \u001b[0m | \u001b[0m 1.0     \u001b[0m | \u001b[0m 0.0     \u001b[0m | \u001b[0m 1.0     \u001b[0m | \u001b[0m 0.0     \u001b[0m | \u001b[0m 15.0    \u001b[0m | \u001b[0m 5.0     \u001b[0m | \u001b[0m 184.2   \u001b[0m | \u001b[0m 0.1     \u001b[0m | \u001b[0m 0.1     \u001b[0m | \u001b[0m 1.0     \u001b[0m | \u001b[0m 0.1     \u001b[0m |\n",
      "| \u001b[0m 16      \u001b[0m | \u001b[0m 0.7413  \u001b[0m | \u001b[0m 1.0     \u001b[0m | \u001b[0m 0.0     \u001b[0m | \u001b[0m 0.01    \u001b[0m | \u001b[0m 0.0     \u001b[0m | \u001b[0m 15.0    \u001b[0m | \u001b[0m 5.0     \u001b[0m | \u001b[0m 113.5   \u001b[0m | \u001b[0m 0.1     \u001b[0m | \u001b[0m 1.0     \u001b[0m | \u001b[0m 1.0     \u001b[0m | \u001b[0m 0.1     \u001b[0m |\n",
      "| \u001b[0m 17      \u001b[0m | \u001b[0m 0.7196  \u001b[0m | \u001b[0m 1.0     \u001b[0m | \u001b[0m 0.0     \u001b[0m | \u001b[0m 1.0     \u001b[0m | \u001b[0m 0.0     \u001b[0m | \u001b[0m 25.0    \u001b[0m | \u001b[0m 5.0     \u001b[0m | \u001b[0m 164.0   \u001b[0m | \u001b[0m 0.1     \u001b[0m | \u001b[0m 1.0     \u001b[0m | \u001b[0m 1.0     \u001b[0m | \u001b[0m 0.1     \u001b[0m |\n",
      "| \u001b[0m 18      \u001b[0m | \u001b[0m 0.7484  \u001b[0m | \u001b[0m 1.0     \u001b[0m | \u001b[0m 0.0     \u001b[0m | \u001b[0m 0.01    \u001b[0m | \u001b[0m 5.0     \u001b[0m | \u001b[0m 20.29   \u001b[0m | \u001b[0m 5.0     \u001b[0m | \u001b[0m 143.0   \u001b[0m | \u001b[0m 0.1     \u001b[0m | \u001b[0m 1.0     \u001b[0m | \u001b[0m 1.0     \u001b[0m | \u001b[0m 0.1     \u001b[0m |\n",
      "| \u001b[0m 19      \u001b[0m | \u001b[0m 0.7413  \u001b[0m | \u001b[0m 1.0     \u001b[0m | \u001b[0m 5.0     \u001b[0m | \u001b[0m 0.01    \u001b[0m | \u001b[0m 0.0     \u001b[0m | \u001b[0m 25.0    \u001b[0m | \u001b[0m 5.0     \u001b[0m | \u001b[0m 100.0   \u001b[0m | \u001b[0m 0.1     \u001b[0m | \u001b[0m 1.0     \u001b[0m | \u001b[0m 1.0     \u001b[0m | \u001b[0m 0.1     \u001b[0m |\n",
      "| \u001b[0m 20      \u001b[0m | \u001b[0m 0.7484  \u001b[0m | \u001b[0m 1.0     \u001b[0m | \u001b[0m 5.0     \u001b[0m | \u001b[0m 0.01    \u001b[0m | \u001b[0m 5.0     \u001b[0m | \u001b[0m 19.05   \u001b[0m | \u001b[0m 5.0     \u001b[0m | \u001b[0m 140.1   \u001b[0m | \u001b[0m 0.1     \u001b[0m | \u001b[0m 1.0     \u001b[0m | \u001b[0m 1.0     \u001b[0m | \u001b[0m 0.1     \u001b[0m |\n"
     ]
    },
    {
     "ename": "KeyboardInterrupt",
     "evalue": "",
     "output_type": "error",
     "traceback": [
      "\u001b[0;31m---------------------------------------------------------------------------\u001b[0m",
      "\u001b[0;31mKeyError\u001b[0m                                  Traceback (most recent call last)",
      "\u001b[0;32m/hive/Anaconda3-2019.10/lib/python3.7/site-packages/bayes_opt/target_space.py\u001b[0m in \u001b[0;36mprobe\u001b[0;34m(self, params)\u001b[0m\n\u001b[1;32m    190\u001b[0m         \u001b[0;32mtry\u001b[0m\u001b[0;34m:\u001b[0m\u001b[0;34m\u001b[0m\u001b[0;34m\u001b[0m\u001b[0m\n\u001b[0;32m--> 191\u001b[0;31m             \u001b[0mtarget\u001b[0m \u001b[0;34m=\u001b[0m \u001b[0mself\u001b[0m\u001b[0;34m.\u001b[0m\u001b[0m_cache\u001b[0m\u001b[0;34m[\u001b[0m\u001b[0m_hashable\u001b[0m\u001b[0;34m(\u001b[0m\u001b[0mx\u001b[0m\u001b[0;34m)\u001b[0m\u001b[0;34m]\u001b[0m\u001b[0;34m\u001b[0m\u001b[0;34m\u001b[0m\u001b[0m\n\u001b[0m\u001b[1;32m    192\u001b[0m         \u001b[0;32mexcept\u001b[0m \u001b[0mKeyError\u001b[0m\u001b[0;34m:\u001b[0m\u001b[0;34m\u001b[0m\u001b[0;34m\u001b[0m\u001b[0m\n",
      "\u001b[0;31mKeyError\u001b[0m: (1.0, 0.0, 0.01, 5.0, 15.0, 1.226390641962839, 131.00172756782547, 0.1, 1.0, 1.0, 0.1)",
      "\nDuring handling of the above exception, another exception occurred:\n",
      "\u001b[0;31mKeyboardInterrupt\u001b[0m                         Traceback (most recent call last)",
      "\u001b[0;32m<ipython-input-24-0cfa01c0a208>\u001b[0m in \u001b[0;36m<module>\u001b[0;34m\u001b[0m\n\u001b[0;32m----> 1\u001b[0;31m \u001b[0moptimizer\u001b[0m\u001b[0;34m.\u001b[0m\u001b[0mmaximize\u001b[0m\u001b[0;34m(\u001b[0m\u001b[0minit_points\u001b[0m\u001b[0;34m=\u001b[0m\u001b[0;36m10\u001b[0m\u001b[0;34m,\u001b[0m \u001b[0mn_iter\u001b[0m\u001b[0;34m=\u001b[0m\u001b[0;36m20\u001b[0m\u001b[0;34m,\u001b[0m \u001b[0macq\u001b[0m\u001b[0;34m=\u001b[0m\u001b[0;34m'ei'\u001b[0m\u001b[0;34m)\u001b[0m\u001b[0;34m\u001b[0m\u001b[0;34m\u001b[0m\u001b[0m\n\u001b[0m",
      "\u001b[0;32m/hive/Anaconda3-2019.10/lib/python3.7/site-packages/bayes_opt/bayesian_optimization.py\u001b[0m in \u001b[0;36mmaximize\u001b[0;34m(self, init_points, n_iter, acq, kappa, xi, **gp_params)\u001b[0m\n\u001b[1;32m    172\u001b[0m                 \u001b[0miteration\u001b[0m \u001b[0;34m+=\u001b[0m \u001b[0;36m1\u001b[0m\u001b[0;34m\u001b[0m\u001b[0;34m\u001b[0m\u001b[0m\n\u001b[1;32m    173\u001b[0m \u001b[0;34m\u001b[0m\u001b[0m\n\u001b[0;32m--> 174\u001b[0;31m             \u001b[0mself\u001b[0m\u001b[0;34m.\u001b[0m\u001b[0mprobe\u001b[0m\u001b[0;34m(\u001b[0m\u001b[0mx_probe\u001b[0m\u001b[0;34m,\u001b[0m \u001b[0mlazy\u001b[0m\u001b[0;34m=\u001b[0m\u001b[0;32mFalse\u001b[0m\u001b[0;34m)\u001b[0m\u001b[0;34m\u001b[0m\u001b[0;34m\u001b[0m\u001b[0m\n\u001b[0m\u001b[1;32m    175\u001b[0m \u001b[0;34m\u001b[0m\u001b[0m\n\u001b[1;32m    176\u001b[0m         \u001b[0mself\u001b[0m\u001b[0;34m.\u001b[0m\u001b[0mdispatch\u001b[0m\u001b[0;34m(\u001b[0m\u001b[0mEvents\u001b[0m\u001b[0;34m.\u001b[0m\u001b[0mOPTMIZATION_END\u001b[0m\u001b[0;34m)\u001b[0m\u001b[0;34m\u001b[0m\u001b[0;34m\u001b[0m\u001b[0m\n",
      "\u001b[0;32m/hive/Anaconda3-2019.10/lib/python3.7/site-packages/bayes_opt/bayesian_optimization.py\u001b[0m in \u001b[0;36mprobe\u001b[0;34m(self, params, lazy)\u001b[0m\n\u001b[1;32m    110\u001b[0m             \u001b[0mself\u001b[0m\u001b[0;34m.\u001b[0m\u001b[0m_queue\u001b[0m\u001b[0;34m.\u001b[0m\u001b[0madd\u001b[0m\u001b[0;34m(\u001b[0m\u001b[0mparams\u001b[0m\u001b[0;34m)\u001b[0m\u001b[0;34m\u001b[0m\u001b[0;34m\u001b[0m\u001b[0m\n\u001b[1;32m    111\u001b[0m         \u001b[0;32melse\u001b[0m\u001b[0;34m:\u001b[0m\u001b[0;34m\u001b[0m\u001b[0;34m\u001b[0m\u001b[0m\n\u001b[0;32m--> 112\u001b[0;31m             \u001b[0mself\u001b[0m\u001b[0;34m.\u001b[0m\u001b[0m_space\u001b[0m\u001b[0;34m.\u001b[0m\u001b[0mprobe\u001b[0m\u001b[0;34m(\u001b[0m\u001b[0mparams\u001b[0m\u001b[0;34m)\u001b[0m\u001b[0;34m\u001b[0m\u001b[0;34m\u001b[0m\u001b[0m\n\u001b[0m\u001b[1;32m    113\u001b[0m             \u001b[0mself\u001b[0m\u001b[0;34m.\u001b[0m\u001b[0mdispatch\u001b[0m\u001b[0;34m(\u001b[0m\u001b[0mEvents\u001b[0m\u001b[0;34m.\u001b[0m\u001b[0mOPTMIZATION_STEP\u001b[0m\u001b[0;34m)\u001b[0m\u001b[0;34m\u001b[0m\u001b[0;34m\u001b[0m\u001b[0m\n\u001b[1;32m    114\u001b[0m \u001b[0;34m\u001b[0m\u001b[0m\n",
      "\u001b[0;32m/hive/Anaconda3-2019.10/lib/python3.7/site-packages/bayes_opt/target_space.py\u001b[0m in \u001b[0;36mprobe\u001b[0;34m(self, params)\u001b[0m\n\u001b[1;32m    192\u001b[0m         \u001b[0;32mexcept\u001b[0m \u001b[0mKeyError\u001b[0m\u001b[0;34m:\u001b[0m\u001b[0;34m\u001b[0m\u001b[0;34m\u001b[0m\u001b[0m\n\u001b[1;32m    193\u001b[0m             \u001b[0mparams\u001b[0m \u001b[0;34m=\u001b[0m \u001b[0mdict\u001b[0m\u001b[0;34m(\u001b[0m\u001b[0mzip\u001b[0m\u001b[0;34m(\u001b[0m\u001b[0mself\u001b[0m\u001b[0;34m.\u001b[0m\u001b[0m_keys\u001b[0m\u001b[0;34m,\u001b[0m \u001b[0mx\u001b[0m\u001b[0;34m)\u001b[0m\u001b[0;34m)\u001b[0m\u001b[0;34m\u001b[0m\u001b[0;34m\u001b[0m\u001b[0m\n\u001b[0;32m--> 194\u001b[0;31m             \u001b[0mtarget\u001b[0m \u001b[0;34m=\u001b[0m \u001b[0mself\u001b[0m\u001b[0;34m.\u001b[0m\u001b[0mtarget_func\u001b[0m\u001b[0;34m(\u001b[0m\u001b[0;34m**\u001b[0m\u001b[0mparams\u001b[0m\u001b[0;34m)\u001b[0m\u001b[0;34m\u001b[0m\u001b[0;34m\u001b[0m\u001b[0m\n\u001b[0m\u001b[1;32m    195\u001b[0m             \u001b[0mself\u001b[0m\u001b[0;34m.\u001b[0m\u001b[0mregister\u001b[0m\u001b[0;34m(\u001b[0m\u001b[0mx\u001b[0m\u001b[0;34m,\u001b[0m \u001b[0mtarget\u001b[0m\u001b[0;34m)\u001b[0m\u001b[0;34m\u001b[0m\u001b[0;34m\u001b[0m\u001b[0m\n\u001b[1;32m    196\u001b[0m         \u001b[0;32mreturn\u001b[0m \u001b[0mtarget\u001b[0m\u001b[0;34m\u001b[0m\u001b[0;34m\u001b[0m\u001b[0m\n",
      "\u001b[0;32m<ipython-input-23-0f72e9cf46f1>\u001b[0m in \u001b[0;36mxgboost_hyper_param\u001b[0;34m(learning_rate, n_estimators, max_depth, subsample, colsample, gamma, max_delta_step, min_child_weight, reg_alpha, reg_lambda, scale_pos_weight)\u001b[0m\n\u001b[1;32m     37\u001b[0m         \u001b[0mreg_alpha\u001b[0m\u001b[0;34m=\u001b[0m\u001b[0mreg_alpha\u001b[0m\u001b[0;34m,\u001b[0m\u001b[0;34m\u001b[0m\u001b[0;34m\u001b[0m\u001b[0m\n\u001b[1;32m     38\u001b[0m         scale_pos_weight=scale_pos_weight)\n\u001b[0;32m---> 39\u001b[0;31m     \u001b[0;32mreturn\u001b[0m \u001b[0mnp\u001b[0m\u001b[0;34m.\u001b[0m\u001b[0mmean\u001b[0m\u001b[0;34m(\u001b[0m\u001b[0mcross_val_score\u001b[0m\u001b[0;34m(\u001b[0m\u001b[0mclf\u001b[0m\u001b[0;34m,\u001b[0m \u001b[0mX_train\u001b[0m\u001b[0;34m,\u001b[0m \u001b[0my_train\u001b[0m\u001b[0;34m,\u001b[0m \u001b[0mcv\u001b[0m\u001b[0;34m=\u001b[0m\u001b[0;36m5\u001b[0m\u001b[0;34m,\u001b[0m \u001b[0mscoring\u001b[0m\u001b[0;34m=\u001b[0m\u001b[0;34m'accuracy'\u001b[0m\u001b[0;34m,\u001b[0m\u001b[0mn_jobs\u001b[0m\u001b[0;34m=\u001b[0m\u001b[0;36m50\u001b[0m\u001b[0;34m)\u001b[0m\u001b[0;34m)\u001b[0m\u001b[0;34m\u001b[0m\u001b[0;34m\u001b[0m\u001b[0m\n\u001b[0m\u001b[1;32m     40\u001b[0m \u001b[0;34m\u001b[0m\u001b[0m\n\u001b[1;32m     41\u001b[0m \u001b[0;34m\u001b[0m\u001b[0m\n",
      "\u001b[0;32m/hive/Anaconda3-2019.10/lib/python3.7/site-packages/sklearn/model_selection/_validation.py\u001b[0m in \u001b[0;36mcross_val_score\u001b[0;34m(estimator, X, y, groups, scoring, cv, n_jobs, verbose, fit_params, pre_dispatch, error_score)\u001b[0m\n\u001b[1;32m    389\u001b[0m                                 \u001b[0mfit_params\u001b[0m\u001b[0;34m=\u001b[0m\u001b[0mfit_params\u001b[0m\u001b[0;34m,\u001b[0m\u001b[0;34m\u001b[0m\u001b[0;34m\u001b[0m\u001b[0m\n\u001b[1;32m    390\u001b[0m                                 \u001b[0mpre_dispatch\u001b[0m\u001b[0;34m=\u001b[0m\u001b[0mpre_dispatch\u001b[0m\u001b[0;34m,\u001b[0m\u001b[0;34m\u001b[0m\u001b[0;34m\u001b[0m\u001b[0m\n\u001b[0;32m--> 391\u001b[0;31m                                 error_score=error_score)\n\u001b[0m\u001b[1;32m    392\u001b[0m     \u001b[0;32mreturn\u001b[0m \u001b[0mcv_results\u001b[0m\u001b[0;34m[\u001b[0m\u001b[0;34m'test_score'\u001b[0m\u001b[0;34m]\u001b[0m\u001b[0;34m\u001b[0m\u001b[0;34m\u001b[0m\u001b[0m\n\u001b[1;32m    393\u001b[0m \u001b[0;34m\u001b[0m\u001b[0m\n",
      "\u001b[0;32m/hive/Anaconda3-2019.10/lib/python3.7/site-packages/sklearn/model_selection/_validation.py\u001b[0m in \u001b[0;36mcross_validate\u001b[0;34m(estimator, X, y, groups, scoring, cv, n_jobs, verbose, fit_params, pre_dispatch, return_train_score, return_estimator, error_score)\u001b[0m\n\u001b[1;32m    230\u001b[0m             \u001b[0mreturn_times\u001b[0m\u001b[0;34m=\u001b[0m\u001b[0;32mTrue\u001b[0m\u001b[0;34m,\u001b[0m \u001b[0mreturn_estimator\u001b[0m\u001b[0;34m=\u001b[0m\u001b[0mreturn_estimator\u001b[0m\u001b[0;34m,\u001b[0m\u001b[0;34m\u001b[0m\u001b[0;34m\u001b[0m\u001b[0m\n\u001b[1;32m    231\u001b[0m             error_score=error_score)\n\u001b[0;32m--> 232\u001b[0;31m         for train, test in cv.split(X, y, groups))\n\u001b[0m\u001b[1;32m    233\u001b[0m \u001b[0;34m\u001b[0m\u001b[0m\n\u001b[1;32m    234\u001b[0m     \u001b[0mzipped_scores\u001b[0m \u001b[0;34m=\u001b[0m \u001b[0mlist\u001b[0m\u001b[0;34m(\u001b[0m\u001b[0mzip\u001b[0m\u001b[0;34m(\u001b[0m\u001b[0;34m*\u001b[0m\u001b[0mscores\u001b[0m\u001b[0;34m)\u001b[0m\u001b[0;34m)\u001b[0m\u001b[0;34m\u001b[0m\u001b[0;34m\u001b[0m\u001b[0m\n",
      "\u001b[0;32m/hive/Anaconda3-2019.10/lib/python3.7/site-packages/joblib/parallel.py\u001b[0m in \u001b[0;36m__call__\u001b[0;34m(self, iterable)\u001b[0m\n\u001b[1;32m   1014\u001b[0m \u001b[0;34m\u001b[0m\u001b[0m\n\u001b[1;32m   1015\u001b[0m             \u001b[0;32mwith\u001b[0m \u001b[0mself\u001b[0m\u001b[0;34m.\u001b[0m\u001b[0m_backend\u001b[0m\u001b[0;34m.\u001b[0m\u001b[0mretrieval_context\u001b[0m\u001b[0;34m(\u001b[0m\u001b[0;34m)\u001b[0m\u001b[0;34m:\u001b[0m\u001b[0;34m\u001b[0m\u001b[0;34m\u001b[0m\u001b[0m\n\u001b[0;32m-> 1016\u001b[0;31m                 \u001b[0mself\u001b[0m\u001b[0;34m.\u001b[0m\u001b[0mretrieve\u001b[0m\u001b[0;34m(\u001b[0m\u001b[0;34m)\u001b[0m\u001b[0;34m\u001b[0m\u001b[0;34m\u001b[0m\u001b[0m\n\u001b[0m\u001b[1;32m   1017\u001b[0m             \u001b[0;31m# Make sure that we get a last message telling us we are done\u001b[0m\u001b[0;34m\u001b[0m\u001b[0;34m\u001b[0m\u001b[0;34m\u001b[0m\u001b[0m\n\u001b[1;32m   1018\u001b[0m             \u001b[0melapsed_time\u001b[0m \u001b[0;34m=\u001b[0m \u001b[0mtime\u001b[0m\u001b[0;34m.\u001b[0m\u001b[0mtime\u001b[0m\u001b[0;34m(\u001b[0m\u001b[0;34m)\u001b[0m \u001b[0;34m-\u001b[0m \u001b[0mself\u001b[0m\u001b[0;34m.\u001b[0m\u001b[0m_start_time\u001b[0m\u001b[0;34m\u001b[0m\u001b[0;34m\u001b[0m\u001b[0m\n",
      "\u001b[0;32m/hive/Anaconda3-2019.10/lib/python3.7/site-packages/joblib/parallel.py\u001b[0m in \u001b[0;36mretrieve\u001b[0;34m(self)\u001b[0m\n\u001b[1;32m    906\u001b[0m             \u001b[0;32mtry\u001b[0m\u001b[0;34m:\u001b[0m\u001b[0;34m\u001b[0m\u001b[0;34m\u001b[0m\u001b[0m\n\u001b[1;32m    907\u001b[0m                 \u001b[0;32mif\u001b[0m \u001b[0mgetattr\u001b[0m\u001b[0;34m(\u001b[0m\u001b[0mself\u001b[0m\u001b[0;34m.\u001b[0m\u001b[0m_backend\u001b[0m\u001b[0;34m,\u001b[0m \u001b[0;34m'supports_timeout'\u001b[0m\u001b[0;34m,\u001b[0m \u001b[0;32mFalse\u001b[0m\u001b[0;34m)\u001b[0m\u001b[0;34m:\u001b[0m\u001b[0;34m\u001b[0m\u001b[0;34m\u001b[0m\u001b[0m\n\u001b[0;32m--> 908\u001b[0;31m                     \u001b[0mself\u001b[0m\u001b[0;34m.\u001b[0m\u001b[0m_output\u001b[0m\u001b[0;34m.\u001b[0m\u001b[0mextend\u001b[0m\u001b[0;34m(\u001b[0m\u001b[0mjob\u001b[0m\u001b[0;34m.\u001b[0m\u001b[0mget\u001b[0m\u001b[0;34m(\u001b[0m\u001b[0mtimeout\u001b[0m\u001b[0;34m=\u001b[0m\u001b[0mself\u001b[0m\u001b[0;34m.\u001b[0m\u001b[0mtimeout\u001b[0m\u001b[0;34m)\u001b[0m\u001b[0;34m)\u001b[0m\u001b[0;34m\u001b[0m\u001b[0;34m\u001b[0m\u001b[0m\n\u001b[0m\u001b[1;32m    909\u001b[0m                 \u001b[0;32melse\u001b[0m\u001b[0;34m:\u001b[0m\u001b[0;34m\u001b[0m\u001b[0;34m\u001b[0m\u001b[0m\n\u001b[1;32m    910\u001b[0m                     \u001b[0mself\u001b[0m\u001b[0;34m.\u001b[0m\u001b[0m_output\u001b[0m\u001b[0;34m.\u001b[0m\u001b[0mextend\u001b[0m\u001b[0;34m(\u001b[0m\u001b[0mjob\u001b[0m\u001b[0;34m.\u001b[0m\u001b[0mget\u001b[0m\u001b[0;34m(\u001b[0m\u001b[0;34m)\u001b[0m\u001b[0;34m)\u001b[0m\u001b[0;34m\u001b[0m\u001b[0;34m\u001b[0m\u001b[0m\n",
      "\u001b[0;32m/hive/Anaconda3-2019.10/lib/python3.7/site-packages/joblib/_parallel_backends.py\u001b[0m in \u001b[0;36mwrap_future_result\u001b[0;34m(future, timeout)\u001b[0m\n\u001b[1;32m    552\u001b[0m         AsyncResults.get from multiprocessing.\"\"\"\n\u001b[1;32m    553\u001b[0m         \u001b[0;32mtry\u001b[0m\u001b[0;34m:\u001b[0m\u001b[0;34m\u001b[0m\u001b[0;34m\u001b[0m\u001b[0m\n\u001b[0;32m--> 554\u001b[0;31m             \u001b[0;32mreturn\u001b[0m \u001b[0mfuture\u001b[0m\u001b[0;34m.\u001b[0m\u001b[0mresult\u001b[0m\u001b[0;34m(\u001b[0m\u001b[0mtimeout\u001b[0m\u001b[0;34m=\u001b[0m\u001b[0mtimeout\u001b[0m\u001b[0;34m)\u001b[0m\u001b[0;34m\u001b[0m\u001b[0;34m\u001b[0m\u001b[0m\n\u001b[0m\u001b[1;32m    555\u001b[0m         \u001b[0;32mexcept\u001b[0m \u001b[0mLokyTimeoutError\u001b[0m\u001b[0;34m:\u001b[0m\u001b[0;34m\u001b[0m\u001b[0;34m\u001b[0m\u001b[0m\n\u001b[1;32m    556\u001b[0m             \u001b[0;32mraise\u001b[0m \u001b[0mTimeoutError\u001b[0m\u001b[0;34m(\u001b[0m\u001b[0;34m)\u001b[0m\u001b[0;34m\u001b[0m\u001b[0;34m\u001b[0m\u001b[0m\n",
      "\u001b[0;32m/hive/Anaconda3-2019.10/lib/python3.7/concurrent/futures/_base.py\u001b[0m in \u001b[0;36mresult\u001b[0;34m(self, timeout)\u001b[0m\n\u001b[1;32m    428\u001b[0m                 \u001b[0;32mreturn\u001b[0m \u001b[0mself\u001b[0m\u001b[0;34m.\u001b[0m\u001b[0m__get_result\u001b[0m\u001b[0;34m(\u001b[0m\u001b[0;34m)\u001b[0m\u001b[0;34m\u001b[0m\u001b[0;34m\u001b[0m\u001b[0m\n\u001b[1;32m    429\u001b[0m \u001b[0;34m\u001b[0m\u001b[0m\n\u001b[0;32m--> 430\u001b[0;31m             \u001b[0mself\u001b[0m\u001b[0;34m.\u001b[0m\u001b[0m_condition\u001b[0m\u001b[0;34m.\u001b[0m\u001b[0mwait\u001b[0m\u001b[0;34m(\u001b[0m\u001b[0mtimeout\u001b[0m\u001b[0;34m)\u001b[0m\u001b[0;34m\u001b[0m\u001b[0;34m\u001b[0m\u001b[0m\n\u001b[0m\u001b[1;32m    431\u001b[0m \u001b[0;34m\u001b[0m\u001b[0m\n\u001b[1;32m    432\u001b[0m             \u001b[0;32mif\u001b[0m \u001b[0mself\u001b[0m\u001b[0;34m.\u001b[0m\u001b[0m_state\u001b[0m \u001b[0;32min\u001b[0m \u001b[0;34m[\u001b[0m\u001b[0mCANCELLED\u001b[0m\u001b[0;34m,\u001b[0m \u001b[0mCANCELLED_AND_NOTIFIED\u001b[0m\u001b[0;34m]\u001b[0m\u001b[0;34m:\u001b[0m\u001b[0;34m\u001b[0m\u001b[0;34m\u001b[0m\u001b[0m\n",
      "\u001b[0;32m/hive/Anaconda3-2019.10/lib/python3.7/threading.py\u001b[0m in \u001b[0;36mwait\u001b[0;34m(self, timeout)\u001b[0m\n\u001b[1;32m    294\u001b[0m         \u001b[0;32mtry\u001b[0m\u001b[0;34m:\u001b[0m    \u001b[0;31m# restore state no matter what (e.g., KeyboardInterrupt)\u001b[0m\u001b[0;34m\u001b[0m\u001b[0;34m\u001b[0m\u001b[0m\n\u001b[1;32m    295\u001b[0m             \u001b[0;32mif\u001b[0m \u001b[0mtimeout\u001b[0m \u001b[0;32mis\u001b[0m \u001b[0;32mNone\u001b[0m\u001b[0;34m:\u001b[0m\u001b[0;34m\u001b[0m\u001b[0;34m\u001b[0m\u001b[0m\n\u001b[0;32m--> 296\u001b[0;31m                 \u001b[0mwaiter\u001b[0m\u001b[0;34m.\u001b[0m\u001b[0macquire\u001b[0m\u001b[0;34m(\u001b[0m\u001b[0;34m)\u001b[0m\u001b[0;34m\u001b[0m\u001b[0;34m\u001b[0m\u001b[0m\n\u001b[0m\u001b[1;32m    297\u001b[0m                 \u001b[0mgotit\u001b[0m \u001b[0;34m=\u001b[0m \u001b[0;32mTrue\u001b[0m\u001b[0;34m\u001b[0m\u001b[0;34m\u001b[0m\u001b[0m\n\u001b[1;32m    298\u001b[0m             \u001b[0;32melse\u001b[0m\u001b[0;34m:\u001b[0m\u001b[0;34m\u001b[0m\u001b[0;34m\u001b[0m\u001b[0m\n",
      "\u001b[0;31mKeyboardInterrupt\u001b[0m: "
     ]
    }
   ],
   "source": [
    "optimizer.maximize(init_points=10, n_iter=20, acq='ei')"
   ]
  },
  {
   "cell_type": "code",
   "execution_count": 25,
   "metadata": {},
   "outputs": [
    {
     "data": {
      "text/plain": [
       "{'target': 0.7486772486772486,\n",
       " 'params': {'colsample': 0.6970973480366033,\n",
       "  'gamma': 3.1084786010456087,\n",
       "  'learning_rate': 0.12359851322384142,\n",
       "  'max_delta_step': 4.747446293535356,\n",
       "  'max_depth': 19.499121334799405,\n",
       "  'min_child_weight': 2.891948071935659,\n",
       "  'n_estimators': 140.8136802761281,\n",
       "  'reg_alpha': 0.31332428221872494,\n",
       "  'reg_lambda': 0.9130415685060284,\n",
       "  'scale_pos_weight': 0.6163115380050572,\n",
       "  'subsample': 0.10258329432804308}}"
      ]
     },
     "execution_count": 25,
     "metadata": {},
     "output_type": "execute_result"
    }
   ],
   "source": [
    "optimizer.max"
   ]
  },
  {
   "cell_type": "code",
   "execution_count": 39,
   "metadata": {},
   "outputs": [],
   "source": [
    "model1=XGBClassifier(base_score=0.5, booster='gbtree', colsample_bylevel=1,\n",
    "              colsample_bynode=1, colsample_bytree=1, gamma=0,\n",
    "              learning_rate=0.01, max_delta_step=5, max_depth=20,\n",
    "              min_child_weight=5, missing=None, n_estimators=200, n_jobs=20,\n",
    "              nthread=None, objective='binary:logistic', random_state=0,\n",
    "              reg_alpha=0.1, reg_lambda=1, scale_pos_weight=0.4, seed=None,\n",
    "              silent=None, subsample=1, class_weight='balanced')"
   ]
  },
  {
   "cell_type": "code",
   "execution_count": 40,
   "metadata": {},
   "outputs": [
    {
     "name": "stdout",
     "output_type": "stream",
     "text": [
      "[0]\tvalidation_0-auc:0.753922\tvalidation_0-error:0.230216\tvalidation_1-auc:0.615385\tvalidation_1-error:0.257143\n",
      "[1]\tvalidation_0-auc:0.753922\tvalidation_0-error:0.230216\tvalidation_1-auc:0.615385\tvalidation_1-error:0.257143\n",
      "[2]\tvalidation_0-auc:0.753922\tvalidation_0-error:0.230216\tvalidation_1-auc:0.615385\tvalidation_1-error:0.257143\n",
      "[3]\tvalidation_0-auc:0.753922\tvalidation_0-error:0.230216\tvalidation_1-auc:0.615385\tvalidation_1-error:0.257143\n",
      "[4]\tvalidation_0-auc:0.753922\tvalidation_0-error:0.230216\tvalidation_1-auc:0.615385\tvalidation_1-error:0.257143\n",
      "[5]\tvalidation_0-auc:0.753922\tvalidation_0-error:0.230216\tvalidation_1-auc:0.615385\tvalidation_1-error:0.257143\n",
      "[6]\tvalidation_0-auc:0.753922\tvalidation_0-error:0.230216\tvalidation_1-auc:0.615385\tvalidation_1-error:0.257143\n",
      "[7]\tvalidation_0-auc:0.753922\tvalidation_0-error:0.230216\tvalidation_1-auc:0.615385\tvalidation_1-error:0.257143\n",
      "[8]\tvalidation_0-auc:0.786555\tvalidation_0-error:0.230216\tvalidation_1-auc:0.576923\tvalidation_1-error:0.257143\n",
      "[9]\tvalidation_0-auc:0.786555\tvalidation_0-error:0.230216\tvalidation_1-auc:0.576923\tvalidation_1-error:0.257143\n",
      "[10]\tvalidation_0-auc:0.798039\tvalidation_0-error:0.230216\tvalidation_1-auc:0.57265\tvalidation_1-error:0.257143\n",
      "[11]\tvalidation_0-auc:0.798039\tvalidation_0-error:0.230216\tvalidation_1-auc:0.57265\tvalidation_1-error:0.257143\n",
      "[12]\tvalidation_0-auc:0.798039\tvalidation_0-error:0.230216\tvalidation_1-auc:0.57265\tvalidation_1-error:0.257143\n",
      "[13]\tvalidation_0-auc:0.798039\tvalidation_0-error:0.230216\tvalidation_1-auc:0.57265\tvalidation_1-error:0.257143\n",
      "[14]\tvalidation_0-auc:0.798039\tvalidation_0-error:0.215827\tvalidation_1-auc:0.57265\tvalidation_1-error:0.371429\n",
      "[15]\tvalidation_0-auc:0.798039\tvalidation_0-error:0.215827\tvalidation_1-auc:0.57265\tvalidation_1-error:0.371429\n",
      "[16]\tvalidation_0-auc:0.798039\tvalidation_0-error:0.215827\tvalidation_1-auc:0.57265\tvalidation_1-error:0.371429\n",
      "[17]\tvalidation_0-auc:0.798039\tvalidation_0-error:0.215827\tvalidation_1-auc:0.57265\tvalidation_1-error:0.371429\n",
      "[18]\tvalidation_0-auc:0.798039\tvalidation_0-error:0.215827\tvalidation_1-auc:0.57265\tvalidation_1-error:0.371429\n",
      "[19]\tvalidation_0-auc:0.798039\tvalidation_0-error:0.215827\tvalidation_1-auc:0.57265\tvalidation_1-error:0.371429\n",
      "[20]\tvalidation_0-auc:0.798039\tvalidation_0-error:0.215827\tvalidation_1-auc:0.57265\tvalidation_1-error:0.371429\n",
      "[21]\tvalidation_0-auc:0.798039\tvalidation_0-error:0.215827\tvalidation_1-auc:0.57265\tvalidation_1-error:0.371429\n",
      "[22]\tvalidation_0-auc:0.798039\tvalidation_0-error:0.215827\tvalidation_1-auc:0.57265\tvalidation_1-error:0.371429\n",
      "[23]\tvalidation_0-auc:0.798039\tvalidation_0-error:0.215827\tvalidation_1-auc:0.57265\tvalidation_1-error:0.371429\n",
      "[24]\tvalidation_0-auc:0.798039\tvalidation_0-error:0.215827\tvalidation_1-auc:0.57265\tvalidation_1-error:0.371429\n",
      "[25]\tvalidation_0-auc:0.798039\tvalidation_0-error:0.215827\tvalidation_1-auc:0.57265\tvalidation_1-error:0.371429\n",
      "[26]\tvalidation_0-auc:0.798039\tvalidation_0-error:0.215827\tvalidation_1-auc:0.57265\tvalidation_1-error:0.371429\n",
      "[27]\tvalidation_0-auc:0.798039\tvalidation_0-error:0.215827\tvalidation_1-auc:0.57265\tvalidation_1-error:0.371429\n",
      "[28]\tvalidation_0-auc:0.798039\tvalidation_0-error:0.215827\tvalidation_1-auc:0.57265\tvalidation_1-error:0.371429\n",
      "[29]\tvalidation_0-auc:0.798039\tvalidation_0-error:0.215827\tvalidation_1-auc:0.57265\tvalidation_1-error:0.371429\n",
      "[30]\tvalidation_0-auc:0.812185\tvalidation_0-error:0.215827\tvalidation_1-auc:0.581197\tvalidation_1-error:0.371429\n",
      "[31]\tvalidation_0-auc:0.818347\tvalidation_0-error:0.215827\tvalidation_1-auc:0.58547\tvalidation_1-error:0.371429\n",
      "[32]\tvalidation_0-auc:0.813866\tvalidation_0-error:0.208633\tvalidation_1-auc:0.581197\tvalidation_1-error:0.4\n",
      "[33]\tvalidation_0-auc:0.813866\tvalidation_0-error:0.215827\tvalidation_1-auc:0.581197\tvalidation_1-error:0.371429\n",
      "[34]\tvalidation_0-auc:0.821709\tvalidation_0-error:0.215827\tvalidation_1-auc:0.576923\tvalidation_1-error:0.371429\n",
      "[35]\tvalidation_0-auc:0.820028\tvalidation_0-error:0.215827\tvalidation_1-auc:0.576923\tvalidation_1-error:0.371429\n",
      "[36]\tvalidation_0-auc:0.820028\tvalidation_0-error:0.215827\tvalidation_1-auc:0.576923\tvalidation_1-error:0.371429\n",
      "[37]\tvalidation_0-auc:0.818908\tvalidation_0-error:0.215827\tvalidation_1-auc:0.576923\tvalidation_1-error:0.371429\n",
      "[38]\tvalidation_0-auc:0.818908\tvalidation_0-error:0.215827\tvalidation_1-auc:0.576923\tvalidation_1-error:0.371429\n",
      "[39]\tvalidation_0-auc:0.826611\tvalidation_0-error:0.223022\tvalidation_1-auc:0.583333\tvalidation_1-error:0.371429\n",
      "[40]\tvalidation_0-auc:0.829132\tvalidation_0-error:0.223022\tvalidation_1-auc:0.583333\tvalidation_1-error:0.371429\n",
      "[41]\tvalidation_0-auc:0.829552\tvalidation_0-error:0.215827\tvalidation_1-auc:0.583333\tvalidation_1-error:0.342857\n",
      "[42]\tvalidation_0-auc:0.832353\tvalidation_0-error:0.215827\tvalidation_1-auc:0.583333\tvalidation_1-error:0.371429\n",
      "[43]\tvalidation_0-auc:0.832073\tvalidation_0-error:0.215827\tvalidation_1-auc:0.57906\tvalidation_1-error:0.314286\n",
      "[44]\tvalidation_0-auc:0.833193\tvalidation_0-error:0.215827\tvalidation_1-auc:0.583333\tvalidation_1-error:0.285714\n",
      "[45]\tvalidation_0-auc:0.833473\tvalidation_0-error:0.215827\tvalidation_1-auc:0.57906\tvalidation_1-error:0.257143\n",
      "[46]\tvalidation_0-auc:0.833613\tvalidation_0-error:0.201439\tvalidation_1-auc:0.583333\tvalidation_1-error:0.285714\n",
      "[47]\tvalidation_0-auc:0.830812\tvalidation_0-error:0.201439\tvalidation_1-auc:0.57906\tvalidation_1-error:0.314286\n",
      "[48]\tvalidation_0-auc:0.829132\tvalidation_0-error:0.201439\tvalidation_1-auc:0.57906\tvalidation_1-error:0.285714\n",
      "[49]\tvalidation_0-auc:0.829692\tvalidation_0-error:0.201439\tvalidation_1-auc:0.57906\tvalidation_1-error:0.285714\n",
      "[50]\tvalidation_0-auc:0.829132\tvalidation_0-error:0.201439\tvalidation_1-auc:0.57906\tvalidation_1-error:0.285714\n",
      "[51]\tvalidation_0-auc:0.831092\tvalidation_0-error:0.201439\tvalidation_1-auc:0.57906\tvalidation_1-error:0.257143\n",
      "[52]\tvalidation_0-auc:0.830532\tvalidation_0-error:0.201439\tvalidation_1-auc:0.57906\tvalidation_1-error:0.285714\n",
      "[53]\tvalidation_0-auc:0.832213\tvalidation_0-error:0.201439\tvalidation_1-auc:0.57906\tvalidation_1-error:0.257143\n",
      "[54]\tvalidation_0-auc:0.834454\tvalidation_0-error:0.201439\tvalidation_1-auc:0.583333\tvalidation_1-error:0.285714\n",
      "[55]\tvalidation_0-auc:0.834454\tvalidation_0-error:0.201439\tvalidation_1-auc:0.57906\tvalidation_1-error:0.257143\n",
      "[56]\tvalidation_0-auc:0.833894\tvalidation_0-error:0.201439\tvalidation_1-auc:0.57906\tvalidation_1-error:0.285714\n",
      "[57]\tvalidation_0-auc:0.835154\tvalidation_0-error:0.201439\tvalidation_1-auc:0.583333\tvalidation_1-error:0.257143\n",
      "[58]\tvalidation_0-auc:0.835154\tvalidation_0-error:0.201439\tvalidation_1-auc:0.57906\tvalidation_1-error:0.257143\n",
      "[59]\tvalidation_0-auc:0.835714\tvalidation_0-error:0.194245\tvalidation_1-auc:0.583333\tvalidation_1-error:0.257143\n",
      "[60]\tvalidation_0-auc:0.836555\tvalidation_0-error:0.201439\tvalidation_1-auc:0.57906\tvalidation_1-error:0.257143\n",
      "[61]\tvalidation_0-auc:0.839356\tvalidation_0-error:0.201439\tvalidation_1-auc:0.589744\tvalidation_1-error:0.257143\n",
      "[62]\tvalidation_0-auc:0.837395\tvalidation_0-error:0.201439\tvalidation_1-auc:0.589744\tvalidation_1-error:0.257143\n",
      "[63]\tvalidation_0-auc:0.838235\tvalidation_0-error:0.201439\tvalidation_1-auc:0.594017\tvalidation_1-error:0.285714\n",
      "[64]\tvalidation_0-auc:0.837395\tvalidation_0-error:0.201439\tvalidation_1-auc:0.594017\tvalidation_1-error:0.257143\n",
      "[65]\tvalidation_0-auc:0.837395\tvalidation_0-error:0.201439\tvalidation_1-auc:0.594017\tvalidation_1-error:0.257143\n",
      "[66]\tvalidation_0-auc:0.838515\tvalidation_0-error:0.201439\tvalidation_1-auc:0.594017\tvalidation_1-error:0.257143\n",
      "[67]\tvalidation_0-auc:0.838796\tvalidation_0-error:0.201439\tvalidation_1-auc:0.594017\tvalidation_1-error:0.257143\n",
      "[68]\tvalidation_0-auc:0.838796\tvalidation_0-error:0.194245\tvalidation_1-auc:0.594017\tvalidation_1-error:0.257143\n",
      "[69]\tvalidation_0-auc:0.839636\tvalidation_0-error:0.194245\tvalidation_1-auc:0.594017\tvalidation_1-error:0.257143\n",
      "[70]\tvalidation_0-auc:0.838515\tvalidation_0-error:0.201439\tvalidation_1-auc:0.594017\tvalidation_1-error:0.257143\n",
      "[71]\tvalidation_0-auc:0.841036\tvalidation_0-error:0.201439\tvalidation_1-auc:0.598291\tvalidation_1-error:0.257143\n",
      "[72]\tvalidation_0-auc:0.841597\tvalidation_0-error:0.201439\tvalidation_1-auc:0.598291\tvalidation_1-error:0.257143\n",
      "[73]\tvalidation_0-auc:0.841317\tvalidation_0-error:0.194245\tvalidation_1-auc:0.602564\tvalidation_1-error:0.257143\n",
      "[74]\tvalidation_0-auc:0.842997\tvalidation_0-error:0.18705\tvalidation_1-auc:0.611111\tvalidation_1-error:0.257143\n",
      "[75]\tvalidation_0-auc:0.842717\tvalidation_0-error:0.18705\tvalidation_1-auc:0.611111\tvalidation_1-error:0.257143\n",
      "[76]\tvalidation_0-auc:0.841597\tvalidation_0-error:0.18705\tvalidation_1-auc:0.611111\tvalidation_1-error:0.257143\n",
      "[77]\tvalidation_0-auc:0.842997\tvalidation_0-error:0.18705\tvalidation_1-auc:0.611111\tvalidation_1-error:0.257143\n",
      "[78]\tvalidation_0-auc:0.844118\tvalidation_0-error:0.18705\tvalidation_1-auc:0.611111\tvalidation_1-error:0.257143\n",
      "[79]\tvalidation_0-auc:0.845518\tvalidation_0-error:0.179856\tvalidation_1-auc:0.606838\tvalidation_1-error:0.257143\n",
      "[80]\tvalidation_0-auc:0.846359\tvalidation_0-error:0.179856\tvalidation_1-auc:0.611111\tvalidation_1-error:0.257143\n",
      "[81]\tvalidation_0-auc:0.845798\tvalidation_0-error:0.179856\tvalidation_1-auc:0.611111\tvalidation_1-error:0.257143\n",
      "[82]\tvalidation_0-auc:0.846639\tvalidation_0-error:0.179856\tvalidation_1-auc:0.611111\tvalidation_1-error:0.257143\n",
      "[83]\tvalidation_0-auc:0.846919\tvalidation_0-error:0.179856\tvalidation_1-auc:0.606838\tvalidation_1-error:0.257143\n",
      "[84]\tvalidation_0-auc:0.846359\tvalidation_0-error:0.172662\tvalidation_1-auc:0.606838\tvalidation_1-error:0.257143\n",
      "[85]\tvalidation_0-auc:0.846919\tvalidation_0-error:0.179856\tvalidation_1-auc:0.606838\tvalidation_1-error:0.257143\n",
      "[86]\tvalidation_0-auc:0.84874\tvalidation_0-error:0.172662\tvalidation_1-auc:0.611111\tvalidation_1-error:0.257143\n",
      "[87]\tvalidation_0-auc:0.84874\tvalidation_0-error:0.172662\tvalidation_1-auc:0.611111\tvalidation_1-error:0.257143\n",
      "[88]\tvalidation_0-auc:0.848459\tvalidation_0-error:0.172662\tvalidation_1-auc:0.611111\tvalidation_1-error:0.257143\n",
      "[89]\tvalidation_0-auc:0.84902\tvalidation_0-error:0.172662\tvalidation_1-auc:0.611111\tvalidation_1-error:0.257143\n",
      "[90]\tvalidation_0-auc:0.851821\tvalidation_0-error:0.172662\tvalidation_1-auc:0.611111\tvalidation_1-error:0.257143\n",
      "[91]\tvalidation_0-auc:0.85056\tvalidation_0-error:0.172662\tvalidation_1-auc:0.611111\tvalidation_1-error:0.257143\n",
      "[92]\tvalidation_0-auc:0.85112\tvalidation_0-error:0.172662\tvalidation_1-auc:0.611111\tvalidation_1-error:0.257143\n",
      "[93]\tvalidation_0-auc:0.85084\tvalidation_0-error:0.172662\tvalidation_1-auc:0.611111\tvalidation_1-error:0.257143\n",
      "[94]\tvalidation_0-auc:0.851681\tvalidation_0-error:0.172662\tvalidation_1-auc:0.611111\tvalidation_1-error:0.257143\n",
      "[95]\tvalidation_0-auc:0.853361\tvalidation_0-error:0.172662\tvalidation_1-auc:0.611111\tvalidation_1-error:0.257143\n",
      "[96]\tvalidation_0-auc:0.852521\tvalidation_0-error:0.172662\tvalidation_1-auc:0.611111\tvalidation_1-error:0.257143\n",
      "[97]\tvalidation_0-auc:0.854482\tvalidation_0-error:0.172662\tvalidation_1-auc:0.611111\tvalidation_1-error:0.257143\n",
      "[98]\tvalidation_0-auc:0.855042\tvalidation_0-error:0.172662\tvalidation_1-auc:0.611111\tvalidation_1-error:0.257143\n",
      "[99]\tvalidation_0-auc:0.855882\tvalidation_0-error:0.172662\tvalidation_1-auc:0.611111\tvalidation_1-error:0.257143\n",
      "[100]\tvalidation_0-auc:0.854482\tvalidation_0-error:0.165468\tvalidation_1-auc:0.611111\tvalidation_1-error:0.257143\n",
      "[101]\tvalidation_0-auc:0.855602\tvalidation_0-error:0.158273\tvalidation_1-auc:0.611111\tvalidation_1-error:0.257143\n",
      "[102]\tvalidation_0-auc:0.858683\tvalidation_0-error:0.165468\tvalidation_1-auc:0.606838\tvalidation_1-error:0.257143\n",
      "[103]\tvalidation_0-auc:0.860084\tvalidation_0-error:0.158273\tvalidation_1-auc:0.611111\tvalidation_1-error:0.257143\n",
      "[104]\tvalidation_0-auc:0.860644\tvalidation_0-error:0.158273\tvalidation_1-auc:0.611111\tvalidation_1-error:0.257143\n",
      "[105]\tvalidation_0-auc:0.863725\tvalidation_0-error:0.158273\tvalidation_1-auc:0.628205\tvalidation_1-error:0.257143\n",
      "[106]\tvalidation_0-auc:0.863165\tvalidation_0-error:0.158273\tvalidation_1-auc:0.628205\tvalidation_1-error:0.257143\n",
      "[107]\tvalidation_0-auc:0.863725\tvalidation_0-error:0.158273\tvalidation_1-auc:0.623932\tvalidation_1-error:0.257143\n",
      "[108]\tvalidation_0-auc:0.865406\tvalidation_0-error:0.158273\tvalidation_1-auc:0.628205\tvalidation_1-error:0.257143\n",
      "[109]\tvalidation_0-auc:0.864846\tvalidation_0-error:0.158273\tvalidation_1-auc:0.628205\tvalidation_1-error:0.257143\n",
      "[110]\tvalidation_0-auc:0.867367\tvalidation_0-error:0.158273\tvalidation_1-auc:0.628205\tvalidation_1-error:0.257143\n",
      "[111]\tvalidation_0-auc:0.867647\tvalidation_0-error:0.158273\tvalidation_1-auc:0.632479\tvalidation_1-error:0.257143\n",
      "[112]\tvalidation_0-auc:0.868487\tvalidation_0-error:0.158273\tvalidation_1-auc:0.636752\tvalidation_1-error:0.257143\n",
      "[113]\tvalidation_0-auc:0.868487\tvalidation_0-error:0.158273\tvalidation_1-auc:0.636752\tvalidation_1-error:0.257143\n",
      "[114]\tvalidation_0-auc:0.869608\tvalidation_0-error:0.158273\tvalidation_1-auc:0.636752\tvalidation_1-error:0.257143\n",
      "[115]\tvalidation_0-auc:0.871989\tvalidation_0-error:0.158273\tvalidation_1-auc:0.636752\tvalidation_1-error:0.257143\n",
      "[116]\tvalidation_0-auc:0.873109\tvalidation_0-error:0.158273\tvalidation_1-auc:0.636752\tvalidation_1-error:0.257143\n",
      "[117]\tvalidation_0-auc:0.873669\tvalidation_0-error:0.158273\tvalidation_1-auc:0.636752\tvalidation_1-error:0.257143\n",
      "[118]\tvalidation_0-auc:0.87395\tvalidation_0-error:0.158273\tvalidation_1-auc:0.636752\tvalidation_1-error:0.257143\n",
      "[119]\tvalidation_0-auc:0.87423\tvalidation_0-error:0.158273\tvalidation_1-auc:0.636752\tvalidation_1-error:0.257143\n",
      "[120]\tvalidation_0-auc:0.87479\tvalidation_0-error:0.158273\tvalidation_1-auc:0.641026\tvalidation_1-error:0.257143\n",
      "[121]\tvalidation_0-auc:0.87479\tvalidation_0-error:0.158273\tvalidation_1-auc:0.645299\tvalidation_1-error:0.257143\n",
      "[122]\tvalidation_0-auc:0.87451\tvalidation_0-error:0.158273\tvalidation_1-auc:0.645299\tvalidation_1-error:0.257143\n",
      "[123]\tvalidation_0-auc:0.87507\tvalidation_0-error:0.158273\tvalidation_1-auc:0.645299\tvalidation_1-error:0.257143\n",
      "[124]\tvalidation_0-auc:0.877031\tvalidation_0-error:0.158273\tvalidation_1-auc:0.645299\tvalidation_1-error:0.257143\n",
      "[125]\tvalidation_0-auc:0.879272\tvalidation_0-error:0.158273\tvalidation_1-auc:0.645299\tvalidation_1-error:0.257143\n",
      "[126]\tvalidation_0-auc:0.879552\tvalidation_0-error:0.158273\tvalidation_1-auc:0.645299\tvalidation_1-error:0.257143\n",
      "[127]\tvalidation_0-auc:0.879272\tvalidation_0-error:0.158273\tvalidation_1-auc:0.645299\tvalidation_1-error:0.257143\n",
      "[128]\tvalidation_0-auc:0.881233\tvalidation_0-error:0.158273\tvalidation_1-auc:0.649573\tvalidation_1-error:0.257143\n",
      "[129]\tvalidation_0-auc:0.880672\tvalidation_0-error:0.158273\tvalidation_1-auc:0.649573\tvalidation_1-error:0.257143\n",
      "[130]\tvalidation_0-auc:0.882073\tvalidation_0-error:0.158273\tvalidation_1-auc:0.641026\tvalidation_1-error:0.257143\n",
      "[131]\tvalidation_0-auc:0.882353\tvalidation_0-error:0.158273\tvalidation_1-auc:0.641026\tvalidation_1-error:0.257143\n",
      "[132]\tvalidation_0-auc:0.884874\tvalidation_0-error:0.158273\tvalidation_1-auc:0.645299\tvalidation_1-error:0.285714\n",
      "[133]\tvalidation_0-auc:0.884874\tvalidation_0-error:0.151079\tvalidation_1-auc:0.645299\tvalidation_1-error:0.285714\n",
      "[134]\tvalidation_0-auc:0.885714\tvalidation_0-error:0.165468\tvalidation_1-auc:0.645299\tvalidation_1-error:0.257143\n",
      "[135]\tvalidation_0-auc:0.885994\tvalidation_0-error:0.151079\tvalidation_1-auc:0.653846\tvalidation_1-error:0.257143\n",
      "[136]\tvalidation_0-auc:0.886275\tvalidation_0-error:0.158273\tvalidation_1-auc:0.653846\tvalidation_1-error:0.257143\n",
      "[137]\tvalidation_0-auc:0.887395\tvalidation_0-error:0.143885\tvalidation_1-auc:0.649573\tvalidation_1-error:0.257143\n",
      "[138]\tvalidation_0-auc:0.888795\tvalidation_0-error:0.151079\tvalidation_1-auc:0.653846\tvalidation_1-error:0.285714\n",
      "[139]\tvalidation_0-auc:0.889636\tvalidation_0-error:0.151079\tvalidation_1-auc:0.649573\tvalidation_1-error:0.257143\n",
      "[140]\tvalidation_0-auc:0.892157\tvalidation_0-error:0.151079\tvalidation_1-auc:0.645299\tvalidation_1-error:0.257143\n",
      "[141]\tvalidation_0-auc:0.891317\tvalidation_0-error:0.151079\tvalidation_1-auc:0.653846\tvalidation_1-error:0.257143\n",
      "[142]\tvalidation_0-auc:0.894118\tvalidation_0-error:0.151079\tvalidation_1-auc:0.645299\tvalidation_1-error:0.257143\n",
      "[143]\tvalidation_0-auc:0.893838\tvalidation_0-error:0.151079\tvalidation_1-auc:0.641026\tvalidation_1-error:0.257143\n",
      "[144]\tvalidation_0-auc:0.895238\tvalidation_0-error:0.151079\tvalidation_1-auc:0.641026\tvalidation_1-error:0.257143\n",
      "[145]\tvalidation_0-auc:0.897479\tvalidation_0-error:0.151079\tvalidation_1-auc:0.641026\tvalidation_1-error:0.257143\n",
      "[146]\tvalidation_0-auc:0.897479\tvalidation_0-error:0.151079\tvalidation_1-auc:0.645299\tvalidation_1-error:0.257143\n",
      "[147]\tvalidation_0-auc:0.897759\tvalidation_0-error:0.143885\tvalidation_1-auc:0.641026\tvalidation_1-error:0.257143\n",
      "[148]\tvalidation_0-auc:0.89944\tvalidation_0-error:0.143885\tvalidation_1-auc:0.645299\tvalidation_1-error:0.257143\n",
      "[149]\tvalidation_0-auc:0.90056\tvalidation_0-error:0.143885\tvalidation_1-auc:0.641026\tvalidation_1-error:0.257143\n",
      "[150]\tvalidation_0-auc:0.90112\tvalidation_0-error:0.143885\tvalidation_1-auc:0.641026\tvalidation_1-error:0.257143\n",
      "[151]\tvalidation_0-auc:0.901681\tvalidation_0-error:0.136691\tvalidation_1-auc:0.649573\tvalidation_1-error:0.257143\n",
      "[152]\tvalidation_0-auc:0.903361\tvalidation_0-error:0.143885\tvalidation_1-auc:0.645299\tvalidation_1-error:0.257143\n",
      "[153]\tvalidation_0-auc:0.904202\tvalidation_0-error:0.143885\tvalidation_1-auc:0.641026\tvalidation_1-error:0.257143\n",
      "[154]\tvalidation_0-auc:0.904762\tvalidation_0-error:0.151079\tvalidation_1-auc:0.645299\tvalidation_1-error:0.257143\n",
      "[155]\tvalidation_0-auc:0.905042\tvalidation_0-error:0.143885\tvalidation_1-auc:0.641026\tvalidation_1-error:0.257143\n",
      "[156]\tvalidation_0-auc:0.905042\tvalidation_0-error:0.143885\tvalidation_1-auc:0.645299\tvalidation_1-error:0.257143\n",
      "[157]\tvalidation_0-auc:0.905042\tvalidation_0-error:0.143885\tvalidation_1-auc:0.649573\tvalidation_1-error:0.257143\n",
      "[158]\tvalidation_0-auc:0.905322\tvalidation_0-error:0.143885\tvalidation_1-auc:0.649573\tvalidation_1-error:0.257143\n",
      "[159]\tvalidation_0-auc:0.906443\tvalidation_0-error:0.143885\tvalidation_1-auc:0.649573\tvalidation_1-error:0.257143\n",
      "[160]\tvalidation_0-auc:0.907283\tvalidation_0-error:0.143885\tvalidation_1-auc:0.649573\tvalidation_1-error:0.257143\n",
      "[161]\tvalidation_0-auc:0.907283\tvalidation_0-error:0.136691\tvalidation_1-auc:0.645299\tvalidation_1-error:0.257143\n",
      "[162]\tvalidation_0-auc:0.908403\tvalidation_0-error:0.143885\tvalidation_1-auc:0.641026\tvalidation_1-error:0.257143\n",
      "[163]\tvalidation_0-auc:0.908403\tvalidation_0-error:0.143885\tvalidation_1-auc:0.636752\tvalidation_1-error:0.257143\n",
      "[164]\tvalidation_0-auc:0.907843\tvalidation_0-error:0.143885\tvalidation_1-auc:0.632479\tvalidation_1-error:0.257143\n",
      "[165]\tvalidation_0-auc:0.909244\tvalidation_0-error:0.136691\tvalidation_1-auc:0.628205\tvalidation_1-error:0.257143\n",
      "[166]\tvalidation_0-auc:0.910084\tvalidation_0-error:0.136691\tvalidation_1-auc:0.632479\tvalidation_1-error:0.257143\n",
      "[167]\tvalidation_0-auc:0.910084\tvalidation_0-error:0.136691\tvalidation_1-auc:0.632479\tvalidation_1-error:0.257143\n",
      "[168]\tvalidation_0-auc:0.910084\tvalidation_0-error:0.136691\tvalidation_1-auc:0.636752\tvalidation_1-error:0.257143\n",
      "[169]\tvalidation_0-auc:0.909244\tvalidation_0-error:0.136691\tvalidation_1-auc:0.636752\tvalidation_1-error:0.257143\n",
      "[170]\tvalidation_0-auc:0.911204\tvalidation_0-error:0.136691\tvalidation_1-auc:0.641026\tvalidation_1-error:0.257143\n",
      "[171]\tvalidation_0-auc:0.913725\tvalidation_0-error:0.136691\tvalidation_1-auc:0.645299\tvalidation_1-error:0.257143\n",
      "[172]\tvalidation_0-auc:0.914006\tvalidation_0-error:0.136691\tvalidation_1-auc:0.641026\tvalidation_1-error:0.257143\n",
      "[173]\tvalidation_0-auc:0.915686\tvalidation_0-error:0.136691\tvalidation_1-auc:0.636752\tvalidation_1-error:0.257143\n",
      "[174]\tvalidation_0-auc:0.916807\tvalidation_0-error:0.136691\tvalidation_1-auc:0.632479\tvalidation_1-error:0.257143\n",
      "[175]\tvalidation_0-auc:0.917087\tvalidation_0-error:0.136691\tvalidation_1-auc:0.632479\tvalidation_1-error:0.257143\n",
      "[176]\tvalidation_0-auc:0.917927\tvalidation_0-error:0.136691\tvalidation_1-auc:0.632479\tvalidation_1-error:0.257143\n",
      "[177]\tvalidation_0-auc:0.917367\tvalidation_0-error:0.136691\tvalidation_1-auc:0.632479\tvalidation_1-error:0.257143\n",
      "[178]\tvalidation_0-auc:0.918487\tvalidation_0-error:0.136691\tvalidation_1-auc:0.632479\tvalidation_1-error:0.257143\n",
      "[179]\tvalidation_0-auc:0.919048\tvalidation_0-error:0.136691\tvalidation_1-auc:0.636752\tvalidation_1-error:0.257143\n",
      "[180]\tvalidation_0-auc:0.920168\tvalidation_0-error:0.136691\tvalidation_1-auc:0.641026\tvalidation_1-error:0.257143\n",
      "[181]\tvalidation_0-auc:0.920728\tvalidation_0-error:0.129496\tvalidation_1-auc:0.645299\tvalidation_1-error:0.257143\n",
      "[182]\tvalidation_0-auc:0.920728\tvalidation_0-error:0.136691\tvalidation_1-auc:0.645299\tvalidation_1-error:0.257143\n",
      "[183]\tvalidation_0-auc:0.920168\tvalidation_0-error:0.129496\tvalidation_1-auc:0.641026\tvalidation_1-error:0.257143\n",
      "[184]\tvalidation_0-auc:0.919888\tvalidation_0-error:0.129496\tvalidation_1-auc:0.645299\tvalidation_1-error:0.257143\n",
      "[185]\tvalidation_0-auc:0.920448\tvalidation_0-error:0.129496\tvalidation_1-auc:0.645299\tvalidation_1-error:0.257143\n",
      "[186]\tvalidation_0-auc:0.921849\tvalidation_0-error:0.129496\tvalidation_1-auc:0.645299\tvalidation_1-error:0.257143\n",
      "[187]\tvalidation_0-auc:0.923529\tvalidation_0-error:0.129496\tvalidation_1-auc:0.649573\tvalidation_1-error:0.257143\n",
      "[188]\tvalidation_0-auc:0.923249\tvalidation_0-error:0.129496\tvalidation_1-auc:0.649573\tvalidation_1-error:0.257143\n",
      "[189]\tvalidation_0-auc:0.922969\tvalidation_0-error:0.129496\tvalidation_1-auc:0.649573\tvalidation_1-error:0.257143\n",
      "[190]\tvalidation_0-auc:0.923529\tvalidation_0-error:0.129496\tvalidation_1-auc:0.649573\tvalidation_1-error:0.257143\n",
      "[191]\tvalidation_0-auc:0.922969\tvalidation_0-error:0.129496\tvalidation_1-auc:0.645299\tvalidation_1-error:0.257143\n",
      "[192]\tvalidation_0-auc:0.92409\tvalidation_0-error:0.129496\tvalidation_1-auc:0.645299\tvalidation_1-error:0.257143\n",
      "[193]\tvalidation_0-auc:0.92549\tvalidation_0-error:0.129496\tvalidation_1-auc:0.649573\tvalidation_1-error:0.257143\n",
      "[194]\tvalidation_0-auc:0.926611\tvalidation_0-error:0.129496\tvalidation_1-auc:0.645299\tvalidation_1-error:0.257143\n",
      "[195]\tvalidation_0-auc:0.927171\tvalidation_0-error:0.129496\tvalidation_1-auc:0.649573\tvalidation_1-error:0.257143\n",
      "[196]\tvalidation_0-auc:0.928291\tvalidation_0-error:0.122302\tvalidation_1-auc:0.649573\tvalidation_1-error:0.257143\n",
      "[197]\tvalidation_0-auc:0.927451\tvalidation_0-error:0.122302\tvalidation_1-auc:0.649573\tvalidation_1-error:0.257143\n",
      "[198]\tvalidation_0-auc:0.928571\tvalidation_0-error:0.122302\tvalidation_1-auc:0.649573\tvalidation_1-error:0.257143\n",
      "[199]\tvalidation_0-auc:0.929132\tvalidation_0-error:0.122302\tvalidation_1-auc:0.645299\tvalidation_1-error:0.257143\n",
      "CPU times: user 4.69 s, sys: 85.7 ms, total: 4.78 s\n",
      "Wall time: 241 ms\n"
     ]
    },
    {
     "data": {
      "text/plain": [
       "XGBClassifier(base_score=0.5, booster='gbtree', class_weight='balanced',\n",
       "              colsample_bylevel=1, colsample_bynode=1, colsample_bytree=1,\n",
       "              gamma=0, learning_rate=0.01, max_delta_step=5, max_depth=20,\n",
       "              min_child_weight=5, missing=None, n_estimators=200, n_jobs=20,\n",
       "              nthread=None, objective='binary:logistic', random_state=0,\n",
       "              reg_alpha=0.1, reg_lambda=1, scale_pos_weight=0.4, seed=None,\n",
       "              silent=None, subsample=1, verbosity=1)"
      ]
     },
     "execution_count": 40,
     "metadata": {},
     "output_type": "execute_result"
    }
   ],
   "source": [
    "eval_set = [(X_train, y_train), (X_test, y_test)]\n",
    "eval_metric = [\"auc\",\"error\"]\n",
    "%time model1.fit(X_train,y_train,eval_metric =eval_metric, eval_set=eval_set)"
   ]
  },
  {
   "cell_type": "code",
   "execution_count": 41,
   "metadata": {},
   "outputs": [],
   "source": [
    "pred=model1.predict(X)"
   ]
  },
  {
   "cell_type": "code",
   "execution_count": 42,
   "metadata": {},
   "outputs": [
    {
     "name": "stdout",
     "output_type": "stream",
     "text": [
      "Specificity :  0.6976744186046512\n",
      "Sensitivity :  0.9007633587786259\n",
      "Accuracy :  0.8505747126436781\n",
      "Confusion Matrix : \n",
      " [ 30  13  13 118]\n"
     ]
    }
   ],
   "source": [
    "from sklearn.metrics import confusion_matrix\n",
    "from sklearn.metrics import classification_report\n",
    "tn, fp, fn, tp = confusion_matrix(df['SURVIVAL_STATUS'], pred,labels=[0,1]).ravel()\n",
    "cm=confusion_matrix(df['SURVIVAL_STATUS'], pred,labels=[0,1]).ravel()\n",
    "total=sum(cm)\n",
    "accuracy=(tp+tn)/(tp+tn+fn+fp)\n",
    "sensitivity = tp/(tp+fn)\n",
    "specificity = tn/(tn+fp)\n",
    "print('Specificity : ', specificity)\n",
    "print('Sensitivity : ', sensitivity )\n",
    "print ('Accuracy : ', accuracy)\n",
    "print('Confusion Matrix : \\n', cm)"
   ]
  },
  {
   "cell_type": "code",
   "execution_count": 45,
   "metadata": {},
   "outputs": [],
   "source": [
    "from sklearn.ensemble import RandomForestClassifier\n",
    "pbounds = {\n",
    "    \n",
    "    'n_estimators': (100,500),\n",
    "    'max_depth': (20, 500),  # Change for big datasets\n",
    "    'min_samples_split': (0.1, 1),  # Change for datasets with lots of features\n",
    "                                }\n",
    " \n",
    "def rf_hyper_param(\n",
    "                        n_estimators,\n",
    "                        max_depth,\n",
    "                        min_samples_split,\n",
    "                        \n",
    "                        ):\n",
    " \n",
    "    max_depth = int(max_depth)\n",
    "    n_estimators = int(n_estimators)\n",
    " \n",
    "    clf = RandomForestClassifier(\n",
    "        max_depth=max_depth,\n",
    "        n_estimators=n_estimators,\n",
    "        min_samples_split=min_samples_split,\n",
    "        \n",
    "        )\n",
    "    return np.mean(cross_val_score(clf, X_train, y_train, cv=5, scoring='accuracy',n_jobs=50))\n",
    " \n",
    " \n",
    "optimizer = BayesianOptimization(\n",
    "    f=rf_hyper_param,\n",
    "    pbounds=pbounds,\n",
    "    random_state=1)"
   ]
  },
  {
   "cell_type": "code",
   "execution_count": 46,
   "metadata": {},
   "outputs": [
    {
     "name": "stdout",
     "output_type": "stream",
     "text": [
      "|   iter    |  target   | max_depth | min_sa... | n_esti... |\n",
      "-------------------------------------------------------------\n",
      "| \u001b[0m 1       \u001b[0m | \u001b[0m 0.7556  \u001b[0m | \u001b[0m 220.2   \u001b[0m | \u001b[0m 0.7483  \u001b[0m | \u001b[0m 100.0   \u001b[0m |\n",
      "| \u001b[0m 2       \u001b[0m | \u001b[0m 0.741   \u001b[0m | \u001b[0m 165.1   \u001b[0m | \u001b[0m 0.2321  \u001b[0m | \u001b[0m 136.9   \u001b[0m |\n",
      "| \u001b[0m 3       \u001b[0m | \u001b[0m 0.7556  \u001b[0m | \u001b[0m 109.4   \u001b[0m | \u001b[0m 0.411   \u001b[0m | \u001b[0m 258.7   \u001b[0m |\n",
      "| \u001b[0m 4       \u001b[0m | \u001b[0m 0.7484  \u001b[0m | \u001b[0m 278.6   \u001b[0m | \u001b[0m 0.4773  \u001b[0m | \u001b[0m 374.1   \u001b[0m |\n",
      "| \u001b[0m 5       \u001b[0m | \u001b[0m 0.7556  \u001b[0m | \u001b[0m 118.1   \u001b[0m | \u001b[0m 0.8903  \u001b[0m | \u001b[0m 111.0   \u001b[0m |\n",
      "| \u001b[0m 6       \u001b[0m | \u001b[0m 0.7556  \u001b[0m | \u001b[0m 341.8   \u001b[0m | \u001b[0m 0.4756  \u001b[0m | \u001b[0m 323.5   \u001b[0m |\n",
      "| \u001b[0m 7       \u001b[0m | \u001b[0m 0.7339  \u001b[0m | \u001b[0m 87.39   \u001b[0m | \u001b[0m 0.2783  \u001b[0m | \u001b[0m 420.3   \u001b[0m |\n",
      "| \u001b[0m 8       \u001b[0m | \u001b[0m 0.7484  \u001b[0m | \u001b[0m 484.8   \u001b[0m | \u001b[0m 0.3821  \u001b[0m | \u001b[0m 376.9   \u001b[0m |\n",
      "| \u001b[0m 9       \u001b[0m | \u001b[0m 0.7556  \u001b[0m | \u001b[0m 440.7   \u001b[0m | \u001b[0m 0.9051  \u001b[0m | \u001b[0m 134.0   \u001b[0m |\n",
      "| \u001b[0m 10      \u001b[0m | \u001b[0m 0.7267  \u001b[0m | \u001b[0m 38.75   \u001b[0m | \u001b[0m 0.2528  \u001b[0m | \u001b[0m 451.3   \u001b[0m |\n",
      "| \u001b[0m 11      \u001b[0m | \u001b[0m 0.7556  \u001b[0m | \u001b[0m 20.0    \u001b[0m | \u001b[0m 1.0     \u001b[0m | \u001b[0m 100.0   \u001b[0m |\n",
      "| \u001b[0m 12      \u001b[0m | \u001b[0m 0.7556  \u001b[0m | \u001b[0m 20.6    \u001b[0m | \u001b[0m 0.8851  \u001b[0m | \u001b[0m 288.4   \u001b[0m |\n",
      "| \u001b[0m 13      \u001b[0m | \u001b[0m 0.7556  \u001b[0m | \u001b[0m 387.7   \u001b[0m | \u001b[0m 0.8196  \u001b[0m | \u001b[0m 100.0   \u001b[0m |\n",
      "| \u001b[0m 14      \u001b[0m | \u001b[0m 0.741   \u001b[0m | \u001b[0m 499.3   \u001b[0m | \u001b[0m 0.291   \u001b[0m | \u001b[0m 100.2   \u001b[0m |\n",
      "| \u001b[0m 15      \u001b[0m | \u001b[0m 0.7556  \u001b[0m | \u001b[0m 463.3   \u001b[0m | \u001b[0m 0.9594  \u001b[0m | \u001b[0m 256.5   \u001b[0m |\n",
      "| \u001b[0m 16      \u001b[0m | \u001b[0m 0.7556  \u001b[0m | \u001b[0m 499.8   \u001b[0m | \u001b[0m 0.9988  \u001b[0m | \u001b[0m 499.4   \u001b[0m |\n",
      "| \u001b[0m 17      \u001b[0m | \u001b[0m 0.7556  \u001b[0m | \u001b[0m 405.6   \u001b[0m | \u001b[0m 0.863   \u001b[0m | \u001b[0m 499.7   \u001b[0m |\n",
      "| \u001b[0m 18      \u001b[0m | \u001b[0m 0.7556  \u001b[0m | \u001b[0m 93.8    \u001b[0m | \u001b[0m 0.9643  \u001b[0m | \u001b[0m 100.1   \u001b[0m |\n",
      "| \u001b[0m 19      \u001b[0m | \u001b[0m 0.7556  \u001b[0m | \u001b[0m 413.5   \u001b[0m | \u001b[0m 0.9843  \u001b[0m | \u001b[0m 229.0   \u001b[0m |\n",
      "| \u001b[0m 20      \u001b[0m | \u001b[0m 0.7556  \u001b[0m | \u001b[0m 58.82   \u001b[0m | \u001b[0m 0.9821  \u001b[0m | \u001b[0m 261.0   \u001b[0m |\n",
      "| \u001b[0m 21      \u001b[0m | \u001b[0m 0.7556  \u001b[0m | \u001b[0m 391.7   \u001b[0m | \u001b[0m 0.9954  \u001b[0m | \u001b[0m 348.2   \u001b[0m |\n",
      "| \u001b[0m 22      \u001b[0m | \u001b[0m 0.7556  \u001b[0m | \u001b[0m 95.51   \u001b[0m | \u001b[0m 0.9764  \u001b[0m | \u001b[0m 298.0   \u001b[0m |\n",
      "| \u001b[0m 23      \u001b[0m | \u001b[0m 0.7556  \u001b[0m | \u001b[0m 449.2   \u001b[0m | \u001b[0m 0.9324  \u001b[0m | \u001b[0m 499.9   \u001b[0m |\n",
      "| \u001b[0m 24      \u001b[0m | \u001b[0m 0.7556  \u001b[0m | \u001b[0m 308.8   \u001b[0m | \u001b[0m 0.79    \u001b[0m | \u001b[0m 100.3   \u001b[0m |\n",
      "| \u001b[0m 25      \u001b[0m | \u001b[0m 0.7556  \u001b[0m | \u001b[0m 447.2   \u001b[0m | \u001b[0m 0.9923  \u001b[0m | \u001b[0m 199.1   \u001b[0m |\n",
      "| \u001b[0m 26      \u001b[0m | \u001b[0m 0.7556  \u001b[0m | \u001b[0m 400.5   \u001b[0m | \u001b[0m 0.9975  \u001b[0m | \u001b[0m 295.9   \u001b[0m |\n",
      "| \u001b[0m 27      \u001b[0m | \u001b[0m 0.7556  \u001b[0m | \u001b[0m 83.84   \u001b[0m | \u001b[0m 0.8742  \u001b[0m | \u001b[0m 100.5   \u001b[0m |\n",
      "| \u001b[0m 28      \u001b[0m | \u001b[0m 0.7556  \u001b[0m | \u001b[0m 114.7   \u001b[0m | \u001b[0m 0.9579  \u001b[0m | \u001b[0m 100.2   \u001b[0m |\n",
      "| \u001b[0m 29      \u001b[0m | \u001b[0m 0.7556  \u001b[0m | \u001b[0m 74.59   \u001b[0m | \u001b[0m 0.9857  \u001b[0m | \u001b[0m 277.3   \u001b[0m |\n",
      "| \u001b[0m 30      \u001b[0m | \u001b[0m 0.7556  \u001b[0m | \u001b[0m 20.33   \u001b[0m | \u001b[0m 0.9625  \u001b[0m | \u001b[0m 233.5   \u001b[0m |\n",
      "=============================================================\n"
     ]
    }
   ],
   "source": [
    "optimizer.maximize(init_points=10, n_iter=20, acq='ei')"
   ]
  },
  {
   "cell_type": "code",
   "execution_count": 47,
   "metadata": {},
   "outputs": [],
   "source": [
    "randomforest = RandomForestClassifier(criterion='gini',n_estimators=400,max_depth=350,min_samples_split=0.1,min_impurity_decrease=0.0,min_weight_fraction_leaf=0.05,max_features='auto', min_samples_leaf=7,random_state=0,oob_score=True,class_weight='balanced_subsample')"
   ]
  },
  {
   "cell_type": "code",
   "execution_count": 48,
   "metadata": {},
   "outputs": [
    {
     "data": {
      "text/plain": [
       "RandomForestClassifier(bootstrap=True, class_weight='balanced_subsample',\n",
       "                       criterion='gini', max_depth=350, max_features='auto',\n",
       "                       max_leaf_nodes=None, min_impurity_decrease=0.0,\n",
       "                       min_impurity_split=None, min_samples_leaf=7,\n",
       "                       min_samples_split=0.1, min_weight_fraction_leaf=0.05,\n",
       "                       n_estimators=400, n_jobs=None, oob_score=True,\n",
       "                       random_state=0, verbose=0, warm_start=False)"
      ]
     },
     "execution_count": 48,
     "metadata": {},
     "output_type": "execute_result"
    }
   ],
   "source": [
    "randomforest.fit(X_train,y_train)"
   ]
  },
  {
   "cell_type": "code",
   "execution_count": 49,
   "metadata": {},
   "outputs": [
    {
     "name": "stdout",
     "output_type": "stream",
     "text": [
      "Specificity :  0.7906976744186046\n",
      "Sensitivity :  0.9618320610687023\n",
      "Accuracy :  0.9195402298850575\n",
      "Confusion Matrix : \n",
      " [ 34   9   5 126]\n"
     ]
    }
   ],
   "source": [
    "pred=randomforest.predict(X)\n",
    "from sklearn.metrics import confusion_matrix\n",
    "from sklearn.metrics import classification_report\n",
    "tn, fp, fn, tp = confusion_matrix(df['SURVIVAL_STATUS'], pred,labels=[0,1]).ravel()\n",
    "cm=confusion_matrix(df['SURVIVAL_STATUS'], pred,labels=[0,1]).ravel()\n",
    "total=sum(cm)\n",
    "accuracy=(tp+tn)/(tp+tn+fn+fp)\n",
    "sensitivity = tp/(tp+fn)\n",
    "specificity = tn/(tn+fp)\n",
    "print('Specificity : ', specificity)\n",
    "print('Sensitivity : ', sensitivity )\n",
    "print ('Accuracy : ', accuracy)\n",
    "print('Confusion Matrix : \\n', cm)"
   ]
  },
  {
   "cell_type": "code",
   "execution_count": 50,
   "metadata": {},
   "outputs": [
    {
     "data": {
      "text/plain": [
       "GridSearchCV(cv=5, error_score='raise-deprecating',\n",
       "             estimator=LogisticRegression(C=1.0, class_weight='balanced',\n",
       "                                          dual=False, fit_intercept=True,\n",
       "                                          intercept_scaling=1, l1_ratio=None,\n",
       "                                          max_iter=100, multi_class='warn',\n",
       "                                          n_jobs=50, penalty='l2',\n",
       "                                          random_state=None, solver='warn',\n",
       "                                          tol=0.0001, verbose=1000,\n",
       "                                          warm_start=False),\n",
       "             iid='warn', n_jobs=None,\n",
       "             param_grid={'C': [0.001, 0.01, 0.1, 1, 10, 100, 1000]},\n",
       "             pre_dispatch='2*n_jobs', refit=True, return_train_score=False,\n",
       "             scoring=None, verbose=0)"
      ]
     },
     "execution_count": 50,
     "metadata": {},
     "output_type": "execute_result"
    }
   ],
   "source": [
    "param_grid = {'C': [0.001, 0.01, 0.1, 1, 10, 100, 1000] }\n",
    "clf = GridSearchCV(LogisticRegression(penalty='l2'), param_grid)\n",
    "GridSearchCV(cv=5,\n",
    "             estimator=LogisticRegression(C=1.0, intercept_scaling=1, class_weight='balanced' ,\n",
    "               dual=False, fit_intercept=True, penalty='l2', tol=0.0001,n_jobs=50,verbose= 1000),\n",
    "             param_grid={'C': [0.001, 0.01, 0.1, 1, 10, 100, 1000]})"
   ]
  },
  {
   "cell_type": "code",
   "execution_count": 51,
   "metadata": {},
   "outputs": [
    {
     "data": {
      "text/plain": [
       "GridSearchCV(cv='warn', error_score='raise-deprecating',\n",
       "             estimator=LogisticRegression(C=1.0, class_weight=None, dual=False,\n",
       "                                          fit_intercept=True,\n",
       "                                          intercept_scaling=1, l1_ratio=None,\n",
       "                                          max_iter=100, multi_class='warn',\n",
       "                                          n_jobs=None, penalty='l2',\n",
       "                                          random_state=None, solver='warn',\n",
       "                                          tol=0.0001, verbose=0,\n",
       "                                          warm_start=False),\n",
       "             iid='warn', n_jobs=None,\n",
       "             param_grid={'C': [0.001, 0.01, 0.1, 1, 10, 100, 1000]},\n",
       "             pre_dispatch='2*n_jobs', refit=True, return_train_score=False,\n",
       "             scoring=None, verbose=0)"
      ]
     },
     "execution_count": 51,
     "metadata": {},
     "output_type": "execute_result"
    }
   ],
   "source": [
    "clf.fit(X_train,y_train)"
   ]
  },
  {
   "cell_type": "code",
   "execution_count": 52,
   "metadata": {},
   "outputs": [
    {
     "data": {
      "text/plain": [
       "{'C': 0.1}"
      ]
     },
     "execution_count": 52,
     "metadata": {},
     "output_type": "execute_result"
    }
   ],
   "source": [
    "best_params = clf.best_params_\n",
    "best_params"
   ]
  },
  {
   "cell_type": "code",
   "execution_count": 62,
   "metadata": {},
   "outputs": [],
   "source": [
    "lr1=LogisticRegression(C=0.01, class_weight='balanced', dual=False,\n",
    "                                          fit_intercept=True,\n",
    "                                          intercept_scaling=1, l1_ratio=None,\n",
    "                                          max_iter=300, multi_class='ovr',\n",
    "                                          n_jobs=20, penalty='l2',\n",
    "                                          random_state=None, solver='lbfgs',\n",
    "                                          tol=1e-4, verbose=1,\n",
    "                                          warm_start=False)"
   ]
  },
  {
   "cell_type": "code",
   "execution_count": 63,
   "metadata": {},
   "outputs": [
    {
     "name": "stderr",
     "output_type": "stream",
     "text": [
      "[Parallel(n_jobs=20)]: Using backend LokyBackend with 20 concurrent workers.\n",
      "[Parallel(n_jobs=20)]: Done   1 out of   1 | elapsed:    0.6s finished\n"
     ]
    },
    {
     "data": {
      "text/plain": [
       "LogisticRegression(C=0.01, class_weight='balanced', dual=False,\n",
       "                   fit_intercept=True, intercept_scaling=1, l1_ratio=None,\n",
       "                   max_iter=300, multi_class='ovr', n_jobs=20, penalty='l2',\n",
       "                   random_state=None, solver='lbfgs', tol=0.0001, verbose=1,\n",
       "                   warm_start=False)"
      ]
     },
     "execution_count": 63,
     "metadata": {},
     "output_type": "execute_result"
    }
   ],
   "source": [
    "lr1.fit(X_train,y_train)"
   ]
  },
  {
   "cell_type": "code",
   "execution_count": 64,
   "metadata": {},
   "outputs": [
    {
     "name": "stdout",
     "output_type": "stream",
     "text": [
      "Specificity :  0.813953488372093\n",
      "Sensitivity :  0.9618320610687023\n",
      "Accuracy :  0.9252873563218391\n",
      "Confusion Matrix : \n",
      " [ 35   8   5 126]\n"
     ]
    }
   ],
   "source": [
    "pred=lr1.predict(X)\n",
    "from sklearn.metrics import confusion_matrix\n",
    "from sklearn.metrics import classification_report\n",
    "tn, fp, fn, tp = confusion_matrix(df['SURVIVAL_STATUS'], pred,labels=[0,1]).ravel()\n",
    "cm=confusion_matrix(df['SURVIVAL_STATUS'], pred,labels=[0,1]).ravel()\n",
    "total=sum(cm)\n",
    "accuracy=(tp+tn)/(tp+tn+fn+fp)\n",
    "sensitivity = tp/(tp+fn)\n",
    "specificity = tn/(tn+fp)\n",
    "print('Specificity : ', specificity)\n",
    "print('Sensitivity : ', sensitivity )\n",
    "print ('Accuracy : ', accuracy)\n",
    "print('Confusion Matrix : \\n', cm)"
   ]
  },
  {
   "cell_type": "code",
   "execution_count": 65,
   "metadata": {},
   "outputs": [],
   "source": [
    "def lgb_eval(num_leaves, feature_fraction, bagging_fraction, max_depth, lambda_l1, lambda_l2, min_split_gain, min_child_weight):\n",
    "    params = {'application':'binary','num_iterations':300, 'learning_rate':0.05, 'early_stopping_round':100, 'metric':'auc'}\n",
    "    params[\"num_leaves\"] = round(num_leaves)\n",
    "    params['feature_fraction'] = max(min(feature_fraction, 1), 0)\n",
    "    params['bagging_fraction'] = max(min(bagging_fraction, 1), 0)\n",
    "    params['max_depth'] = round(max_depth)\n",
    "    params['lambda_l1'] = max(lambda_l1, 0)\n",
    "    params['lambda_l2'] = max(lambda_l2, 0)\n",
    "    params['min_split_gain'] = min_split_gain\n",
    "    params['min_child_weight'] = min_child_weight\n",
    "    cv_result = lgb.cv(params, train_data, nfold=n_folds, seed=random_seed, stratified=True, verbose_eval =200, metrics=['auc'])\n",
    "    return max(cv_result['auc-mean'])"
   ]
  },
  {
   "cell_type": "code",
   "execution_count": 66,
   "metadata": {},
   "outputs": [],
   "source": [
    "lgbBO = BayesianOptimization(lgb_eval, {'num_leaves': (24, 45),\n",
    "                                        'feature_fraction': (0.1, 0.9),\n",
    "                                        'bagging_fraction': (0.8, 1),\n",
    "                                        'max_depth': (5, 8.99),\n",
    "                                        'lambda_l1': (0, 5),\n",
    "                                        'lambda_l2': (0, 3),\n",
    "                                        'min_split_gain': (0.001, 0.1),\n",
    "                                        'min_child_weight': (5, 50)}, random_state=0)"
   ]
  },
  {
   "cell_type": "code",
   "execution_count": 68,
   "metadata": {},
   "outputs": [
    {
     "name": "stdout",
     "output_type": "stream",
     "text": [
      "|   iter    |  target   | baggin... | featur... | lambda_l1 | lambda_l2 | max_depth | min_ch... | min_sp... | num_le... |\n",
      "-------------------------------------------------------------------------------------------------------------------------\n",
      "| \u001b[0m 1       \u001b[0m | \u001b[0m 0.5137  \u001b[0m | \u001b[0m 0.9098  \u001b[0m | \u001b[0m 0.6722  \u001b[0m | \u001b[0m 3.014   \u001b[0m | \u001b[0m 1.635   \u001b[0m | \u001b[0m 13.47   \u001b[0m | \u001b[0m 6.813   \u001b[0m | \u001b[0m 0.04432 \u001b[0m | \u001b[0m 42.73   \u001b[0m |\n",
      "| \u001b[95m 2       \u001b[0m | \u001b[95m 0.575   \u001b[0m | \u001b[95m 0.9927  \u001b[0m | \u001b[95m 0.4068  \u001b[0m | \u001b[95m 3.959   \u001b[0m | \u001b[95m 1.587   \u001b[0m | \u001b[95m 16.36   \u001b[0m | \u001b[95m 9.33    \u001b[0m | \u001b[95m 0.008033\u001b[0m | \u001b[95m 25.83   \u001b[0m |\n",
      "| \u001b[0m 3       \u001b[0m | \u001b[0m 0.5216  \u001b[0m | \u001b[0m 0.804   \u001b[0m | \u001b[0m 0.7661  \u001b[0m | \u001b[0m 3.891   \u001b[0m | \u001b[0m 2.61    \u001b[0m | \u001b[0m 24.57   \u001b[0m | \u001b[0m 8.192   \u001b[0m | \u001b[0m 0.04669 \u001b[0m | \u001b[0m 40.39   \u001b[0m |\n",
      "| \u001b[95m 4       \u001b[0m | \u001b[95m 0.5774  \u001b[0m | \u001b[95m 0.8237  \u001b[0m | \u001b[95m 0.6119  \u001b[0m | \u001b[95m 0.7168  \u001b[0m | \u001b[95m 2.834   \u001b[0m | \u001b[95m 15.44   \u001b[0m | \u001b[95m 4.732   \u001b[0m | \u001b[95m 0.02719 \u001b[0m | \u001b[95m 40.26   \u001b[0m |\n",
      "| \u001b[0m 5       \u001b[0m | \u001b[0m 0.5451  \u001b[0m | \u001b[0m 0.8912  \u001b[0m | \u001b[0m 0.5547  \u001b[0m | \u001b[0m 0.09395 \u001b[0m | \u001b[0m 1.853   \u001b[0m | \u001b[0m 17.24   \u001b[0m | \u001b[0m 6.552   \u001b[0m | \u001b[0m 0.09443 \u001b[0m | \u001b[0m 38.32   \u001b[0m |\n",
      "| \u001b[0m 6       \u001b[0m | \u001b[0m 0.5149  \u001b[0m | \u001b[0m 0.8719  \u001b[0m | \u001b[0m 0.4496  \u001b[0m | \u001b[0m 3.488   \u001b[0m | \u001b[0m 0.1807  \u001b[0m | \u001b[0m 18.34   \u001b[0m | \u001b[0m 7.036   \u001b[0m | \u001b[0m 0.02183 \u001b[0m | \u001b[0m 26.71   \u001b[0m |\n",
      "| \u001b[95m 7       \u001b[0m | \u001b[95m 0.5905  \u001b[0m | \u001b[95m 0.8631  \u001b[0m | \u001b[95m 0.391   \u001b[0m | \u001b[95m 2.851   \u001b[0m | \u001b[95m 1.316   \u001b[0m | \u001b[95m 24.77   \u001b[0m | \u001b[95m 1.918   \u001b[0m | \u001b[95m 0.02168 \u001b[0m | \u001b[95m 27.39   \u001b[0m |\n",
      "| \u001b[95m 8       \u001b[0m | \u001b[95m 0.5925  \u001b[0m | \u001b[95m 0.9306  \u001b[0m | \u001b[95m 0.3026  \u001b[0m | \u001b[95m 2.332   \u001b[0m | \u001b[95m 0.7333  \u001b[0m | \u001b[95m 8.179   \u001b[0m | \u001b[95m 1.993   \u001b[0m | \u001b[95m 0.06598 \u001b[0m | \u001b[95m 26.9    \u001b[0m |\n",
      "| \u001b[0m 9       \u001b[0m | \u001b[0m 0.5618  \u001b[0m | \u001b[0m 0.8393  \u001b[0m | \u001b[0m 0.395   \u001b[0m | \u001b[0m 4.105   \u001b[0m | \u001b[0m 0.2913  \u001b[0m | \u001b[0m 21.76   \u001b[0m | \u001b[0m 1.865   \u001b[0m | \u001b[0m 0.09767 \u001b[0m | \u001b[0m 33.84   \u001b[0m |\n",
      "| \u001b[0m 10      \u001b[0m | \u001b[0m 0.5743  \u001b[0m | \u001b[0m 0.9954  \u001b[0m | \u001b[0m 0.5839  \u001b[0m | \u001b[0m 3.696   \u001b[0m | \u001b[0m 0.1176  \u001b[0m | \u001b[0m 10.66   \u001b[0m | \u001b[0m 2.082   \u001b[0m | \u001b[0m 0.03032 \u001b[0m | \u001b[0m 26.49   \u001b[0m |\n",
      "| \u001b[0m 11      \u001b[0m | \u001b[0m 0.5484  \u001b[0m | \u001b[0m 1.0     \u001b[0m | \u001b[0m 0.9     \u001b[0m | \u001b[0m 5.0     \u001b[0m | \u001b[0m 3.0     \u001b[0m | \u001b[0m 5.0     \u001b[0m | \u001b[0m 10.0    \u001b[0m | \u001b[0m 0.1     \u001b[0m | \u001b[0m 24.0    \u001b[0m |\n",
      "| \u001b[0m 12      \u001b[0m | \u001b[0m 0.5748  \u001b[0m | \u001b[0m 1.0     \u001b[0m | \u001b[0m 0.1     \u001b[0m | \u001b[0m 5.0     \u001b[0m | \u001b[0m 3.0     \u001b[0m | \u001b[0m 5.0     \u001b[0m | \u001b[0m 1.0     \u001b[0m | \u001b[0m 0.1     \u001b[0m | \u001b[0m 35.65   \u001b[0m |\n",
      "| \u001b[95m 13      \u001b[0m | \u001b[95m 0.5925  \u001b[0m | \u001b[95m 1.0     \u001b[0m | \u001b[95m 0.1     \u001b[0m | \u001b[95m 0.0     \u001b[0m | \u001b[95m 3.0     \u001b[0m | \u001b[95m 15.08   \u001b[0m | \u001b[95m 1.0     \u001b[0m | \u001b[95m 0.1     \u001b[0m | \u001b[95m 24.0    \u001b[0m |\n",
      "| \u001b[95m 14      \u001b[0m | \u001b[95m 0.5988  \u001b[0m | \u001b[95m 1.0     \u001b[0m | \u001b[95m 0.1     \u001b[0m | \u001b[95m 0.0     \u001b[0m | \u001b[95m 3.0     \u001b[0m | \u001b[95m 25.0    \u001b[0m | \u001b[95m 1.0     \u001b[0m | \u001b[95m 0.001   \u001b[0m | \u001b[95m 45.0    \u001b[0m |\n",
      "| \u001b[95m 15      \u001b[0m | \u001b[95m 0.6667  \u001b[0m | \u001b[95m 1.0     \u001b[0m | \u001b[95m 0.9     \u001b[0m | \u001b[95m 0.0     \u001b[0m | \u001b[95m 0.0     \u001b[0m | \u001b[95m 5.0     \u001b[0m | \u001b[95m 1.0     \u001b[0m | \u001b[95m 0.001   \u001b[0m | \u001b[95m 45.0    \u001b[0m |\n",
      "| \u001b[0m 16      \u001b[0m | \u001b[0m 0.5806  \u001b[0m | \u001b[0m 1.0     \u001b[0m | \u001b[0m 0.1     \u001b[0m | \u001b[0m 0.0     \u001b[0m | \u001b[0m 3.0     \u001b[0m | \u001b[0m 5.0     \u001b[0m | \u001b[0m 10.0    \u001b[0m | \u001b[0m 0.001   \u001b[0m | \u001b[0m 45.0    \u001b[0m |\n",
      "| \u001b[0m 17      \u001b[0m | \u001b[0m 0.5488  \u001b[0m | \u001b[0m 1.0     \u001b[0m | \u001b[0m 0.1     \u001b[0m | \u001b[0m 5.0     \u001b[0m | \u001b[0m 3.0     \u001b[0m | \u001b[0m 25.0    \u001b[0m | \u001b[0m 10.0    \u001b[0m | \u001b[0m 0.1     \u001b[0m | \u001b[0m 24.0    \u001b[0m |\n",
      "| \u001b[0m 18      \u001b[0m | \u001b[0m 0.5925  \u001b[0m | \u001b[0m 1.0     \u001b[0m | \u001b[0m 0.1     \u001b[0m | \u001b[0m 0.0     \u001b[0m | \u001b[0m 3.0     \u001b[0m | \u001b[0m 5.0     \u001b[0m | \u001b[0m 1.0     \u001b[0m | \u001b[0m 0.1     \u001b[0m | \u001b[0m 45.0    \u001b[0m |\n",
      "| \u001b[0m 19      \u001b[0m | \u001b[0m 0.5596  \u001b[0m | \u001b[0m 1.0     \u001b[0m | \u001b[0m 0.9     \u001b[0m | \u001b[0m 0.0     \u001b[0m | \u001b[0m 0.0     \u001b[0m | \u001b[0m 5.0     \u001b[0m | \u001b[0m 10.0    \u001b[0m | \u001b[0m 0.001   \u001b[0m | \u001b[0m 33.69   \u001b[0m |\n",
      "| \u001b[0m 20      \u001b[0m | \u001b[0m 0.6126  \u001b[0m | \u001b[0m 0.8     \u001b[0m | \u001b[0m 0.9     \u001b[0m | \u001b[0m 0.0     \u001b[0m | \u001b[0m 3.0     \u001b[0m | \u001b[0m 25.0    \u001b[0m | \u001b[0m 1.0     \u001b[0m | \u001b[0m 0.001   \u001b[0m | \u001b[0m 33.7    \u001b[0m |\n",
      "| \u001b[0m 21      \u001b[0m | \u001b[0m 0.5373  \u001b[0m | \u001b[0m 0.8     \u001b[0m | \u001b[0m 0.9     \u001b[0m | \u001b[0m 5.0     \u001b[0m | \u001b[0m 3.0     \u001b[0m | \u001b[0m 25.0    \u001b[0m | \u001b[0m 1.0     \u001b[0m | \u001b[0m 0.001   \u001b[0m | \u001b[0m 24.0    \u001b[0m |\n",
      "| \u001b[0m 22      \u001b[0m | \u001b[0m 0.554   \u001b[0m | \u001b[0m 1.0     \u001b[0m | \u001b[0m 0.9     \u001b[0m | \u001b[0m 0.0     \u001b[0m | \u001b[0m 3.0     \u001b[0m | \u001b[0m 11.98   \u001b[0m | \u001b[0m 10.0    \u001b[0m | \u001b[0m 0.001   \u001b[0m | \u001b[0m 24.0    \u001b[0m |\n",
      "| \u001b[0m 23      \u001b[0m | \u001b[0m 0.5871  \u001b[0m | \u001b[0m 1.0     \u001b[0m | \u001b[0m 0.1     \u001b[0m | \u001b[0m 0.0     \u001b[0m | \u001b[0m 0.0     \u001b[0m | \u001b[0m 5.0     \u001b[0m | \u001b[0m 1.0     \u001b[0m | \u001b[0m 0.001   \u001b[0m | \u001b[0m 37.36   \u001b[0m |\n",
      "| \u001b[0m 24      \u001b[0m | \u001b[0m 0.5661  \u001b[0m | \u001b[0m 0.8     \u001b[0m | \u001b[0m 0.1     \u001b[0m | \u001b[0m 5.0     \u001b[0m | \u001b[0m 0.0     \u001b[0m | \u001b[0m 5.0     \u001b[0m | \u001b[0m 1.0     \u001b[0m | \u001b[0m 0.001   \u001b[0m | \u001b[0m 45.0    \u001b[0m |\n",
      "| \u001b[0m 25      \u001b[0m | \u001b[0m 0.6667  \u001b[0m | \u001b[0m 1.0     \u001b[0m | \u001b[0m 0.9     \u001b[0m | \u001b[0m 0.0     \u001b[0m | \u001b[0m 0.0     \u001b[0m | \u001b[0m 14.76   \u001b[0m | \u001b[0m 1.0     \u001b[0m | \u001b[0m 0.001   \u001b[0m | \u001b[0m 45.0    \u001b[0m |\n",
      "| \u001b[0m 26      \u001b[0m | \u001b[0m 0.5633  \u001b[0m | \u001b[0m 1.0     \u001b[0m | \u001b[0m 0.1     \u001b[0m | \u001b[0m 5.0     \u001b[0m | \u001b[0m 3.0     \u001b[0m | \u001b[0m 5.0     \u001b[0m | \u001b[0m 1.0     \u001b[0m | \u001b[0m 0.001   \u001b[0m | \u001b[0m 24.0    \u001b[0m |\n",
      "| \u001b[0m 27      \u001b[0m | \u001b[0m 0.6035  \u001b[0m | \u001b[0m 0.8     \u001b[0m | \u001b[0m 0.1     \u001b[0m | \u001b[0m 5.0     \u001b[0m | \u001b[0m 3.0     \u001b[0m | \u001b[0m 10.27   \u001b[0m | \u001b[0m 10.0    \u001b[0m | \u001b[0m 0.001   \u001b[0m | \u001b[0m 30.78   \u001b[0m |\n",
      "| \u001b[0m 28      \u001b[0m | \u001b[0m 0.6126  \u001b[0m | \u001b[0m 1.0     \u001b[0m | \u001b[0m 0.9     \u001b[0m | \u001b[0m 0.0     \u001b[0m | \u001b[0m 3.0     \u001b[0m | \u001b[0m 11.87   \u001b[0m | \u001b[0m 1.0     \u001b[0m | \u001b[0m 0.001   \u001b[0m | \u001b[0m 31.9    \u001b[0m |\n",
      "| \u001b[0m 29      \u001b[0m | \u001b[0m 0.5435  \u001b[0m | \u001b[0m 1.0     \u001b[0m | \u001b[0m 0.9     \u001b[0m | \u001b[0m 5.0     \u001b[0m | \u001b[0m 0.0     \u001b[0m | \u001b[0m 25.0    \u001b[0m | \u001b[0m 1.0     \u001b[0m | \u001b[0m 0.001   \u001b[0m | \u001b[0m 45.0    \u001b[0m |\n",
      "| \u001b[0m 30      \u001b[0m | \u001b[0m 0.5871  \u001b[0m | \u001b[0m 1.0     \u001b[0m | \u001b[0m 0.1     \u001b[0m | \u001b[0m 0.0     \u001b[0m | \u001b[0m 0.0     \u001b[0m | \u001b[0m 10.74   \u001b[0m | \u001b[0m 1.0     \u001b[0m | \u001b[0m 0.001   \u001b[0m | \u001b[0m 45.0    \u001b[0m |\n",
      "=========================================================================================================================\n"
     ]
    }
   ],
   "source": [
    "def bayes_parameter_opt_lgb(X_train, y_train, init_round=15, opt_round=25, n_folds=5, random_seed=0, n_estimators=10000, learning_rate=0.05, output_process=False):\n",
    "    # prepare data\n",
    "    train_data = lgb.Dataset(data=X_train, label=y_train)\n",
    "    # parameters\n",
    "    def lgb_eval(num_leaves, feature_fraction, bagging_fraction, max_depth, lambda_l1, lambda_l2, min_split_gain, min_child_weight,n_jobs=20):\n",
    "        params = {'application':'binary','num_iterations': n_estimators, 'learning_rate':learning_rate, 'early_stopping_round':100, 'metric':'auc'}\n",
    "        params[\"num_leaves\"] = int(round(num_leaves))\n",
    "        params['feature_fraction'] = max(min(feature_fraction, 1), 0)\n",
    "        params['bagging_fraction'] = max(min(bagging_fraction, 1), 0)\n",
    "        params['max_depth'] = int(round(max_depth))\n",
    "        params['lambda_l1'] = max(lambda_l1, 0)\n",
    "        params['lambda_l2'] = max(lambda_l2, 0)\n",
    "        params['min_split_gain'] = min_split_gain\n",
    "        params['min_child_weight'] = min_child_weight\n",
    "        cv_result = lgb.cv(params, train_data, nfold=n_folds, seed=random_seed, stratified=True, verbose_eval =200, metrics=['auc'])\n",
    "        return max(cv_result['auc-mean'])\n",
    "    # range \n",
    "    lgbBO = BayesianOptimization(lgb_eval, {'num_leaves': (24, 45),\n",
    "                                            'feature_fraction': (0.1, 0.9),\n",
    "                                            'bagging_fraction': (0.8, 1),\n",
    "                                            'max_depth': (5, 25),\n",
    "                                            'lambda_l1': (0, 5),\n",
    "                                            'lambda_l2': (0, 3),\n",
    "                                            'min_split_gain': (0.001, 0.1),\n",
    "                                            'min_child_weight': (1, 10)}, random_state=0)\n",
    "    # optimize\n",
    "    lgbBO.maximize(init_points=init_round, n_iter=opt_round)\n",
    "    \n",
    "    # output optimization process\n",
    "    if output_process==True: lgbBO.points_to_csv(\"bayes_opt_result.csv\")\n",
    "    \n",
    "    # return best parameters\n",
    "    \n",
    "\n",
    "opt_params = bayes_parameter_opt_lgb(X, y, init_round=10, opt_round=20, n_folds=5, random_seed=0, n_estimators=100, learning_rate=0.01)"
   ]
  },
  {
   "cell_type": "code",
   "execution_count": 90,
   "metadata": {},
   "outputs": [],
   "source": [
    "from lightgbm import LGBMClassifier\n",
    "model2=LGBMClassifier(num_leaves= 45, feature_fraction= 0.9, learning_rate= 0.01, bagging_fraction= 1, max_depth= 5,scale_pos_weight=0.3, min_child_weight= 1, n_estimators= 200, lambda_l1= 0, lambda_l2= 0, min_split_gain=0.001, n_jobs= 20, verbose=1)"
   ]
  },
  {
   "cell_type": "code",
   "execution_count": 91,
   "metadata": {},
   "outputs": [
    {
     "name": "stdout",
     "output_type": "stream",
     "text": [
      "[100]\tvalid_0's auc: 0.991176\tvalid_0's binary_logloss: 0.357877\tvalid_1's auc: 0.717949\tvalid_1's binary_logloss: 0.522947\n",
      "[200]\tvalid_0's auc: 0.997759\tvalid_0's binary_logloss: 0.261502\tvalid_1's auc: 0.692308\tvalid_1's binary_logloss: 0.55657\n"
     ]
    },
    {
     "data": {
      "text/plain": [
       "LGBMClassifier(bagging_fraction=1, boosting_type='gbdt', class_weight=None,\n",
       "               colsample_bytree=1.0, feature_fraction=0.9,\n",
       "               importance_type='split', lambda_l1=0, lambda_l2=0,\n",
       "               learning_rate=0.01, max_depth=5, min_child_samples=20,\n",
       "               min_child_weight=1, min_split_gain=0.001, n_estimators=200,\n",
       "               n_jobs=20, num_leaves=45, objective=None, random_state=None,\n",
       "               reg_alpha=0.0, reg_lambda=0.0, scale_pos_weight=0.3, silent=True,\n",
       "               subsample=1.0, subsample_for_bin=200000, subsample_freq=0,\n",
       "               verbose=1)"
      ]
     },
     "execution_count": 91,
     "metadata": {},
     "output_type": "execute_result"
    }
   ],
   "source": [
    "model2.fit(X_train,y_train,eval_metric =eval_metric, eval_set=eval_set, verbose=100)"
   ]
  },
  {
   "cell_type": "code",
   "execution_count": 92,
   "metadata": {},
   "outputs": [
    {
     "name": "stdout",
     "output_type": "stream",
     "text": [
      "Specificity :  0.8837209302325582\n",
      "Sensitivity :  0.9312977099236641\n",
      "Accuracy :  0.9195402298850575\n",
      "Confusion Matrix : \n",
      " [ 38   5   9 122]\n"
     ]
    }
   ],
   "source": [
    "pred=model2.predict(X)\n",
    "from sklearn.metrics import confusion_matrix\n",
    "from sklearn.metrics import classification_report\n",
    "tn, fp, fn, tp = confusion_matrix(df['SURVIVAL_STATUS'], pred,labels=[0,1]).ravel()\n",
    "cm=confusion_matrix(df['SURVIVAL_STATUS'], pred,labels=[0,1]).ravel()\n",
    "total=sum(cm)\n",
    "accuracy=(tp+tn)/(tp+tn+fn+fp)\n",
    "sensitivity = tp/(tp+fn)\n",
    "specificity = tn/(tn+fp)\n",
    "print('Specificity : ', specificity)\n",
    "print('Sensitivity : ', sensitivity )\n",
    "print ('Accuracy : ', accuracy)\n",
    "print('Confusion Matrix : \\n', cm)"
   ]
  },
  {
   "cell_type": "code",
   "execution_count": 93,
   "metadata": {},
   "outputs": [
    {
     "name": "stdout",
     "output_type": "stream",
     "text": [
      "              precision    recall  f1-score   support\n",
      "\n",
      "           0       0.81      0.88      0.84        43\n",
      "           1       0.96      0.93      0.95       131\n",
      "\n",
      "    accuracy                           0.92       174\n",
      "   macro avg       0.88      0.91      0.90       174\n",
      "weighted avg       0.92      0.92      0.92       174\n",
      "\n"
     ]
    }
   ],
   "source": [
    "print(classification_report(y, pred))"
   ]
  },
  {
   "cell_type": "code",
   "execution_count": 128,
   "metadata": {},
   "outputs": [
    {
     "name": "stdout",
     "output_type": "stream",
     "text": [
      "Fitting 10 folds for each of 490 candidates, totalling 4900 fits\n"
     ]
    },
    {
     "name": "stderr",
     "output_type": "stream",
     "text": [
      "[Parallel(n_jobs=50)]: Using backend LokyBackend with 50 concurrent workers.\n",
      "[Parallel(n_jobs=50)]: Done 100 tasks      | elapsed:    1.6s\n",
      "[Parallel(n_jobs=50)]: Done 400 tasks      | elapsed:    2.3s\n",
      "[Parallel(n_jobs=50)]: Done 1700 tasks      | elapsed:    5.0s\n",
      "[Parallel(n_jobs=50)]: Done 3500 tasks      | elapsed:    8.6s\n"
     ]
    },
    {
     "name": "stdout",
     "output_type": "stream",
     "text": [
      "Best leaf_size: 30\n",
      "Best p: 8\n",
      "Best n_neighbors: 43\n"
     ]
    },
    {
     "name": "stderr",
     "output_type": "stream",
     "text": [
      "[Parallel(n_jobs=50)]: Done 4900 out of 4900 | elapsed:   11.5s finished\n"
     ]
    }
   ],
   "source": [
    "from sklearn.neighbors import KNeighborsClassifier\n",
    "from sklearn.metrics import classification_report\n",
    "#List Hyperparameters that we want to tune.\n",
    "n_neighbors = list(range(1,50))\n",
    "p=[1,2,3,4,5,6,7,8,9,10]\n",
    "#Convert to dictionary\n",
    "hyperparameters = dict( n_neighbors=n_neighbors, p=p)\n",
    "#Create new KNN object\n",
    "knn_2 = KNeighborsClassifier()\n",
    "#Use GridSearch\n",
    "clf = GridSearchCV(knn_2, hyperparameters, cv=10, n_jobs=50,verbose=1,scoring='roc_auc')\n",
    "#Fit the model\n",
    "best_model = clf.fit(X,y)\n",
    "#Print The value of best Hyperparameters\n",
    "print('Best leaf_size:', best_model.best_estimator_.get_params()['leaf_size'])\n",
    "print('Best p:', best_model.best_estimator_.get_params()['p'])\n",
    "print('Best n_neighbors:', best_model.best_estimator_.get_params()['n_neighbors'])"
   ]
  },
  {
   "cell_type": "code",
   "execution_count": 129,
   "metadata": {},
   "outputs": [],
   "source": [
    "knn = KNeighborsClassifier(leaf_size=30, p=8, n_neighbors= 43,weights='distance')"
   ]
  },
  {
   "cell_type": "code",
   "execution_count": 130,
   "metadata": {},
   "outputs": [
    {
     "data": {
      "text/plain": [
       "KNeighborsClassifier(algorithm='auto', leaf_size=30, metric='minkowski',\n",
       "                     metric_params=None, n_jobs=None, n_neighbors=43, p=8,\n",
       "                     weights='distance')"
      ]
     },
     "execution_count": 130,
     "metadata": {},
     "output_type": "execute_result"
    }
   ],
   "source": [
    "knn.fit(X_train,y_train)"
   ]
  },
  {
   "cell_type": "code",
   "execution_count": 131,
   "metadata": {},
   "outputs": [
    {
     "name": "stdout",
     "output_type": "stream",
     "text": [
      "Specificity :  0.7906976744186046\n",
      "Sensitivity :  1.0\n",
      "Accuracy :  0.9482758620689655\n",
      "Confusion Matrix : \n",
      " [ 34   9   0 131]\n"
     ]
    }
   ],
   "source": [
    "pred=knn.predict(X)\n",
    "from sklearn.metrics import confusion_matrix\n",
    "from sklearn.metrics import classification_report\n",
    "tn, fp, fn, tp = confusion_matrix(df['SURVIVAL_STATUS'], pred,labels=[0,1]).ravel()\n",
    "cm=confusion_matrix(df['SURVIVAL_STATUS'], pred,labels=[0,1]).ravel()\n",
    "total=sum(cm)\n",
    "accuracy=(tp+tn)/(tp+tn+fn+fp)\n",
    "sensitivity = tp/(tp+fn)\n",
    "specificity = tn/(tn+fp)\n",
    "print('Specificity : ', specificity)\n",
    "print('Sensitivity : ', sensitivity )\n",
    "print ('Accuracy : ', accuracy)\n",
    "print('Confusion Matrix : \\n', cm)"
   ]
  },
  {
   "cell_type": "code",
   "execution_count": 132,
   "metadata": {},
   "outputs": [
    {
     "data": {
      "text/plain": [
       "0.8953488372093023"
      ]
     },
     "execution_count": 132,
     "metadata": {},
     "output_type": "execute_result"
    }
   ],
   "source": [
    "roc_auc_score(df['SURVIVAL_STATUS'], pred)"
   ]
  },
  {
   "cell_type": "code",
   "execution_count": 133,
   "metadata": {},
   "outputs": [
    {
     "name": "stdout",
     "output_type": "stream",
     "text": [
      "              precision    recall  f1-score   support\n",
      "\n",
      "           0       1.00      0.79      0.88        43\n",
      "           1       0.94      1.00      0.97       131\n",
      "\n",
      "    accuracy                           0.95       174\n",
      "   macro avg       0.97      0.90      0.92       174\n",
      "weighted avg       0.95      0.95      0.95       174\n",
      "\n"
     ]
    }
   ],
   "source": [
    "print(classification_report(y, pred))"
   ]
  },
  {
   "cell_type": "code",
   "execution_count": 100,
   "metadata": {},
   "outputs": [
    {
     "name": "stdout",
     "output_type": "stream",
     "text": [
      "|   iter    |  target   |   alpha   | fit_in... |\n",
      "-------------------------------------------------\n",
      "| \u001b[0m 1       \u001b[0m | \u001b[0m 0.5271  \u001b[0m | \u001b[0m 27.89   \u001b[0m | \u001b[0m 1.423   \u001b[0m |\n",
      "| \u001b[0m 2       \u001b[0m | \u001b[0m 0.5271  \u001b[0m | \u001b[0m 30.54   \u001b[0m | \u001b[0m 1.084   \u001b[0m |\n",
      "| \u001b[0m 3       \u001b[0m | \u001b[0m 0.5157  \u001b[0m | \u001b[0m 21.76   \u001b[0m | \u001b[0m 1.285   \u001b[0m |\n",
      "| \u001b[0m 4       \u001b[0m | \u001b[0m 0.5157  \u001b[0m | \u001b[0m 22.44   \u001b[0m | \u001b[0m 1.775   \u001b[0m |\n",
      "| \u001b[0m 5       \u001b[0m | \u001b[0m 0.2468  \u001b[0m | \u001b[0m 48.22   \u001b[0m | \u001b[0m 0.763   \u001b[0m |\n",
      "| \u001b[0m 6       \u001b[0m | \u001b[0m 0.2355  \u001b[0m | \u001b[0m 1.0     \u001b[0m | \u001b[0m 0.0     \u001b[0m |\n",
      "| \u001b[0m 7       \u001b[0m | \u001b[0m 0.2527  \u001b[0m | \u001b[0m 27.83   \u001b[0m | \u001b[0m 0.0     \u001b[0m |\n",
      "| \u001b[0m 8       \u001b[0m | \u001b[0m 0.5098  \u001b[0m | \u001b[0m 11.4    \u001b[0m | \u001b[0m 1.99    \u001b[0m |\n",
      "| \u001b[95m 9       \u001b[0m | \u001b[95m 0.5385  \u001b[0m | \u001b[95m 39.55   \u001b[0m | \u001b[95m 1.99    \u001b[0m |\n",
      "| \u001b[0m 10      \u001b[0m | \u001b[0m 0.247   \u001b[0m | \u001b[0m 15.38   \u001b[0m | \u001b[0m 0.0     \u001b[0m |\n",
      "| \u001b[0m 11      \u001b[0m | \u001b[0m 0.51    \u001b[0m | \u001b[0m 5.992   \u001b[0m | \u001b[0m 1.99    \u001b[0m |\n",
      "| \u001b[0m 12      \u001b[0m | \u001b[0m 0.5328  \u001b[0m | \u001b[0m 34.93   \u001b[0m | \u001b[0m 1.99    \u001b[0m |\n",
      "| \u001b[0m 13      \u001b[0m | \u001b[0m 0.2468  \u001b[0m | \u001b[0m 42.74   \u001b[0m | \u001b[0m 0.0     \u001b[0m |\n",
      "| \u001b[0m 14      \u001b[0m | \u001b[0m 0.2528  \u001b[0m | \u001b[0m 8.17    \u001b[0m | \u001b[0m 0.0     \u001b[0m |\n",
      "| \u001b[0m 15      \u001b[0m | \u001b[0m 0.5273  \u001b[0m | \u001b[0m 18.28   \u001b[0m | \u001b[0m 1.99    \u001b[0m |\n",
      "=================================================\n"
     ]
    }
   ],
   "source": [
    "from sklearn.linear_model import RidgeClassifier\n",
    "develop = True\n",
    "seed = 0\n",
    "\n",
    "    \n",
    "def target(**params):\n",
    "    fit_intercept = int(params['fit_intercept'])\n",
    "    fit_intercept_dict = {0:False, 1:True}\n",
    "\n",
    "    model = RidgeClassifier(alpha = params['alpha'],\n",
    "                    fit_intercept = fit_intercept_dict[fit_intercept],\n",
    "                    copy_X = True,class_weight='balanced' )\n",
    "    \n",
    "    scores = cross_val_score(model, X, y, scoring='accuracy', cv=5)\n",
    "    return scores.mean()\n",
    "    \n",
    "params = {'alpha':(1, 50),\n",
    "          'fit_intercept':(0,1.99)}\n",
    "if develop:\n",
    "    bo = BayesianOptimization(target, params, random_state=seed)\n",
    "    bo.maximize(init_points=5, n_iter=10, acq='ucb')\n",
    "    "
   ]
  },
  {
   "cell_type": "code",
   "execution_count": 101,
   "metadata": {},
   "outputs": [
    {
     "name": "stdout",
     "output_type": "stream",
     "text": [
      "Specificity :  0.7906976744186046\n",
      "Sensitivity :  0.9923664122137404\n",
      "Accuracy :  0.9425287356321839\n",
      "Confusion Matrix : \n",
      " [ 34   9   1 130]\n"
     ]
    }
   ],
   "source": [
    "ridgemodel = RidgeClassifier(alpha = 39.55    ,\n",
    "                  fit_intercept = 1.99, class_weight='balanced',\n",
    "                  copy_X = True)\n",
    "\n",
    "ridgemodel.fit(X_train, y_train)\n",
    "pred = ridgemodel.predict(X)\n",
    "from sklearn.metrics import confusion_matrix\n",
    "from sklearn.metrics import classification_report\n",
    "tn, fp, fn, tp = confusion_matrix(df['SURVIVAL_STATUS'], pred,labels=[0,1]).ravel()\n",
    "cm=confusion_matrix(df['SURVIVAL_STATUS'], pred,labels=[0,1]).ravel()\n",
    "total=sum(cm)\n",
    "accuracy=(tp+tn)/(tp+tn+fn+fp)\n",
    "sensitivity = tp/(tp+fn)\n",
    "specificity = tn/(tn+fp)\n",
    "print('Specificity : ', specificity)\n",
    "print('Sensitivity : ', sensitivity )\n",
    "print ('Accuracy : ', accuracy)\n",
    "print('Confusion Matrix : \\n', cm)"
   ]
  },
  {
   "cell_type": "code",
   "execution_count": 157,
   "metadata": {},
   "outputs": [
    {
     "name": "stderr",
     "output_type": "stream",
     "text": [
      "[Parallel(n_jobs=20)]: Using backend LokyBackend with 20 concurrent workers.\n",
      "[Parallel(n_jobs=20)]: Done   1 out of   1 | elapsed:    0.6s finished\n"
     ]
    },
    {
     "data": {
      "text/plain": [
       "VotingClassifier(estimators=[('logreg',\n",
       "                              LogisticRegression(C=0.01,\n",
       "                                                 class_weight='balanced',\n",
       "                                                 dual=False, fit_intercept=True,\n",
       "                                                 intercept_scaling=1,\n",
       "                                                 l1_ratio=None, max_iter=300,\n",
       "                                                 multi_class='ovr', n_jobs=20,\n",
       "                                                 penalty='l2',\n",
       "                                                 random_state=None,\n",
       "                                                 solver='lbfgs', tol=0.0001,\n",
       "                                                 verbose=1, warm_start=False)),\n",
       "                             ('random_forest',\n",
       "                              RandomForestClassifier(bootstrap=True,\n",
       "                                                     class_weight='b...\n",
       "                                            objective='binary:logistic',\n",
       "                                            random_state=0, reg_alpha=0.1,\n",
       "                                            reg_lambda=1, scale_pos_weight=0.4,\n",
       "                                            seed=None, silent=None, subsample=1,\n",
       "                                            verbosity=1)),\n",
       "                             ('knn',\n",
       "                              KNeighborsClassifier(algorithm='auto',\n",
       "                                                   leaf_size=30,\n",
       "                                                   metric='minkowski',\n",
       "                                                   metric_params=None,\n",
       "                                                   n_jobs=None, n_neighbors=43,\n",
       "                                                   p=8, weights='distance'))],\n",
       "                 flatten_transform=True, n_jobs=None, voting='hard',\n",
       "                 weights=None)"
      ]
     },
     "execution_count": 157,
     "metadata": {},
     "output_type": "execute_result"
    }
   ],
   "source": [
    "from sklearn.ensemble import VotingClassifier\n",
    "\n",
    "voting_classifier = VotingClassifier(estimators=[\n",
    "    ('logreg',lr1), \n",
    "    ('random_forest', randomforest),\n",
    "    ('lgb', model2),\n",
    "    ('xgb',model1), \n",
    "    ('knn', knn)],voting='hard')\n",
    "voting_classifier.fit(X_train,y_train)"
   ]
  },
  {
   "cell_type": "code",
   "execution_count": 158,
   "metadata": {},
   "outputs": [
    {
     "name": "stdout",
     "output_type": "stream",
     "text": [
      "Specificity :  0.8604651162790697\n",
      "Sensitivity :  0.9923664122137404\n",
      "Accuracy :  0.9597701149425287\n",
      "Confusion Matrix : \n",
      " [ 37   6   1 130]\n"
     ]
    }
   ],
   "source": [
    "pred=voting_classifier.predict(X)\n",
    "from sklearn.metrics import confusion_matrix\n",
    "from sklearn.metrics import classification_report\n",
    "tn, fp, fn, tp = confusion_matrix(df['SURVIVAL_STATUS'], pred,labels=[0,1]).ravel()\n",
    "cm=confusion_matrix(df['SURVIVAL_STATUS'], pred,labels=[0,1]).ravel()\n",
    "total=sum(cm)\n",
    "accuracy=(tp+tn)/(tp+tn+fn+fp)\n",
    "sensitivity = tp/(tp+fn)\n",
    "specificity = tn/(tn+fp)\n",
    "print('Specificity : ', specificity)\n",
    "print('Sensitivity : ', sensitivity )\n",
    "print ('Accuracy : ', accuracy)\n",
    "print('Confusion Matrix : \\n', cm)"
   ]
  },
  {
   "cell_type": "code",
   "execution_count": 159,
   "metadata": {},
   "outputs": [
    {
     "data": {
      "text/plain": [
       "0.926415764246405"
      ]
     },
     "execution_count": 159,
     "metadata": {},
     "output_type": "execute_result"
    }
   ],
   "source": [
    "roc_auc_score(df['SURVIVAL_STATUS'], pred)"
   ]
  },
  {
   "cell_type": "code",
   "execution_count": 144,
   "metadata": {},
   "outputs": [
    {
     "name": "stdout",
     "output_type": "stream",
     "text": [
      "              precision    recall  f1-score   support\n",
      "\n",
      "           0       0.97      0.86      0.91        43\n",
      "           1       0.96      0.99      0.97       131\n",
      "\n",
      "    accuracy                           0.96       174\n",
      "   macro avg       0.96      0.93      0.94       174\n",
      "weighted avg       0.96      0.96      0.96       174\n",
      "\n"
     ]
    }
   ],
   "source": [
    "print(classification_report(y, pred))"
   ]
  },
  {
   "cell_type": "code",
   "execution_count": 145,
   "metadata": {},
   "outputs": [],
   "source": [
    "from mlxtend.classifier import StackingCVClassifier\n",
    "lr = LogisticRegression(C=0.01)\n",
    "sclf = StackingCVClassifier(classifiers = [lr1, randomforest, model1, knn],\n",
    "                            shuffle = False,\n",
    "                            use_probas = True,\n",
    "                            cv = 5,\n",
    "                            meta_classifier = lr1)"
   ]
  },
  {
   "cell_type": "code",
   "execution_count": 146,
   "metadata": {},
   "outputs": [
    {
     "name": "stderr",
     "output_type": "stream",
     "text": [
      "[Parallel(n_jobs=20)]: Using backend LokyBackend with 20 concurrent workers.\n",
      "[Parallel(n_jobs=20)]: Done   1 out of   1 | elapsed:    0.6s finished\n",
      "[Parallel(n_jobs=20)]: Using backend LokyBackend with 20 concurrent workers.\n",
      "[Parallel(n_jobs=20)]: Done   1 out of   1 | elapsed:    0.6s finished\n",
      "[Parallel(n_jobs=20)]: Using backend LokyBackend with 20 concurrent workers.\n",
      "[Parallel(n_jobs=20)]: Done   1 out of   1 | elapsed:    0.6s finished\n",
      "[Parallel(n_jobs=20)]: Using backend LokyBackend with 20 concurrent workers.\n",
      "[Parallel(n_jobs=20)]: Done   1 out of   1 | elapsed:    0.6s finished\n",
      "[Parallel(n_jobs=20)]: Using backend LokyBackend with 20 concurrent workers.\n",
      "[Parallel(n_jobs=20)]: Done   1 out of   1 | elapsed:    0.6s finished\n",
      "[Parallel(n_jobs=20)]: Using backend LokyBackend with 20 concurrent workers.\n",
      "[Parallel(n_jobs=20)]: Done   1 out of   1 | elapsed:    0.7s finished\n",
      "[Parallel(n_jobs=20)]: Using backend LokyBackend with 20 concurrent workers.\n",
      "[Parallel(n_jobs=20)]: Done   1 out of   1 | elapsed:    0.6s finished\n"
     ]
    },
    {
     "data": {
      "text/plain": [
       "StackingCVClassifier(classifiers=[LogisticRegression(C=0.01,\n",
       "                                                     class_weight='balanced',\n",
       "                                                     dual=False,\n",
       "                                                     fit_intercept=True,\n",
       "                                                     intercept_scaling=1,\n",
       "                                                     l1_ratio=None,\n",
       "                                                     max_iter=300,\n",
       "                                                     multi_class='ovr',\n",
       "                                                     n_jobs=20, penalty='l2',\n",
       "                                                     random_state=None,\n",
       "                                                     solver='lbfgs', tol=0.0001,\n",
       "                                                     verbose=1,\n",
       "                                                     warm_start=False),\n",
       "                                  RandomForestClassifier(bootstrap=True,\n",
       "                                                         class_weight='balanced_subsample',\n",
       "                                                         crit...\n",
       "                                                        fit_intercept=True,\n",
       "                                                        intercept_scaling=1,\n",
       "                                                        l1_ratio=None,\n",
       "                                                        max_iter=300,\n",
       "                                                        multi_class='ovr',\n",
       "                                                        n_jobs=20, penalty='l2',\n",
       "                                                        random_state=None,\n",
       "                                                        solver='lbfgs',\n",
       "                                                        tol=0.0001, verbose=1,\n",
       "                                                        warm_start=False),\n",
       "                     n_jobs=None, pre_dispatch='2*n_jobs', random_state=None,\n",
       "                     shuffle=False, store_train_meta_features=False,\n",
       "                     stratify=True, use_clones=True,\n",
       "                     use_features_in_secondary=False, use_probas=True,\n",
       "                     verbose=0)"
      ]
     },
     "execution_count": 146,
     "metadata": {},
     "output_type": "execute_result"
    }
   ],
   "source": [
    "sclf.fit(X_train, y_train)"
   ]
  },
  {
   "cell_type": "code",
   "execution_count": 147,
   "metadata": {},
   "outputs": [
    {
     "name": "stdout",
     "output_type": "stream",
     "text": [
      "Specificity :  0.9069767441860465\n",
      "Sensitivity :  0.816793893129771\n",
      "Accuracy :  0.8390804597701149\n",
      "Confusion Matrix : \n",
      " [ 39   4  24 107]\n"
     ]
    }
   ],
   "source": [
    "pred=sclf.predict(X)\n",
    "from sklearn.metrics import confusion_matrix\n",
    "from sklearn.metrics import classification_report\n",
    "tn, fp, fn, tp = confusion_matrix(df['SURVIVAL_STATUS'], pred,labels=[0,1]).ravel()\n",
    "cm=confusion_matrix(df['SURVIVAL_STATUS'], pred,labels=[0,1]).ravel()\n",
    "total=sum(cm)\n",
    "accuracy=(tp+tn)/(tp+tn+fn+fp)\n",
    "sensitivity = tp/(tp+fn)\n",
    "specificity = tn/(tn+fp)\n",
    "print('Specificity : ', specificity)\n",
    "print('Sensitivity : ', sensitivity )\n",
    "print ('Accuracy : ', accuracy)\n",
    "print('Confusion Matrix : \\n', cm)"
   ]
  },
  {
   "cell_type": "code",
   "execution_count": 148,
   "metadata": {},
   "outputs": [
    {
     "data": {
      "text/plain": [
       "0.8618853186579088"
      ]
     },
     "execution_count": 148,
     "metadata": {},
     "output_type": "execute_result"
    }
   ],
   "source": [
    "roc_auc_score(df['SURVIVAL_STATUS'], pred)"
   ]
  }
 ],
 "metadata": {
  "kernelspec": {
   "display_name": "Python 3",
   "language": "python",
   "name": "python3"
  },
  "language_info": {
   "codemirror_mode": {
    "name": "ipython",
    "version": 3
   },
   "file_extension": ".py",
   "mimetype": "text/x-python",
   "name": "python",
   "nbconvert_exporter": "python",
   "pygments_lexer": "ipython3",
   "version": "3.7.5"
  }
 },
 "nbformat": 4,
 "nbformat_minor": 4
}
